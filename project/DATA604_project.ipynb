{
  "nbformat": 4,
  "nbformat_minor": 0,
  "metadata": {
    "colab": {
      "name": "DATA604 project.ipynb",
      "provenance": [],
      "collapsed_sections": [
        "N1pwOj8KVy6e",
        "2jZkaMBeW_sn",
        "GBYSMhN0Xk_u",
        "jNkiV68SZq1I",
        "sqQgT-TPdOBT",
        "suO5ZiHcb05a"
      ]
    },
    "kernelspec": {
      "name": "python3",
      "display_name": "Python 3"
    },
    "language_info": {
      "name": "python"
    }
  },
  "cells": [
    {
      "cell_type": "markdown",
      "metadata": {
        "id": "z4C0d-WFaV93"
      },
      "source": [
        "#Background Information/Buisness Question"
      ]
    },
    {
      "cell_type": "markdown",
      "metadata": {
        "id": "kDyLPPdGvt7e"
      },
      "source": [
        "The Baltimore Police Agency launched a massive overhaul to its new Records Management Systems back in May 2020. The improvement will enable the department to migrate from a paper-based system to a completely digital reporting environment. As a consequence of this major shift, we had significant difficulties in appropriately transferring data from the new records system to the previous Open Data Baltimore system. The \"Arrests\" dataset is one of many open datasets made publicly accessible by Baltimore's police department on the city's Open Data website. This information is provided to us in order to foster more openness and data exchange between the local administration and its residents. This dataset contains arrest records for offenses such as assault, theft, and property damage in the City of Baltimore. [1]\n",
        "\n",
        "I want to use their database create a model that predicts which district a crime occurs based on various details related to the arrest of the perpetrator such as what he or she was charged with, their gender, etc. My hope with this model is that the department can then use this model to efficiently spread their resources tackling the more likely arrests that would be made in a certain district as well as modify their policing efforts to decrease bias in said policing efforts in certain districts (if any).\n",
        "\n",
        "[1] “Baltimore Police Department.” Crime Stats | Baltimore Police Department, https://www.baltimorepolice.org/crime-stats. "
      ]
    },
    {
      "cell_type": "markdown",
      "metadata": {
        "id": "m6f6iXojK0CW"
      },
      "source": [
        "#Accessing The Data\n",
        "We begin where all great classification problems begin. Getting the data. Since I am using Google Colab for my analysis, I must upload Arrests.csv prior to actually importing it. Afterwards, I use a simple .read_csv method and check the general info of the dataframe so I know what im working with."
      ]
    },
    {
      "cell_type": "code",
      "source": [
        "!pip install pyspark"
      ],
      "metadata": {
        "colab": {
          "base_uri": "https://localhost:8080/"
        },
        "id": "c_re3M8X-f4B",
        "outputId": "69927770-e2ff-46b0-8f27-63e5011074fe"
      },
      "execution_count": null,
      "outputs": [
        {
          "output_type": "stream",
          "name": "stdout",
          "text": [
            "Requirement already satisfied: pyspark in /usr/local/lib/python3.7/dist-packages (3.2.1)\n",
            "Requirement already satisfied: py4j==0.10.9.3 in /usr/local/lib/python3.7/dist-packages (from pyspark) (0.10.9.3)\n"
          ]
        }
      ]
    },
    {
      "cell_type": "code",
      "source": [
        "import pyspark\n",
        "from pyspark.sql import SparkSession\n",
        "\n",
        "spark = SparkSession.builder.appName('DATA604FinalProject').getOrCreate()"
      ],
      "metadata": {
        "id": "Vsx1Yfyl-e6f"
      },
      "execution_count": null,
      "outputs": []
    },
    {
      "cell_type": "code",
      "source": [
        "pysparkDF = spark.read.csv(\"Arrests.csv\", header = True, inferSchema= True)"
      ],
      "metadata": {
        "id": "W5TzhRTq-uWn"
      },
      "execution_count": null,
      "outputs": []
    },
    {
      "cell_type": "code",
      "source": [
        "pysparkDF.show(5)"
      ],
      "metadata": {
        "colab": {
          "base_uri": "https://localhost:8080/"
        },
        "id": "ucNx5nLo_D1N",
        "outputId": "f3dbb9fb-b6de-42c7-978e-6adfa51e24d9"
      },
      "execution_count": null,
      "outputs": [
        {
          "output_type": "stream",
          "name": "stdout",
          "text": [
            "+----------------+----------------+-----+------------+---+------+----+--------------------+--------------------+--------------------+--------------------+------+------------------+---------+----+--------------------+--------+---------+------------------+-----+\n",
            "|               X|               Y|RowID|ArrestNumber|Age|Gender|Race|      ArrestDateTime|      ArrestLocation|     IncidentOffence|    IncidentLocation|Charge| ChargeDescription| District|Post|        Neighborhood|Latitude|Longitude|       GeoLocation|Shape|\n",
            "+----------------+----------------+-----+------------+---+------+----+--------------------+--------------------+--------------------+--------------------+------+------------------+---------+----+--------------------+--------+---------+------------------+-----+\n",
            "|1406788.19234056|597678.129188125|    1|    21000024| 27|     M|   B|2020/12/31 23:50:...|    2900 PRESBURY ST|96BINVESTIGATIVE ...|    2900 PRESBURY ST|1 0692|HAND GUN VIOLATION|Southwest| 813|Northwest Communi...| 39.3073| -76.6662|(39.3073,-76.6662)| null|\n",
            "|1412063.29442901|594601.943893425|    2|    21000021| 45|     F|   B|2020/12/31 23:45:...|       900 MONROE ST|     Unknown Offense|       900 MONROE ST|2 0480|        AUTO THEFT|  Western| 722|   Midtown-Edmondson| 39.2988| -76.6476|(39.2988,-76.6476)| null|\n",
            "|1404120.10336977| 584046.13042343|    3|    21000011| 42|     F|   W|2020/12/31 23:40:...|1000 PINE HEIGHTS...|     Unknown Offense|1000 PINE HEIGHTS...|1 1415|2ND DEGREE ASSAULT|Southwest| 832|         Violetville| 39.2699| -76.6758|(39.2699,-76.6758)| null|\n",
            "|1418872.36306095| 576745.23520595|    4|    21000006| 26|     M|   B|2020/12/31 21:45:...|  700 CHERRY HILL RD|     Unknown Offense|  700 CHERRY HILL RD|1 0233|              PWID| Southern| 922|         Cherry Hill| 39.2497| -76.6238|(39.2497,-76.6238)| null|\n",
            "|1418872.36306095| 576745.23520595|    5|    21000014| 19|     M|   B|2020/12/31 21:45:...|  700 CHERRY HILL RD|     Unknown Offense|  700 CHERRY HILL RD|1 0233|              PWID| Southern| 922|         Cherry Hill| 39.2497| -76.6238|(39.2497,-76.6238)| null|\n",
            "+----------------+----------------+-----+------------+---+------+----+--------------------+--------------------+--------------------+--------------------+------+------------------+---------+----+--------------------+--------+---------+------------------+-----+\n",
            "only showing top 5 rows\n",
            "\n"
          ]
        }
      ]
    },
    {
      "cell_type": "code",
      "source": [
        "pysparkDF.dtypes"
      ],
      "metadata": {
        "colab": {
          "base_uri": "https://localhost:8080/"
        },
        "id": "24kLKfHS_aEW",
        "outputId": "5eedb214-f26f-4222-cb13-4e9255d5d37c"
      },
      "execution_count": null,
      "outputs": [
        {
          "output_type": "execute_result",
          "data": {
            "text/plain": [
              "[('X', 'double'),\n",
              " ('Y', 'double'),\n",
              " ('RowID', 'int'),\n",
              " ('ArrestNumber', 'int'),\n",
              " ('Age', 'int'),\n",
              " ('Gender', 'string'),\n",
              " ('Race', 'string'),\n",
              " ('ArrestDateTime', 'string'),\n",
              " ('ArrestLocation', 'string'),\n",
              " ('IncidentOffence', 'string'),\n",
              " ('IncidentLocation', 'string'),\n",
              " ('Charge', 'string'),\n",
              " ('ChargeDescription', 'string'),\n",
              " ('District', 'string'),\n",
              " ('Post', 'string'),\n",
              " ('Neighborhood', 'string'),\n",
              " ('Latitude', 'double'),\n",
              " ('Longitude', 'double'),\n",
              " ('GeoLocation', 'string'),\n",
              " ('Shape', 'string')]"
            ]
          },
          "metadata": {},
          "execution_count": 5
        }
      ]
    },
    {
      "cell_type": "code",
      "source": [
        "import pandas as pd\n",
        "dfConverted = pysparkDF.toPandas()"
      ],
      "metadata": {
        "id": "uMH2Q3Wz_qMX"
      },
      "execution_count": null,
      "outputs": []
    },
    {
      "cell_type": "code",
      "metadata": {
        "colab": {
          "base_uri": "https://localhost:8080/",
          "height": 1000
        },
        "id": "w_bvGhz2fpf8",
        "outputId": "90742384-4752-4143-d0d0-00b0cd405d19"
      },
      "source": [
        "import pandas as pd\n",
        "print(dfConverted.info())\n",
        "print(dfConverted.describe(include='all'))\n",
        "dfConverted"
      ],
      "execution_count": null,
      "outputs": [
        {
          "output_type": "stream",
          "name": "stdout",
          "text": [
            "<class 'pandas.core.frame.DataFrame'>\n",
            "RangeIndex: 175923 entries, 0 to 175922\n",
            "Data columns (total 20 columns):\n",
            " #   Column             Non-Null Count   Dtype  \n",
            "---  ------             --------------   -----  \n",
            " 0   X                  90128 non-null   float64\n",
            " 1   Y                  90128 non-null   float64\n",
            " 2   RowID              175923 non-null  int32  \n",
            " 3   ArrestNumber       167697 non-null  float64\n",
            " 4   Age                175836 non-null  float64\n",
            " 5   Gender             175884 non-null  object \n",
            " 6   Race               175884 non-null  object \n",
            " 7   ArrestDateTime     175923 non-null  object \n",
            " 8   ArrestLocation     91488 non-null   object \n",
            " 9   IncidentOffence    175923 non-null  object \n",
            " 10  IncidentLocation   91488 non-null   object \n",
            " 11  Charge             156541 non-null  object \n",
            " 12  ChargeDescription  175923 non-null  object \n",
            " 13  District           89891 non-null   object \n",
            " 14  Post               89891 non-null   object \n",
            " 15  Neighborhood       89870 non-null   object \n",
            " 16  Latitude           90128 non-null   float64\n",
            " 17  Longitude          90128 non-null   float64\n",
            " 18  GeoLocation        175923 non-null  object \n",
            " 19  Shape              0 non-null       object \n",
            "dtypes: float64(6), int32(1), object(13)\n",
            "memory usage: 26.2+ MB\n",
            "None\n",
            "                   X              Y          RowID  ArrestNumber  \\\n",
            "count   9.012800e+04   90128.000000  175923.000000  1.676970e+05   \n",
            "unique           NaN            NaN            NaN           NaN   \n",
            "top              NaN            NaN            NaN           NaN   \n",
            "freq             NaN            NaN            NaN           NaN   \n",
            "mean    1.426844e+06  595932.690954   87962.000000  1.685530e+07   \n",
            "std     4.451277e+05   24627.921490   50784.740041  2.190806e+06   \n",
            "min     1.182528e+06 -948896.130248       1.000000  1.400004e+07   \n",
            "25%     1.412248e+06  590765.694569   43981.500000  1.504644e+07   \n",
            "50%     1.420570e+06  595527.211391   87962.000000  1.700828e+07   \n",
            "75%     1.428985e+06  601583.794139  131942.500000  1.900568e+07   \n",
            "max     3.207084e+07  698804.357792  175923.000000  2.114922e+07   \n",
            "\n",
            "                  Age  Gender    Race          ArrestDateTime  \\\n",
            "count   175836.000000  175884  175884                  175923   \n",
            "unique            NaN       2       5                  130835   \n",
            "top               NaN       M       B  2015/04/27 20:00:00+00   \n",
            "freq              NaN  142091  144592                      22   \n",
            "mean        32.965565     NaN     NaN                     NaN   \n",
            "std         11.421015     NaN     NaN                     NaN   \n",
            "min         14.000000     NaN     NaN                     NaN   \n",
            "25%         24.000000     NaN     NaN                     NaN   \n",
            "50%         30.000000     NaN     NaN                     NaN   \n",
            "75%         40.000000     NaN     NaN                     NaN   \n",
            "max        100.000000     NaN     NaN                     NaN   \n",
            "\n",
            "         ArrestLocation  IncidentOffence IncidentLocation  Charge  \\\n",
            "count             91488           175923            91488  156541   \n",
            "unique            17805              172            17805     654   \n",
            "top     1500 RUSSELL ST  Unknown Offense  1500 RUSSELL ST  1 1415   \n",
            "freq                492            91417              492   32376   \n",
            "mean                NaN              NaN              NaN     NaN   \n",
            "std                 NaN              NaN              NaN     NaN   \n",
            "min                 NaN              NaN              NaN     NaN   \n",
            "25%                 NaN              NaN              NaN     NaN   \n",
            "50%                 NaN              NaN              NaN     NaN   \n",
            "75%                 NaN              NaN              NaN     NaN   \n",
            "max                 NaN              NaN              NaN     NaN   \n",
            "\n",
            "        ChargeDescription  District   Post Neighborhood      Latitude  \\\n",
            "count              175923     89891  89891        89870  90128.000000   \n",
            "unique               7028         9    127          277           NaN   \n",
            "top     FAILURE TO APPEAR  Southern    114     Downtown           NaN   \n",
            "freq                27580     11771   2504         3904           NaN   \n",
            "mean                  NaN       NaN    NaN          NaN     39.294963   \n",
            "std                   NaN       NaN    NaN          NaN      0.571283   \n",
            "min                   NaN       NaN    NaN          NaN      0.000000   \n",
            "25%                   NaN       NaN    NaN          NaN     39.288200   \n",
            "50%                   NaN       NaN    NaN          NaN     39.301200   \n",
            "75%                   NaN       NaN    NaN          NaN     39.317900   \n",
            "max                   NaN       NaN    NaN          NaN     39.585400   \n",
            "\n",
            "           Longitude GeoLocation Shape  \n",
            "count   90128.000000      175923     0  \n",
            "unique           NaN       23944     0  \n",
            "top              NaN         (,)   NaN  \n",
            "freq             NaN       85795   NaN  \n",
            "mean      -76.602029         NaN   NaN  \n",
            "std         1.113072         NaN   NaN  \n",
            "min       -77.459400         NaN   NaN  \n",
            "25%       -76.647000         NaN   NaN  \n",
            "50%       -76.617600         NaN   NaN  \n",
            "75%       -76.588000         NaN   NaN  \n",
            "max         0.000000         NaN   NaN  \n"
          ]
        },
        {
          "output_type": "execute_result",
          "data": {
            "text/plain": [
              "                   X              Y   RowID  ArrestNumber   Age Gender Race  \\\n",
              "0       1.406788e+06  597678.129188       1    21000024.0  27.0      M    B   \n",
              "1       1.412063e+06  594601.943893       2    21000021.0  45.0      F    B   \n",
              "2       1.404120e+06  584046.130423       3    21000011.0  42.0      F    W   \n",
              "3       1.418872e+06  576745.235206       4    21000006.0  26.0      M    B   \n",
              "4       1.418872e+06  576745.235206       5    21000014.0  19.0      M    B   \n",
              "...              ...            ...     ...           ...   ...    ...  ...   \n",
              "175918  1.435069e+06  601038.749707  175919    14000113.0  35.0      M    B   \n",
              "175919  1.405318e+06  589513.916091  175920    14000148.0  41.0      M    B   \n",
              "175920  1.405318e+06  589513.916091  175921    14000140.0  36.0      F    B   \n",
              "175921  1.405318e+06  589513.916091  175922    14000135.0  30.0      M    B   \n",
              "175922           NaN            NaN  175923    14000265.0  47.0      M    W   \n",
              "\n",
              "                ArrestDateTime         ArrestLocation         IncidentOffence  \\\n",
              "0       2020/12/31 23:50:00+00       2900 PRESBURY ST   96BINVESTIGATIVE STOP   \n",
              "1       2020/12/31 23:45:00+00          900 MONROE ST         Unknown Offense   \n",
              "2       2020/12/31 23:40:00+00  1000 PINE HEIGHTS AVE         Unknown Offense   \n",
              "3       2020/12/31 21:45:00+00     700 CHERRY HILL RD         Unknown Offense   \n",
              "4       2020/12/31 21:45:00+00     700 CHERRY HILL RD         Unknown Offense   \n",
              "...                        ...                    ...                     ...   \n",
              "175918  2014/01/01 00:05:00+00        3700 ELMORA AVE         Unknown Offense   \n",
              "175919  2014/01/01 00:05:00+00          3200 LOHRS LN  83DISCHARGING FIREARM    \n",
              "175920  2014/01/01 00:05:00+00          3200 LOHRS LN  83DISCHARGING FIREARM    \n",
              "175921  2014/01/01 00:05:00+00          3200 LOHRS LN  83DISCHARGING FIREARM    \n",
              "175922  2014/01/01 00:00:00+00                   None         Unknown Offense   \n",
              "\n",
              "             IncidentLocation  Charge              ChargeDescription  \\\n",
              "0            2900 PRESBURY ST  1 0692             HAND GUN VIOLATION   \n",
              "1               900 MONROE ST  2 0480                     AUTO THEFT   \n",
              "2       1000 PINE HEIGHTS AVE  1 1415             2ND DEGREE ASSAULT   \n",
              "3          700 CHERRY HILL RD  1 0233                           PWID   \n",
              "4          700 CHERRY HILL RD  1 0233                           PWID   \n",
              "...                       ...     ...                            ...   \n",
              "175918        3700 ELMORA AVE  1 1609              FIREARM VIOLATION   \n",
              "175919          3200 LOHRS LN  1 5212                    DISCHARGING   \n",
              "175920          3200 LOHRS LN  1 5212                    DISCHARGING   \n",
              "175921          3200 LOHRS LN  1 5212                            HGV   \n",
              "175922                   None  2 1134  SEX OFF REG-FAIL NOTIFY/INCLD   \n",
              "\n",
              "         District  Post                Neighborhood  Latitude  Longitude  \\\n",
              "0       Southwest   813  Northwest Community Action   39.3073   -76.6662   \n",
              "1         Western   722           Midtown-Edmondson   39.2988   -76.6476   \n",
              "2       Southwest   832                 Violetville   39.2699   -76.6758   \n",
              "3        Southern   922                 Cherry Hill   39.2497   -76.6238   \n",
              "4        Southern   922                 Cherry Hill   39.2497   -76.6238   \n",
              "...           ...   ...                         ...       ...        ...   \n",
              "175918  Northeast   432               Belair-Edison   39.3162   -76.5662   \n",
              "175919  Southwest   835        Carroll-South Hilton   39.2849   -76.6715   \n",
              "175920  Southwest   835        Carroll-South Hilton   39.2849   -76.6715   \n",
              "175921  Southwest   835        Carroll-South Hilton   39.2849   -76.6715   \n",
              "175922       None  None                        None       NaN        NaN   \n",
              "\n",
              "               GeoLocation Shape  \n",
              "0       (39.3073,-76.6662)  None  \n",
              "1       (39.2988,-76.6476)  None  \n",
              "2       (39.2699,-76.6758)  None  \n",
              "3       (39.2497,-76.6238)  None  \n",
              "4       (39.2497,-76.6238)  None  \n",
              "...                    ...   ...  \n",
              "175918  (39.3162,-76.5662)  None  \n",
              "175919  (39.2849,-76.6715)  None  \n",
              "175920  (39.2849,-76.6715)  None  \n",
              "175921  (39.2849,-76.6715)  None  \n",
              "175922                 (,)  None  \n",
              "\n",
              "[175923 rows x 20 columns]"
            ],
            "text/html": [
              "\n",
              "  <div id=\"df-83cd3dab-da1a-4ca8-9e98-5419ba90399a\">\n",
              "    <div class=\"colab-df-container\">\n",
              "      <div>\n",
              "<style scoped>\n",
              "    .dataframe tbody tr th:only-of-type {\n",
              "        vertical-align: middle;\n",
              "    }\n",
              "\n",
              "    .dataframe tbody tr th {\n",
              "        vertical-align: top;\n",
              "    }\n",
              "\n",
              "    .dataframe thead th {\n",
              "        text-align: right;\n",
              "    }\n",
              "</style>\n",
              "<table border=\"1\" class=\"dataframe\">\n",
              "  <thead>\n",
              "    <tr style=\"text-align: right;\">\n",
              "      <th></th>\n",
              "      <th>X</th>\n",
              "      <th>Y</th>\n",
              "      <th>RowID</th>\n",
              "      <th>ArrestNumber</th>\n",
              "      <th>Age</th>\n",
              "      <th>Gender</th>\n",
              "      <th>Race</th>\n",
              "      <th>ArrestDateTime</th>\n",
              "      <th>ArrestLocation</th>\n",
              "      <th>IncidentOffence</th>\n",
              "      <th>IncidentLocation</th>\n",
              "      <th>Charge</th>\n",
              "      <th>ChargeDescription</th>\n",
              "      <th>District</th>\n",
              "      <th>Post</th>\n",
              "      <th>Neighborhood</th>\n",
              "      <th>Latitude</th>\n",
              "      <th>Longitude</th>\n",
              "      <th>GeoLocation</th>\n",
              "      <th>Shape</th>\n",
              "    </tr>\n",
              "  </thead>\n",
              "  <tbody>\n",
              "    <tr>\n",
              "      <th>0</th>\n",
              "      <td>1.406788e+06</td>\n",
              "      <td>597678.129188</td>\n",
              "      <td>1</td>\n",
              "      <td>21000024.0</td>\n",
              "      <td>27.0</td>\n",
              "      <td>M</td>\n",
              "      <td>B</td>\n",
              "      <td>2020/12/31 23:50:00+00</td>\n",
              "      <td>2900 PRESBURY ST</td>\n",
              "      <td>96BINVESTIGATIVE STOP</td>\n",
              "      <td>2900 PRESBURY ST</td>\n",
              "      <td>1 0692</td>\n",
              "      <td>HAND GUN VIOLATION</td>\n",
              "      <td>Southwest</td>\n",
              "      <td>813</td>\n",
              "      <td>Northwest Community Action</td>\n",
              "      <td>39.3073</td>\n",
              "      <td>-76.6662</td>\n",
              "      <td>(39.3073,-76.6662)</td>\n",
              "      <td>None</td>\n",
              "    </tr>\n",
              "    <tr>\n",
              "      <th>1</th>\n",
              "      <td>1.412063e+06</td>\n",
              "      <td>594601.943893</td>\n",
              "      <td>2</td>\n",
              "      <td>21000021.0</td>\n",
              "      <td>45.0</td>\n",
              "      <td>F</td>\n",
              "      <td>B</td>\n",
              "      <td>2020/12/31 23:45:00+00</td>\n",
              "      <td>900 MONROE ST</td>\n",
              "      <td>Unknown Offense</td>\n",
              "      <td>900 MONROE ST</td>\n",
              "      <td>2 0480</td>\n",
              "      <td>AUTO THEFT</td>\n",
              "      <td>Western</td>\n",
              "      <td>722</td>\n",
              "      <td>Midtown-Edmondson</td>\n",
              "      <td>39.2988</td>\n",
              "      <td>-76.6476</td>\n",
              "      <td>(39.2988,-76.6476)</td>\n",
              "      <td>None</td>\n",
              "    </tr>\n",
              "    <tr>\n",
              "      <th>2</th>\n",
              "      <td>1.404120e+06</td>\n",
              "      <td>584046.130423</td>\n",
              "      <td>3</td>\n",
              "      <td>21000011.0</td>\n",
              "      <td>42.0</td>\n",
              "      <td>F</td>\n",
              "      <td>W</td>\n",
              "      <td>2020/12/31 23:40:00+00</td>\n",
              "      <td>1000 PINE HEIGHTS AVE</td>\n",
              "      <td>Unknown Offense</td>\n",
              "      <td>1000 PINE HEIGHTS AVE</td>\n",
              "      <td>1 1415</td>\n",
              "      <td>2ND DEGREE ASSAULT</td>\n",
              "      <td>Southwest</td>\n",
              "      <td>832</td>\n",
              "      <td>Violetville</td>\n",
              "      <td>39.2699</td>\n",
              "      <td>-76.6758</td>\n",
              "      <td>(39.2699,-76.6758)</td>\n",
              "      <td>None</td>\n",
              "    </tr>\n",
              "    <tr>\n",
              "      <th>3</th>\n",
              "      <td>1.418872e+06</td>\n",
              "      <td>576745.235206</td>\n",
              "      <td>4</td>\n",
              "      <td>21000006.0</td>\n",
              "      <td>26.0</td>\n",
              "      <td>M</td>\n",
              "      <td>B</td>\n",
              "      <td>2020/12/31 21:45:00+00</td>\n",
              "      <td>700 CHERRY HILL RD</td>\n",
              "      <td>Unknown Offense</td>\n",
              "      <td>700 CHERRY HILL RD</td>\n",
              "      <td>1 0233</td>\n",
              "      <td>PWID</td>\n",
              "      <td>Southern</td>\n",
              "      <td>922</td>\n",
              "      <td>Cherry Hill</td>\n",
              "      <td>39.2497</td>\n",
              "      <td>-76.6238</td>\n",
              "      <td>(39.2497,-76.6238)</td>\n",
              "      <td>None</td>\n",
              "    </tr>\n",
              "    <tr>\n",
              "      <th>4</th>\n",
              "      <td>1.418872e+06</td>\n",
              "      <td>576745.235206</td>\n",
              "      <td>5</td>\n",
              "      <td>21000014.0</td>\n",
              "      <td>19.0</td>\n",
              "      <td>M</td>\n",
              "      <td>B</td>\n",
              "      <td>2020/12/31 21:45:00+00</td>\n",
              "      <td>700 CHERRY HILL RD</td>\n",
              "      <td>Unknown Offense</td>\n",
              "      <td>700 CHERRY HILL RD</td>\n",
              "      <td>1 0233</td>\n",
              "      <td>PWID</td>\n",
              "      <td>Southern</td>\n",
              "      <td>922</td>\n",
              "      <td>Cherry Hill</td>\n",
              "      <td>39.2497</td>\n",
              "      <td>-76.6238</td>\n",
              "      <td>(39.2497,-76.6238)</td>\n",
              "      <td>None</td>\n",
              "    </tr>\n",
              "    <tr>\n",
              "      <th>...</th>\n",
              "      <td>...</td>\n",
              "      <td>...</td>\n",
              "      <td>...</td>\n",
              "      <td>...</td>\n",
              "      <td>...</td>\n",
              "      <td>...</td>\n",
              "      <td>...</td>\n",
              "      <td>...</td>\n",
              "      <td>...</td>\n",
              "      <td>...</td>\n",
              "      <td>...</td>\n",
              "      <td>...</td>\n",
              "      <td>...</td>\n",
              "      <td>...</td>\n",
              "      <td>...</td>\n",
              "      <td>...</td>\n",
              "      <td>...</td>\n",
              "      <td>...</td>\n",
              "      <td>...</td>\n",
              "      <td>...</td>\n",
              "    </tr>\n",
              "    <tr>\n",
              "      <th>175918</th>\n",
              "      <td>1.435069e+06</td>\n",
              "      <td>601038.749707</td>\n",
              "      <td>175919</td>\n",
              "      <td>14000113.0</td>\n",
              "      <td>35.0</td>\n",
              "      <td>M</td>\n",
              "      <td>B</td>\n",
              "      <td>2014/01/01 00:05:00+00</td>\n",
              "      <td>3700 ELMORA AVE</td>\n",
              "      <td>Unknown Offense</td>\n",
              "      <td>3700 ELMORA AVE</td>\n",
              "      <td>1 1609</td>\n",
              "      <td>FIREARM VIOLATION</td>\n",
              "      <td>Northeast</td>\n",
              "      <td>432</td>\n",
              "      <td>Belair-Edison</td>\n",
              "      <td>39.3162</td>\n",
              "      <td>-76.5662</td>\n",
              "      <td>(39.3162,-76.5662)</td>\n",
              "      <td>None</td>\n",
              "    </tr>\n",
              "    <tr>\n",
              "      <th>175919</th>\n",
              "      <td>1.405318e+06</td>\n",
              "      <td>589513.916091</td>\n",
              "      <td>175920</td>\n",
              "      <td>14000148.0</td>\n",
              "      <td>41.0</td>\n",
              "      <td>M</td>\n",
              "      <td>B</td>\n",
              "      <td>2014/01/01 00:05:00+00</td>\n",
              "      <td>3200 LOHRS LN</td>\n",
              "      <td>83DISCHARGING FIREARM</td>\n",
              "      <td>3200 LOHRS LN</td>\n",
              "      <td>1 5212</td>\n",
              "      <td>DISCHARGING</td>\n",
              "      <td>Southwest</td>\n",
              "      <td>835</td>\n",
              "      <td>Carroll-South Hilton</td>\n",
              "      <td>39.2849</td>\n",
              "      <td>-76.6715</td>\n",
              "      <td>(39.2849,-76.6715)</td>\n",
              "      <td>None</td>\n",
              "    </tr>\n",
              "    <tr>\n",
              "      <th>175920</th>\n",
              "      <td>1.405318e+06</td>\n",
              "      <td>589513.916091</td>\n",
              "      <td>175921</td>\n",
              "      <td>14000140.0</td>\n",
              "      <td>36.0</td>\n",
              "      <td>F</td>\n",
              "      <td>B</td>\n",
              "      <td>2014/01/01 00:05:00+00</td>\n",
              "      <td>3200 LOHRS LN</td>\n",
              "      <td>83DISCHARGING FIREARM</td>\n",
              "      <td>3200 LOHRS LN</td>\n",
              "      <td>1 5212</td>\n",
              "      <td>DISCHARGING</td>\n",
              "      <td>Southwest</td>\n",
              "      <td>835</td>\n",
              "      <td>Carroll-South Hilton</td>\n",
              "      <td>39.2849</td>\n",
              "      <td>-76.6715</td>\n",
              "      <td>(39.2849,-76.6715)</td>\n",
              "      <td>None</td>\n",
              "    </tr>\n",
              "    <tr>\n",
              "      <th>175921</th>\n",
              "      <td>1.405318e+06</td>\n",
              "      <td>589513.916091</td>\n",
              "      <td>175922</td>\n",
              "      <td>14000135.0</td>\n",
              "      <td>30.0</td>\n",
              "      <td>M</td>\n",
              "      <td>B</td>\n",
              "      <td>2014/01/01 00:05:00+00</td>\n",
              "      <td>3200 LOHRS LN</td>\n",
              "      <td>83DISCHARGING FIREARM</td>\n",
              "      <td>3200 LOHRS LN</td>\n",
              "      <td>1 5212</td>\n",
              "      <td>HGV</td>\n",
              "      <td>Southwest</td>\n",
              "      <td>835</td>\n",
              "      <td>Carroll-South Hilton</td>\n",
              "      <td>39.2849</td>\n",
              "      <td>-76.6715</td>\n",
              "      <td>(39.2849,-76.6715)</td>\n",
              "      <td>None</td>\n",
              "    </tr>\n",
              "    <tr>\n",
              "      <th>175922</th>\n",
              "      <td>NaN</td>\n",
              "      <td>NaN</td>\n",
              "      <td>175923</td>\n",
              "      <td>14000265.0</td>\n",
              "      <td>47.0</td>\n",
              "      <td>M</td>\n",
              "      <td>W</td>\n",
              "      <td>2014/01/01 00:00:00+00</td>\n",
              "      <td>None</td>\n",
              "      <td>Unknown Offense</td>\n",
              "      <td>None</td>\n",
              "      <td>2 1134</td>\n",
              "      <td>SEX OFF REG-FAIL NOTIFY/INCLD</td>\n",
              "      <td>None</td>\n",
              "      <td>None</td>\n",
              "      <td>None</td>\n",
              "      <td>NaN</td>\n",
              "      <td>NaN</td>\n",
              "      <td>(,)</td>\n",
              "      <td>None</td>\n",
              "    </tr>\n",
              "  </tbody>\n",
              "</table>\n",
              "<p>175923 rows × 20 columns</p>\n",
              "</div>\n",
              "      <button class=\"colab-df-convert\" onclick=\"convertToInteractive('df-83cd3dab-da1a-4ca8-9e98-5419ba90399a')\"\n",
              "              title=\"Convert this dataframe to an interactive table.\"\n",
              "              style=\"display:none;\">\n",
              "        \n",
              "  <svg xmlns=\"http://www.w3.org/2000/svg\" height=\"24px\"viewBox=\"0 0 24 24\"\n",
              "       width=\"24px\">\n",
              "    <path d=\"M0 0h24v24H0V0z\" fill=\"none\"/>\n",
              "    <path d=\"M18.56 5.44l.94 2.06.94-2.06 2.06-.94-2.06-.94-.94-2.06-.94 2.06-2.06.94zm-11 1L8.5 8.5l.94-2.06 2.06-.94-2.06-.94L8.5 2.5l-.94 2.06-2.06.94zm10 10l.94 2.06.94-2.06 2.06-.94-2.06-.94-.94-2.06-.94 2.06-2.06.94z\"/><path d=\"M17.41 7.96l-1.37-1.37c-.4-.4-.92-.59-1.43-.59-.52 0-1.04.2-1.43.59L10.3 9.45l-7.72 7.72c-.78.78-.78 2.05 0 2.83L4 21.41c.39.39.9.59 1.41.59.51 0 1.02-.2 1.41-.59l7.78-7.78 2.81-2.81c.8-.78.8-2.07 0-2.86zM5.41 20L4 18.59l7.72-7.72 1.47 1.35L5.41 20z\"/>\n",
              "  </svg>\n",
              "      </button>\n",
              "      \n",
              "  <style>\n",
              "    .colab-df-container {\n",
              "      display:flex;\n",
              "      flex-wrap:wrap;\n",
              "      gap: 12px;\n",
              "    }\n",
              "\n",
              "    .colab-df-convert {\n",
              "      background-color: #E8F0FE;\n",
              "      border: none;\n",
              "      border-radius: 50%;\n",
              "      cursor: pointer;\n",
              "      display: none;\n",
              "      fill: #1967D2;\n",
              "      height: 32px;\n",
              "      padding: 0 0 0 0;\n",
              "      width: 32px;\n",
              "    }\n",
              "\n",
              "    .colab-df-convert:hover {\n",
              "      background-color: #E2EBFA;\n",
              "      box-shadow: 0px 1px 2px rgba(60, 64, 67, 0.3), 0px 1px 3px 1px rgba(60, 64, 67, 0.15);\n",
              "      fill: #174EA6;\n",
              "    }\n",
              "\n",
              "    [theme=dark] .colab-df-convert {\n",
              "      background-color: #3B4455;\n",
              "      fill: #D2E3FC;\n",
              "    }\n",
              "\n",
              "    [theme=dark] .colab-df-convert:hover {\n",
              "      background-color: #434B5C;\n",
              "      box-shadow: 0px 1px 3px 1px rgba(0, 0, 0, 0.15);\n",
              "      filter: drop-shadow(0px 1px 2px rgba(0, 0, 0, 0.3));\n",
              "      fill: #FFFFFF;\n",
              "    }\n",
              "  </style>\n",
              "\n",
              "      <script>\n",
              "        const buttonEl =\n",
              "          document.querySelector('#df-83cd3dab-da1a-4ca8-9e98-5419ba90399a button.colab-df-convert');\n",
              "        buttonEl.style.display =\n",
              "          google.colab.kernel.accessAllowed ? 'block' : 'none';\n",
              "\n",
              "        async function convertToInteractive(key) {\n",
              "          const element = document.querySelector('#df-83cd3dab-da1a-4ca8-9e98-5419ba90399a');\n",
              "          const dataTable =\n",
              "            await google.colab.kernel.invokeFunction('convertToInteractive',\n",
              "                                                     [key], {});\n",
              "          if (!dataTable) return;\n",
              "\n",
              "          const docLinkHtml = 'Like what you see? Visit the ' +\n",
              "            '<a target=\"_blank\" href=https://colab.research.google.com/notebooks/data_table.ipynb>data table notebook</a>'\n",
              "            + ' to learn more about interactive tables.';\n",
              "          element.innerHTML = '';\n",
              "          dataTable['output_type'] = 'display_data';\n",
              "          await google.colab.output.renderOutput(dataTable, element);\n",
              "          const docLink = document.createElement('div');\n",
              "          docLink.innerHTML = docLinkHtml;\n",
              "          element.appendChild(docLink);\n",
              "        }\n",
              "      </script>\n",
              "    </div>\n",
              "  </div>\n",
              "  "
            ]
          },
          "metadata": {},
          "execution_count": 7
        }
      ]
    },
    {
      "cell_type": "markdown",
      "metadata": {
        "id": "0qB6FgVoMDXT"
      },
      "source": [
        "No Errors are seen which means I can move on to the EDA"
      ]
    },
    {
      "cell_type": "markdown",
      "metadata": {
        "id": "NxU8OftjaeQz"
      },
      "source": [
        "#EDA\n"
      ]
    },
    {
      "cell_type": "markdown",
      "metadata": {
        "id": "YlciduJwMf07"
      },
      "source": [
        "**Exploratory Data Analysis or EDA** is one of the most important steps in Data Analysis. During this step the data analyst thoroughly examines the dataset to ensure it is in the form he needs for modeling."
      ]
    },
    {
      "cell_type": "markdown",
      "metadata": {
        "id": "vrP47eFByuNx"
      },
      "source": [
        "Before doing anything I need to modify the data types to better represent the values in each of the columns"
      ]
    },
    {
      "cell_type": "code",
      "metadata": {
        "colab": {
          "base_uri": "https://localhost:8080/"
        },
        "id": "iWGt_Ts1ytsJ",
        "outputId": "1e7e4711-1738-4595-bbb0-df49c3bed494"
      },
      "source": [
        "dfConverted = dfConverted.convert_dtypes()\n",
        "dfConverted.dtypes"
      ],
      "execution_count": null,
      "outputs": [
        {
          "output_type": "execute_result",
          "data": {
            "text/plain": [
              "X                    Float64\n",
              "Y                    Float64\n",
              "RowID                  Int32\n",
              "ArrestNumber           Int64\n",
              "Age                    Int64\n",
              "Gender                string\n",
              "Race                  string\n",
              "ArrestDateTime        string\n",
              "ArrestLocation        string\n",
              "IncidentOffence       string\n",
              "IncidentLocation      string\n",
              "Charge                string\n",
              "ChargeDescription     string\n",
              "District              string\n",
              "Post                  string\n",
              "Neighborhood          string\n",
              "Latitude             Float64\n",
              "Longitude            Float64\n",
              "GeoLocation           string\n",
              "Shape                 object\n",
              "dtype: object"
            ]
          },
          "metadata": {},
          "execution_count": 8
        }
      ]
    },
    {
      "cell_type": "code",
      "source": [
        "print(dfConverted.isna().sum())"
      ],
      "metadata": {
        "colab": {
          "base_uri": "https://localhost:8080/"
        },
        "id": "skMfKEdOh1Cs",
        "outputId": "4141c3d5-f31e-475f-a541-1adb3325e0a1"
      },
      "execution_count": null,
      "outputs": [
        {
          "output_type": "stream",
          "name": "stdout",
          "text": [
            "X                     85795\n",
            "Y                     85795\n",
            "RowID                     0\n",
            "ArrestNumber           8226\n",
            "Age                      87\n",
            "Gender                   39\n",
            "Race                     39\n",
            "ArrestDateTime            0\n",
            "ArrestLocation        84435\n",
            "IncidentOffence           0\n",
            "IncidentLocation      84435\n",
            "Charge                19382\n",
            "ChargeDescription         0\n",
            "District              86032\n",
            "Post                  86032\n",
            "Neighborhood          86053\n",
            "Latitude              85795\n",
            "Longitude             85795\n",
            "GeoLocation               0\n",
            "Shape                175923\n",
            "dtype: int64\n"
          ]
        }
      ]
    },
    {
      "cell_type": "markdown",
      "metadata": {
        "id": "3BjL1-X6v2aw"
      },
      "source": [
        "First thing I notice is that there are some features that will not contribute to my classification problem.\n",
        "* 'X', 'Y', 'RowID', and 'ArrestNumber': are all similar indexing variables that will provide nothing to the classification\n",
        "* 'ArrestLocation', 'IncidentLocation', 'Neighborhood': This wouldn't fit my classification problem as my model shouldn't need location information to determine the district the crime happened\n",
        "\n",
        "* 'Latitude', 'Longitude', and 'GeoLocation' all provide the same information. This wouldn't fit my classification problem as my model shouldn't need location information to determine the district the crime happened\n",
        "\n",
        "* 'Shape': Shape is a useless feature column that provides no information and is mostly filled with NA values \n",
        "\n",
        "* Charge, post: Charge and Charge Description hold what is basically the same information. Post is a 3 digit code relating to someone's charge. Thus when I throw them into a OHE they will provide redundancy which is bad. "
      ]
    },
    {
      "cell_type": "markdown",
      "metadata": {
        "id": "V_MjdoxtMTor"
      },
      "source": [
        "Therefore, I will drop those columns before moving on with the EDA"
      ]
    },
    {
      "cell_type": "code",
      "metadata": {
        "id": "vo31fvRXv16K"
      },
      "source": [
        "dfConverted = dfConverted.drop(['X', 'Y', 'RowID', 'ArrestNumber', 'ArrestLocation', \n",
        "              'IncidentLocation', 'Neighborhood', 'Latitude', 'Longitude',\n",
        "              'GeoLocation', 'Shape', 'Charge', 'Post'], axis = 1)"
      ],
      "execution_count": null,
      "outputs": []
    },
    {
      "cell_type": "markdown",
      "source": [
        "This will also be done for the pyspark dataframe"
      ],
      "metadata": {
        "id": "18hpJzQchD6e"
      }
    },
    {
      "cell_type": "code",
      "source": [
        "pysparkDF = pysparkDF.drop('X', 'Y', 'RowID', 'ArrestNumber', 'ArrestLocation', \n",
        "              'IncidentLocation', 'Neighborhood', 'Latitude', 'Longitude',\n",
        "              'GeoLocation', 'Shape', 'Charge', 'Post')\n",
        "pysparkDF.show(3)"
      ],
      "metadata": {
        "colab": {
          "base_uri": "https://localhost:8080/"
        },
        "id": "uaJLoxfckqC0",
        "outputId": "0ee0831b-8acc-4f2f-9ab1-bc9e8fd2b09e"
      },
      "execution_count": null,
      "outputs": [
        {
          "output_type": "stream",
          "name": "stdout",
          "text": [
            "+---+------+----+--------------------+--------------------+------------------+---------+\n",
            "|Age|Gender|Race|      ArrestDateTime|     IncidentOffence| ChargeDescription| District|\n",
            "+---+------+----+--------------------+--------------------+------------------+---------+\n",
            "| 27|     M|   B|2020/12/31 23:50:...|96BINVESTIGATIVE ...|HAND GUN VIOLATION|Southwest|\n",
            "| 45|     F|   B|2020/12/31 23:45:...|     Unknown Offense|        AUTO THEFT|  Western|\n",
            "| 42|     F|   W|2020/12/31 23:40:...|     Unknown Offense|2ND DEGREE ASSAULT|Southwest|\n",
            "+---+------+----+--------------------+--------------------+------------------+---------+\n",
            "only showing top 3 rows\n",
            "\n"
          ]
        }
      ]
    },
    {
      "cell_type": "code",
      "source": [
        "pysparkDF.persist()"
      ],
      "metadata": {
        "colab": {
          "base_uri": "https://localhost:8080/"
        },
        "id": "XSDtB2_gm6JR",
        "outputId": "4e302bce-4194-45aa-b74a-2468c5cf31e1"
      },
      "execution_count": null,
      "outputs": [
        {
          "output_type": "execute_result",
          "data": {
            "text/plain": [
              "DataFrame[Age: int, Gender: string, Race: string, ArrestDateTime: string, IncidentOffence: string, ChargeDescription: string, District: string]"
            ]
          },
          "metadata": {},
          "execution_count": 12
        }
      ]
    },
    {
      "cell_type": "code",
      "metadata": {
        "colab": {
          "base_uri": "https://localhost:8080/",
          "height": 562
        },
        "id": "datX8CTuw7xo",
        "outputId": "bd65f787-ca1f-4f8f-8c82-8d77081a98fd"
      },
      "source": [
        "print(dfConverted.dtypes)\n",
        "dfConverted"
      ],
      "execution_count": null,
      "outputs": [
        {
          "output_type": "stream",
          "name": "stdout",
          "text": [
            "Age                   Int64\n",
            "Gender               string\n",
            "Race                 string\n",
            "ArrestDateTime       string\n",
            "IncidentOffence      string\n",
            "ChargeDescription    string\n",
            "District             string\n",
            "dtype: object\n"
          ]
        },
        {
          "output_type": "execute_result",
          "data": {
            "text/plain": [
              "        Age Gender Race          ArrestDateTime         IncidentOffence  \\\n",
              "0        27      M    B  2020/12/31 23:50:00+00   96BINVESTIGATIVE STOP   \n",
              "1        45      F    B  2020/12/31 23:45:00+00         Unknown Offense   \n",
              "2        42      F    W  2020/12/31 23:40:00+00         Unknown Offense   \n",
              "3        26      M    B  2020/12/31 21:45:00+00         Unknown Offense   \n",
              "4        19      M    B  2020/12/31 21:45:00+00         Unknown Offense   \n",
              "...     ...    ...  ...                     ...                     ...   \n",
              "175918   35      M    B  2014/01/01 00:05:00+00         Unknown Offense   \n",
              "175919   41      M    B  2014/01/01 00:05:00+00  83DISCHARGING FIREARM    \n",
              "175920   36      F    B  2014/01/01 00:05:00+00  83DISCHARGING FIREARM    \n",
              "175921   30      M    B  2014/01/01 00:05:00+00  83DISCHARGING FIREARM    \n",
              "175922   47      M    W  2014/01/01 00:00:00+00         Unknown Offense   \n",
              "\n",
              "                    ChargeDescription   District  \n",
              "0                  HAND GUN VIOLATION  Southwest  \n",
              "1                          AUTO THEFT    Western  \n",
              "2                  2ND DEGREE ASSAULT  Southwest  \n",
              "3                                PWID   Southern  \n",
              "4                                PWID   Southern  \n",
              "...                               ...        ...  \n",
              "175918              FIREARM VIOLATION  Northeast  \n",
              "175919                    DISCHARGING  Southwest  \n",
              "175920                    DISCHARGING  Southwest  \n",
              "175921                            HGV  Southwest  \n",
              "175922  SEX OFF REG-FAIL NOTIFY/INCLD       <NA>  \n",
              "\n",
              "[175923 rows x 7 columns]"
            ],
            "text/html": [
              "\n",
              "  <div id=\"df-32557a39-bcd7-4bb7-96f3-329ecd5050c0\">\n",
              "    <div class=\"colab-df-container\">\n",
              "      <div>\n",
              "<style scoped>\n",
              "    .dataframe tbody tr th:only-of-type {\n",
              "        vertical-align: middle;\n",
              "    }\n",
              "\n",
              "    .dataframe tbody tr th {\n",
              "        vertical-align: top;\n",
              "    }\n",
              "\n",
              "    .dataframe thead th {\n",
              "        text-align: right;\n",
              "    }\n",
              "</style>\n",
              "<table border=\"1\" class=\"dataframe\">\n",
              "  <thead>\n",
              "    <tr style=\"text-align: right;\">\n",
              "      <th></th>\n",
              "      <th>Age</th>\n",
              "      <th>Gender</th>\n",
              "      <th>Race</th>\n",
              "      <th>ArrestDateTime</th>\n",
              "      <th>IncidentOffence</th>\n",
              "      <th>ChargeDescription</th>\n",
              "      <th>District</th>\n",
              "    </tr>\n",
              "  </thead>\n",
              "  <tbody>\n",
              "    <tr>\n",
              "      <th>0</th>\n",
              "      <td>27</td>\n",
              "      <td>M</td>\n",
              "      <td>B</td>\n",
              "      <td>2020/12/31 23:50:00+00</td>\n",
              "      <td>96BINVESTIGATIVE STOP</td>\n",
              "      <td>HAND GUN VIOLATION</td>\n",
              "      <td>Southwest</td>\n",
              "    </tr>\n",
              "    <tr>\n",
              "      <th>1</th>\n",
              "      <td>45</td>\n",
              "      <td>F</td>\n",
              "      <td>B</td>\n",
              "      <td>2020/12/31 23:45:00+00</td>\n",
              "      <td>Unknown Offense</td>\n",
              "      <td>AUTO THEFT</td>\n",
              "      <td>Western</td>\n",
              "    </tr>\n",
              "    <tr>\n",
              "      <th>2</th>\n",
              "      <td>42</td>\n",
              "      <td>F</td>\n",
              "      <td>W</td>\n",
              "      <td>2020/12/31 23:40:00+00</td>\n",
              "      <td>Unknown Offense</td>\n",
              "      <td>2ND DEGREE ASSAULT</td>\n",
              "      <td>Southwest</td>\n",
              "    </tr>\n",
              "    <tr>\n",
              "      <th>3</th>\n",
              "      <td>26</td>\n",
              "      <td>M</td>\n",
              "      <td>B</td>\n",
              "      <td>2020/12/31 21:45:00+00</td>\n",
              "      <td>Unknown Offense</td>\n",
              "      <td>PWID</td>\n",
              "      <td>Southern</td>\n",
              "    </tr>\n",
              "    <tr>\n",
              "      <th>4</th>\n",
              "      <td>19</td>\n",
              "      <td>M</td>\n",
              "      <td>B</td>\n",
              "      <td>2020/12/31 21:45:00+00</td>\n",
              "      <td>Unknown Offense</td>\n",
              "      <td>PWID</td>\n",
              "      <td>Southern</td>\n",
              "    </tr>\n",
              "    <tr>\n",
              "      <th>...</th>\n",
              "      <td>...</td>\n",
              "      <td>...</td>\n",
              "      <td>...</td>\n",
              "      <td>...</td>\n",
              "      <td>...</td>\n",
              "      <td>...</td>\n",
              "      <td>...</td>\n",
              "    </tr>\n",
              "    <tr>\n",
              "      <th>175918</th>\n",
              "      <td>35</td>\n",
              "      <td>M</td>\n",
              "      <td>B</td>\n",
              "      <td>2014/01/01 00:05:00+00</td>\n",
              "      <td>Unknown Offense</td>\n",
              "      <td>FIREARM VIOLATION</td>\n",
              "      <td>Northeast</td>\n",
              "    </tr>\n",
              "    <tr>\n",
              "      <th>175919</th>\n",
              "      <td>41</td>\n",
              "      <td>M</td>\n",
              "      <td>B</td>\n",
              "      <td>2014/01/01 00:05:00+00</td>\n",
              "      <td>83DISCHARGING FIREARM</td>\n",
              "      <td>DISCHARGING</td>\n",
              "      <td>Southwest</td>\n",
              "    </tr>\n",
              "    <tr>\n",
              "      <th>175920</th>\n",
              "      <td>36</td>\n",
              "      <td>F</td>\n",
              "      <td>B</td>\n",
              "      <td>2014/01/01 00:05:00+00</td>\n",
              "      <td>83DISCHARGING FIREARM</td>\n",
              "      <td>DISCHARGING</td>\n",
              "      <td>Southwest</td>\n",
              "    </tr>\n",
              "    <tr>\n",
              "      <th>175921</th>\n",
              "      <td>30</td>\n",
              "      <td>M</td>\n",
              "      <td>B</td>\n",
              "      <td>2014/01/01 00:05:00+00</td>\n",
              "      <td>83DISCHARGING FIREARM</td>\n",
              "      <td>HGV</td>\n",
              "      <td>Southwest</td>\n",
              "    </tr>\n",
              "    <tr>\n",
              "      <th>175922</th>\n",
              "      <td>47</td>\n",
              "      <td>M</td>\n",
              "      <td>W</td>\n",
              "      <td>2014/01/01 00:00:00+00</td>\n",
              "      <td>Unknown Offense</td>\n",
              "      <td>SEX OFF REG-FAIL NOTIFY/INCLD</td>\n",
              "      <td>&lt;NA&gt;</td>\n",
              "    </tr>\n",
              "  </tbody>\n",
              "</table>\n",
              "<p>175923 rows × 7 columns</p>\n",
              "</div>\n",
              "      <button class=\"colab-df-convert\" onclick=\"convertToInteractive('df-32557a39-bcd7-4bb7-96f3-329ecd5050c0')\"\n",
              "              title=\"Convert this dataframe to an interactive table.\"\n",
              "              style=\"display:none;\">\n",
              "        \n",
              "  <svg xmlns=\"http://www.w3.org/2000/svg\" height=\"24px\"viewBox=\"0 0 24 24\"\n",
              "       width=\"24px\">\n",
              "    <path d=\"M0 0h24v24H0V0z\" fill=\"none\"/>\n",
              "    <path d=\"M18.56 5.44l.94 2.06.94-2.06 2.06-.94-2.06-.94-.94-2.06-.94 2.06-2.06.94zm-11 1L8.5 8.5l.94-2.06 2.06-.94-2.06-.94L8.5 2.5l-.94 2.06-2.06.94zm10 10l.94 2.06.94-2.06 2.06-.94-2.06-.94-.94-2.06-.94 2.06-2.06.94z\"/><path d=\"M17.41 7.96l-1.37-1.37c-.4-.4-.92-.59-1.43-.59-.52 0-1.04.2-1.43.59L10.3 9.45l-7.72 7.72c-.78.78-.78 2.05 0 2.83L4 21.41c.39.39.9.59 1.41.59.51 0 1.02-.2 1.41-.59l7.78-7.78 2.81-2.81c.8-.78.8-2.07 0-2.86zM5.41 20L4 18.59l7.72-7.72 1.47 1.35L5.41 20z\"/>\n",
              "  </svg>\n",
              "      </button>\n",
              "      \n",
              "  <style>\n",
              "    .colab-df-container {\n",
              "      display:flex;\n",
              "      flex-wrap:wrap;\n",
              "      gap: 12px;\n",
              "    }\n",
              "\n",
              "    .colab-df-convert {\n",
              "      background-color: #E8F0FE;\n",
              "      border: none;\n",
              "      border-radius: 50%;\n",
              "      cursor: pointer;\n",
              "      display: none;\n",
              "      fill: #1967D2;\n",
              "      height: 32px;\n",
              "      padding: 0 0 0 0;\n",
              "      width: 32px;\n",
              "    }\n",
              "\n",
              "    .colab-df-convert:hover {\n",
              "      background-color: #E2EBFA;\n",
              "      box-shadow: 0px 1px 2px rgba(60, 64, 67, 0.3), 0px 1px 3px 1px rgba(60, 64, 67, 0.15);\n",
              "      fill: #174EA6;\n",
              "    }\n",
              "\n",
              "    [theme=dark] .colab-df-convert {\n",
              "      background-color: #3B4455;\n",
              "      fill: #D2E3FC;\n",
              "    }\n",
              "\n",
              "    [theme=dark] .colab-df-convert:hover {\n",
              "      background-color: #434B5C;\n",
              "      box-shadow: 0px 1px 3px 1px rgba(0, 0, 0, 0.15);\n",
              "      filter: drop-shadow(0px 1px 2px rgba(0, 0, 0, 0.3));\n",
              "      fill: #FFFFFF;\n",
              "    }\n",
              "  </style>\n",
              "\n",
              "      <script>\n",
              "        const buttonEl =\n",
              "          document.querySelector('#df-32557a39-bcd7-4bb7-96f3-329ecd5050c0 button.colab-df-convert');\n",
              "        buttonEl.style.display =\n",
              "          google.colab.kernel.accessAllowed ? 'block' : 'none';\n",
              "\n",
              "        async function convertToInteractive(key) {\n",
              "          const element = document.querySelector('#df-32557a39-bcd7-4bb7-96f3-329ecd5050c0');\n",
              "          const dataTable =\n",
              "            await google.colab.kernel.invokeFunction('convertToInteractive',\n",
              "                                                     [key], {});\n",
              "          if (!dataTable) return;\n",
              "\n",
              "          const docLinkHtml = 'Like what you see? Visit the ' +\n",
              "            '<a target=\"_blank\" href=https://colab.research.google.com/notebooks/data_table.ipynb>data table notebook</a>'\n",
              "            + ' to learn more about interactive tables.';\n",
              "          element.innerHTML = '';\n",
              "          dataTable['output_type'] = 'display_data';\n",
              "          await google.colab.output.renderOutput(dataTable, element);\n",
              "          const docLink = document.createElement('div');\n",
              "          docLink.innerHTML = docLinkHtml;\n",
              "          element.appendChild(docLink);\n",
              "        }\n",
              "      </script>\n",
              "    </div>\n",
              "  </div>\n",
              "  "
            ]
          },
          "metadata": {},
          "execution_count": 13
        }
      ]
    },
    {
      "cell_type": "markdown",
      "metadata": {
        "id": "YhtdAAyr0lTx"
      },
      "source": [
        "I may want the date and the time seperate to cut down on the sparcity of the dummy matrix formed when one hot encoding. First I will check how many unique values are there vs the total values"
      ]
    },
    {
      "cell_type": "code",
      "metadata": {
        "colab": {
          "base_uri": "https://localhost:8080/"
        },
        "id": "1Sk0QWp_019W",
        "outputId": "6befcb37-e0bf-4d1a-e61a-040d564343b8"
      },
      "source": [
        "print(\"There are\", dfConverted.ArrestDateTime.count() - len(dfConverted.ArrestDateTime.unique()), \"Non unique values\")"
      ],
      "execution_count": null,
      "outputs": [
        {
          "output_type": "stream",
          "name": "stdout",
          "text": [
            "There are 45088 Non unique values\n"
          ]
        }
      ]
    },
    {
      "cell_type": "markdown",
      "metadata": {
        "id": "P2rJNFmCPKNR"
      },
      "source": [
        "This will cause unnecessary sparsity in the Dummy Matrix"
      ]
    },
    {
      "cell_type": "markdown",
      "metadata": {
        "id": "7H0oVHxTO5bK"
      },
      "source": [
        "So I will separate the date and time and make them separate columns. Then delete the old column since it'll only provide redundancy."
      ]
    },
    {
      "cell_type": "code",
      "metadata": {
        "colab": {
          "base_uri": "https://localhost:8080/",
          "height": 424
        },
        "id": "CQ5JIOPV0xVr",
        "outputId": "78ebf1c3-a5a9-4380-f812-92dee684e722"
      },
      "source": [
        "#Fromhttps://www.tutorialspoint.com/write-a-program-to-separate-date-and-time-from-the-datetime-column-in-python-pandas\n",
        "dfConverted['date'] = pd.to_datetime(dfConverted['ArrestDateTime']).dt.date\n",
        "dfConverted['time'] = pd.to_datetime(dfConverted['ArrestDateTime']).dt.time\n",
        "dfConverted"
      ],
      "execution_count": null,
      "outputs": [
        {
          "output_type": "execute_result",
          "data": {
            "text/plain": [
              "        Age Gender Race          ArrestDateTime         IncidentOffence  \\\n",
              "0        27      M    B  2020/12/31 23:50:00+00   96BINVESTIGATIVE STOP   \n",
              "1        45      F    B  2020/12/31 23:45:00+00         Unknown Offense   \n",
              "2        42      F    W  2020/12/31 23:40:00+00         Unknown Offense   \n",
              "3        26      M    B  2020/12/31 21:45:00+00         Unknown Offense   \n",
              "4        19      M    B  2020/12/31 21:45:00+00         Unknown Offense   \n",
              "...     ...    ...  ...                     ...                     ...   \n",
              "175918   35      M    B  2014/01/01 00:05:00+00         Unknown Offense   \n",
              "175919   41      M    B  2014/01/01 00:05:00+00  83DISCHARGING FIREARM    \n",
              "175920   36      F    B  2014/01/01 00:05:00+00  83DISCHARGING FIREARM    \n",
              "175921   30      M    B  2014/01/01 00:05:00+00  83DISCHARGING FIREARM    \n",
              "175922   47      M    W  2014/01/01 00:00:00+00         Unknown Offense   \n",
              "\n",
              "                    ChargeDescription   District        date      time  \n",
              "0                  HAND GUN VIOLATION  Southwest  2020-12-31  23:50:00  \n",
              "1                          AUTO THEFT    Western  2020-12-31  23:45:00  \n",
              "2                  2ND DEGREE ASSAULT  Southwest  2020-12-31  23:40:00  \n",
              "3                                PWID   Southern  2020-12-31  21:45:00  \n",
              "4                                PWID   Southern  2020-12-31  21:45:00  \n",
              "...                               ...        ...         ...       ...  \n",
              "175918              FIREARM VIOLATION  Northeast  2014-01-01  00:05:00  \n",
              "175919                    DISCHARGING  Southwest  2014-01-01  00:05:00  \n",
              "175920                    DISCHARGING  Southwest  2014-01-01  00:05:00  \n",
              "175921                            HGV  Southwest  2014-01-01  00:05:00  \n",
              "175922  SEX OFF REG-FAIL NOTIFY/INCLD       <NA>  2014-01-01  00:00:00  \n",
              "\n",
              "[175923 rows x 9 columns]"
            ],
            "text/html": [
              "\n",
              "  <div id=\"df-70ea7709-9fed-4eca-83c1-017df1ca5232\">\n",
              "    <div class=\"colab-df-container\">\n",
              "      <div>\n",
              "<style scoped>\n",
              "    .dataframe tbody tr th:only-of-type {\n",
              "        vertical-align: middle;\n",
              "    }\n",
              "\n",
              "    .dataframe tbody tr th {\n",
              "        vertical-align: top;\n",
              "    }\n",
              "\n",
              "    .dataframe thead th {\n",
              "        text-align: right;\n",
              "    }\n",
              "</style>\n",
              "<table border=\"1\" class=\"dataframe\">\n",
              "  <thead>\n",
              "    <tr style=\"text-align: right;\">\n",
              "      <th></th>\n",
              "      <th>Age</th>\n",
              "      <th>Gender</th>\n",
              "      <th>Race</th>\n",
              "      <th>ArrestDateTime</th>\n",
              "      <th>IncidentOffence</th>\n",
              "      <th>ChargeDescription</th>\n",
              "      <th>District</th>\n",
              "      <th>date</th>\n",
              "      <th>time</th>\n",
              "    </tr>\n",
              "  </thead>\n",
              "  <tbody>\n",
              "    <tr>\n",
              "      <th>0</th>\n",
              "      <td>27</td>\n",
              "      <td>M</td>\n",
              "      <td>B</td>\n",
              "      <td>2020/12/31 23:50:00+00</td>\n",
              "      <td>96BINVESTIGATIVE STOP</td>\n",
              "      <td>HAND GUN VIOLATION</td>\n",
              "      <td>Southwest</td>\n",
              "      <td>2020-12-31</td>\n",
              "      <td>23:50:00</td>\n",
              "    </tr>\n",
              "    <tr>\n",
              "      <th>1</th>\n",
              "      <td>45</td>\n",
              "      <td>F</td>\n",
              "      <td>B</td>\n",
              "      <td>2020/12/31 23:45:00+00</td>\n",
              "      <td>Unknown Offense</td>\n",
              "      <td>AUTO THEFT</td>\n",
              "      <td>Western</td>\n",
              "      <td>2020-12-31</td>\n",
              "      <td>23:45:00</td>\n",
              "    </tr>\n",
              "    <tr>\n",
              "      <th>2</th>\n",
              "      <td>42</td>\n",
              "      <td>F</td>\n",
              "      <td>W</td>\n",
              "      <td>2020/12/31 23:40:00+00</td>\n",
              "      <td>Unknown Offense</td>\n",
              "      <td>2ND DEGREE ASSAULT</td>\n",
              "      <td>Southwest</td>\n",
              "      <td>2020-12-31</td>\n",
              "      <td>23:40:00</td>\n",
              "    </tr>\n",
              "    <tr>\n",
              "      <th>3</th>\n",
              "      <td>26</td>\n",
              "      <td>M</td>\n",
              "      <td>B</td>\n",
              "      <td>2020/12/31 21:45:00+00</td>\n",
              "      <td>Unknown Offense</td>\n",
              "      <td>PWID</td>\n",
              "      <td>Southern</td>\n",
              "      <td>2020-12-31</td>\n",
              "      <td>21:45:00</td>\n",
              "    </tr>\n",
              "    <tr>\n",
              "      <th>4</th>\n",
              "      <td>19</td>\n",
              "      <td>M</td>\n",
              "      <td>B</td>\n",
              "      <td>2020/12/31 21:45:00+00</td>\n",
              "      <td>Unknown Offense</td>\n",
              "      <td>PWID</td>\n",
              "      <td>Southern</td>\n",
              "      <td>2020-12-31</td>\n",
              "      <td>21:45:00</td>\n",
              "    </tr>\n",
              "    <tr>\n",
              "      <th>...</th>\n",
              "      <td>...</td>\n",
              "      <td>...</td>\n",
              "      <td>...</td>\n",
              "      <td>...</td>\n",
              "      <td>...</td>\n",
              "      <td>...</td>\n",
              "      <td>...</td>\n",
              "      <td>...</td>\n",
              "      <td>...</td>\n",
              "    </tr>\n",
              "    <tr>\n",
              "      <th>175918</th>\n",
              "      <td>35</td>\n",
              "      <td>M</td>\n",
              "      <td>B</td>\n",
              "      <td>2014/01/01 00:05:00+00</td>\n",
              "      <td>Unknown Offense</td>\n",
              "      <td>FIREARM VIOLATION</td>\n",
              "      <td>Northeast</td>\n",
              "      <td>2014-01-01</td>\n",
              "      <td>00:05:00</td>\n",
              "    </tr>\n",
              "    <tr>\n",
              "      <th>175919</th>\n",
              "      <td>41</td>\n",
              "      <td>M</td>\n",
              "      <td>B</td>\n",
              "      <td>2014/01/01 00:05:00+00</td>\n",
              "      <td>83DISCHARGING FIREARM</td>\n",
              "      <td>DISCHARGING</td>\n",
              "      <td>Southwest</td>\n",
              "      <td>2014-01-01</td>\n",
              "      <td>00:05:00</td>\n",
              "    </tr>\n",
              "    <tr>\n",
              "      <th>175920</th>\n",
              "      <td>36</td>\n",
              "      <td>F</td>\n",
              "      <td>B</td>\n",
              "      <td>2014/01/01 00:05:00+00</td>\n",
              "      <td>83DISCHARGING FIREARM</td>\n",
              "      <td>DISCHARGING</td>\n",
              "      <td>Southwest</td>\n",
              "      <td>2014-01-01</td>\n",
              "      <td>00:05:00</td>\n",
              "    </tr>\n",
              "    <tr>\n",
              "      <th>175921</th>\n",
              "      <td>30</td>\n",
              "      <td>M</td>\n",
              "      <td>B</td>\n",
              "      <td>2014/01/01 00:05:00+00</td>\n",
              "      <td>83DISCHARGING FIREARM</td>\n",
              "      <td>HGV</td>\n",
              "      <td>Southwest</td>\n",
              "      <td>2014-01-01</td>\n",
              "      <td>00:05:00</td>\n",
              "    </tr>\n",
              "    <tr>\n",
              "      <th>175922</th>\n",
              "      <td>47</td>\n",
              "      <td>M</td>\n",
              "      <td>W</td>\n",
              "      <td>2014/01/01 00:00:00+00</td>\n",
              "      <td>Unknown Offense</td>\n",
              "      <td>SEX OFF REG-FAIL NOTIFY/INCLD</td>\n",
              "      <td>&lt;NA&gt;</td>\n",
              "      <td>2014-01-01</td>\n",
              "      <td>00:00:00</td>\n",
              "    </tr>\n",
              "  </tbody>\n",
              "</table>\n",
              "<p>175923 rows × 9 columns</p>\n",
              "</div>\n",
              "      <button class=\"colab-df-convert\" onclick=\"convertToInteractive('df-70ea7709-9fed-4eca-83c1-017df1ca5232')\"\n",
              "              title=\"Convert this dataframe to an interactive table.\"\n",
              "              style=\"display:none;\">\n",
              "        \n",
              "  <svg xmlns=\"http://www.w3.org/2000/svg\" height=\"24px\"viewBox=\"0 0 24 24\"\n",
              "       width=\"24px\">\n",
              "    <path d=\"M0 0h24v24H0V0z\" fill=\"none\"/>\n",
              "    <path d=\"M18.56 5.44l.94 2.06.94-2.06 2.06-.94-2.06-.94-.94-2.06-.94 2.06-2.06.94zm-11 1L8.5 8.5l.94-2.06 2.06-.94-2.06-.94L8.5 2.5l-.94 2.06-2.06.94zm10 10l.94 2.06.94-2.06 2.06-.94-2.06-.94-.94-2.06-.94 2.06-2.06.94z\"/><path d=\"M17.41 7.96l-1.37-1.37c-.4-.4-.92-.59-1.43-.59-.52 0-1.04.2-1.43.59L10.3 9.45l-7.72 7.72c-.78.78-.78 2.05 0 2.83L4 21.41c.39.39.9.59 1.41.59.51 0 1.02-.2 1.41-.59l7.78-7.78 2.81-2.81c.8-.78.8-2.07 0-2.86zM5.41 20L4 18.59l7.72-7.72 1.47 1.35L5.41 20z\"/>\n",
              "  </svg>\n",
              "      </button>\n",
              "      \n",
              "  <style>\n",
              "    .colab-df-container {\n",
              "      display:flex;\n",
              "      flex-wrap:wrap;\n",
              "      gap: 12px;\n",
              "    }\n",
              "\n",
              "    .colab-df-convert {\n",
              "      background-color: #E8F0FE;\n",
              "      border: none;\n",
              "      border-radius: 50%;\n",
              "      cursor: pointer;\n",
              "      display: none;\n",
              "      fill: #1967D2;\n",
              "      height: 32px;\n",
              "      padding: 0 0 0 0;\n",
              "      width: 32px;\n",
              "    }\n",
              "\n",
              "    .colab-df-convert:hover {\n",
              "      background-color: #E2EBFA;\n",
              "      box-shadow: 0px 1px 2px rgba(60, 64, 67, 0.3), 0px 1px 3px 1px rgba(60, 64, 67, 0.15);\n",
              "      fill: #174EA6;\n",
              "    }\n",
              "\n",
              "    [theme=dark] .colab-df-convert {\n",
              "      background-color: #3B4455;\n",
              "      fill: #D2E3FC;\n",
              "    }\n",
              "\n",
              "    [theme=dark] .colab-df-convert:hover {\n",
              "      background-color: #434B5C;\n",
              "      box-shadow: 0px 1px 3px 1px rgba(0, 0, 0, 0.15);\n",
              "      filter: drop-shadow(0px 1px 2px rgba(0, 0, 0, 0.3));\n",
              "      fill: #FFFFFF;\n",
              "    }\n",
              "  </style>\n",
              "\n",
              "      <script>\n",
              "        const buttonEl =\n",
              "          document.querySelector('#df-70ea7709-9fed-4eca-83c1-017df1ca5232 button.colab-df-convert');\n",
              "        buttonEl.style.display =\n",
              "          google.colab.kernel.accessAllowed ? 'block' : 'none';\n",
              "\n",
              "        async function convertToInteractive(key) {\n",
              "          const element = document.querySelector('#df-70ea7709-9fed-4eca-83c1-017df1ca5232');\n",
              "          const dataTable =\n",
              "            await google.colab.kernel.invokeFunction('convertToInteractive',\n",
              "                                                     [key], {});\n",
              "          if (!dataTable) return;\n",
              "\n",
              "          const docLinkHtml = 'Like what you see? Visit the ' +\n",
              "            '<a target=\"_blank\" href=https://colab.research.google.com/notebooks/data_table.ipynb>data table notebook</a>'\n",
              "            + ' to learn more about interactive tables.';\n",
              "          element.innerHTML = '';\n",
              "          dataTable['output_type'] = 'display_data';\n",
              "          await google.colab.output.renderOutput(dataTable, element);\n",
              "          const docLink = document.createElement('div');\n",
              "          docLink.innerHTML = docLinkHtml;\n",
              "          element.appendChild(docLink);\n",
              "        }\n",
              "      </script>\n",
              "    </div>\n",
              "  </div>\n",
              "  "
            ]
          },
          "metadata": {},
          "execution_count": 15
        }
      ]
    },
    {
      "cell_type": "code",
      "metadata": {
        "id": "At3lhFw-7UFs"
      },
      "source": [
        "dfConverted = dfConverted.drop('ArrestDateTime', axis=1)"
      ],
      "execution_count": null,
      "outputs": []
    },
    {
      "cell_type": "code",
      "metadata": {
        "colab": {
          "base_uri": "https://localhost:8080/",
          "height": 424
        },
        "id": "sj9e8Q8W7gJQ",
        "outputId": "780adb85-8f46-4834-c342-b57bed5ca69b"
      },
      "source": [
        "dfConverted"
      ],
      "execution_count": null,
      "outputs": [
        {
          "output_type": "execute_result",
          "data": {
            "text/plain": [
              "        Age Gender Race         IncidentOffence  \\\n",
              "0        27      M    B   96BINVESTIGATIVE STOP   \n",
              "1        45      F    B         Unknown Offense   \n",
              "2        42      F    W         Unknown Offense   \n",
              "3        26      M    B         Unknown Offense   \n",
              "4        19      M    B         Unknown Offense   \n",
              "...     ...    ...  ...                     ...   \n",
              "175918   35      M    B         Unknown Offense   \n",
              "175919   41      M    B  83DISCHARGING FIREARM    \n",
              "175920   36      F    B  83DISCHARGING FIREARM    \n",
              "175921   30      M    B  83DISCHARGING FIREARM    \n",
              "175922   47      M    W         Unknown Offense   \n",
              "\n",
              "                    ChargeDescription   District        date      time  \n",
              "0                  HAND GUN VIOLATION  Southwest  2020-12-31  23:50:00  \n",
              "1                          AUTO THEFT    Western  2020-12-31  23:45:00  \n",
              "2                  2ND DEGREE ASSAULT  Southwest  2020-12-31  23:40:00  \n",
              "3                                PWID   Southern  2020-12-31  21:45:00  \n",
              "4                                PWID   Southern  2020-12-31  21:45:00  \n",
              "...                               ...        ...         ...       ...  \n",
              "175918              FIREARM VIOLATION  Northeast  2014-01-01  00:05:00  \n",
              "175919                    DISCHARGING  Southwest  2014-01-01  00:05:00  \n",
              "175920                    DISCHARGING  Southwest  2014-01-01  00:05:00  \n",
              "175921                            HGV  Southwest  2014-01-01  00:05:00  \n",
              "175922  SEX OFF REG-FAIL NOTIFY/INCLD       <NA>  2014-01-01  00:00:00  \n",
              "\n",
              "[175923 rows x 8 columns]"
            ],
            "text/html": [
              "\n",
              "  <div id=\"df-41245c24-fb90-4a24-8426-95114763b4bc\">\n",
              "    <div class=\"colab-df-container\">\n",
              "      <div>\n",
              "<style scoped>\n",
              "    .dataframe tbody tr th:only-of-type {\n",
              "        vertical-align: middle;\n",
              "    }\n",
              "\n",
              "    .dataframe tbody tr th {\n",
              "        vertical-align: top;\n",
              "    }\n",
              "\n",
              "    .dataframe thead th {\n",
              "        text-align: right;\n",
              "    }\n",
              "</style>\n",
              "<table border=\"1\" class=\"dataframe\">\n",
              "  <thead>\n",
              "    <tr style=\"text-align: right;\">\n",
              "      <th></th>\n",
              "      <th>Age</th>\n",
              "      <th>Gender</th>\n",
              "      <th>Race</th>\n",
              "      <th>IncidentOffence</th>\n",
              "      <th>ChargeDescription</th>\n",
              "      <th>District</th>\n",
              "      <th>date</th>\n",
              "      <th>time</th>\n",
              "    </tr>\n",
              "  </thead>\n",
              "  <tbody>\n",
              "    <tr>\n",
              "      <th>0</th>\n",
              "      <td>27</td>\n",
              "      <td>M</td>\n",
              "      <td>B</td>\n",
              "      <td>96BINVESTIGATIVE STOP</td>\n",
              "      <td>HAND GUN VIOLATION</td>\n",
              "      <td>Southwest</td>\n",
              "      <td>2020-12-31</td>\n",
              "      <td>23:50:00</td>\n",
              "    </tr>\n",
              "    <tr>\n",
              "      <th>1</th>\n",
              "      <td>45</td>\n",
              "      <td>F</td>\n",
              "      <td>B</td>\n",
              "      <td>Unknown Offense</td>\n",
              "      <td>AUTO THEFT</td>\n",
              "      <td>Western</td>\n",
              "      <td>2020-12-31</td>\n",
              "      <td>23:45:00</td>\n",
              "    </tr>\n",
              "    <tr>\n",
              "      <th>2</th>\n",
              "      <td>42</td>\n",
              "      <td>F</td>\n",
              "      <td>W</td>\n",
              "      <td>Unknown Offense</td>\n",
              "      <td>2ND DEGREE ASSAULT</td>\n",
              "      <td>Southwest</td>\n",
              "      <td>2020-12-31</td>\n",
              "      <td>23:40:00</td>\n",
              "    </tr>\n",
              "    <tr>\n",
              "      <th>3</th>\n",
              "      <td>26</td>\n",
              "      <td>M</td>\n",
              "      <td>B</td>\n",
              "      <td>Unknown Offense</td>\n",
              "      <td>PWID</td>\n",
              "      <td>Southern</td>\n",
              "      <td>2020-12-31</td>\n",
              "      <td>21:45:00</td>\n",
              "    </tr>\n",
              "    <tr>\n",
              "      <th>4</th>\n",
              "      <td>19</td>\n",
              "      <td>M</td>\n",
              "      <td>B</td>\n",
              "      <td>Unknown Offense</td>\n",
              "      <td>PWID</td>\n",
              "      <td>Southern</td>\n",
              "      <td>2020-12-31</td>\n",
              "      <td>21:45:00</td>\n",
              "    </tr>\n",
              "    <tr>\n",
              "      <th>...</th>\n",
              "      <td>...</td>\n",
              "      <td>...</td>\n",
              "      <td>...</td>\n",
              "      <td>...</td>\n",
              "      <td>...</td>\n",
              "      <td>...</td>\n",
              "      <td>...</td>\n",
              "      <td>...</td>\n",
              "    </tr>\n",
              "    <tr>\n",
              "      <th>175918</th>\n",
              "      <td>35</td>\n",
              "      <td>M</td>\n",
              "      <td>B</td>\n",
              "      <td>Unknown Offense</td>\n",
              "      <td>FIREARM VIOLATION</td>\n",
              "      <td>Northeast</td>\n",
              "      <td>2014-01-01</td>\n",
              "      <td>00:05:00</td>\n",
              "    </tr>\n",
              "    <tr>\n",
              "      <th>175919</th>\n",
              "      <td>41</td>\n",
              "      <td>M</td>\n",
              "      <td>B</td>\n",
              "      <td>83DISCHARGING FIREARM</td>\n",
              "      <td>DISCHARGING</td>\n",
              "      <td>Southwest</td>\n",
              "      <td>2014-01-01</td>\n",
              "      <td>00:05:00</td>\n",
              "    </tr>\n",
              "    <tr>\n",
              "      <th>175920</th>\n",
              "      <td>36</td>\n",
              "      <td>F</td>\n",
              "      <td>B</td>\n",
              "      <td>83DISCHARGING FIREARM</td>\n",
              "      <td>DISCHARGING</td>\n",
              "      <td>Southwest</td>\n",
              "      <td>2014-01-01</td>\n",
              "      <td>00:05:00</td>\n",
              "    </tr>\n",
              "    <tr>\n",
              "      <th>175921</th>\n",
              "      <td>30</td>\n",
              "      <td>M</td>\n",
              "      <td>B</td>\n",
              "      <td>83DISCHARGING FIREARM</td>\n",
              "      <td>HGV</td>\n",
              "      <td>Southwest</td>\n",
              "      <td>2014-01-01</td>\n",
              "      <td>00:05:00</td>\n",
              "    </tr>\n",
              "    <tr>\n",
              "      <th>175922</th>\n",
              "      <td>47</td>\n",
              "      <td>M</td>\n",
              "      <td>W</td>\n",
              "      <td>Unknown Offense</td>\n",
              "      <td>SEX OFF REG-FAIL NOTIFY/INCLD</td>\n",
              "      <td>&lt;NA&gt;</td>\n",
              "      <td>2014-01-01</td>\n",
              "      <td>00:00:00</td>\n",
              "    </tr>\n",
              "  </tbody>\n",
              "</table>\n",
              "<p>175923 rows × 8 columns</p>\n",
              "</div>\n",
              "      <button class=\"colab-df-convert\" onclick=\"convertToInteractive('df-41245c24-fb90-4a24-8426-95114763b4bc')\"\n",
              "              title=\"Convert this dataframe to an interactive table.\"\n",
              "              style=\"display:none;\">\n",
              "        \n",
              "  <svg xmlns=\"http://www.w3.org/2000/svg\" height=\"24px\"viewBox=\"0 0 24 24\"\n",
              "       width=\"24px\">\n",
              "    <path d=\"M0 0h24v24H0V0z\" fill=\"none\"/>\n",
              "    <path d=\"M18.56 5.44l.94 2.06.94-2.06 2.06-.94-2.06-.94-.94-2.06-.94 2.06-2.06.94zm-11 1L8.5 8.5l.94-2.06 2.06-.94-2.06-.94L8.5 2.5l-.94 2.06-2.06.94zm10 10l.94 2.06.94-2.06 2.06-.94-2.06-.94-.94-2.06-.94 2.06-2.06.94z\"/><path d=\"M17.41 7.96l-1.37-1.37c-.4-.4-.92-.59-1.43-.59-.52 0-1.04.2-1.43.59L10.3 9.45l-7.72 7.72c-.78.78-.78 2.05 0 2.83L4 21.41c.39.39.9.59 1.41.59.51 0 1.02-.2 1.41-.59l7.78-7.78 2.81-2.81c.8-.78.8-2.07 0-2.86zM5.41 20L4 18.59l7.72-7.72 1.47 1.35L5.41 20z\"/>\n",
              "  </svg>\n",
              "      </button>\n",
              "      \n",
              "  <style>\n",
              "    .colab-df-container {\n",
              "      display:flex;\n",
              "      flex-wrap:wrap;\n",
              "      gap: 12px;\n",
              "    }\n",
              "\n",
              "    .colab-df-convert {\n",
              "      background-color: #E8F0FE;\n",
              "      border: none;\n",
              "      border-radius: 50%;\n",
              "      cursor: pointer;\n",
              "      display: none;\n",
              "      fill: #1967D2;\n",
              "      height: 32px;\n",
              "      padding: 0 0 0 0;\n",
              "      width: 32px;\n",
              "    }\n",
              "\n",
              "    .colab-df-convert:hover {\n",
              "      background-color: #E2EBFA;\n",
              "      box-shadow: 0px 1px 2px rgba(60, 64, 67, 0.3), 0px 1px 3px 1px rgba(60, 64, 67, 0.15);\n",
              "      fill: #174EA6;\n",
              "    }\n",
              "\n",
              "    [theme=dark] .colab-df-convert {\n",
              "      background-color: #3B4455;\n",
              "      fill: #D2E3FC;\n",
              "    }\n",
              "\n",
              "    [theme=dark] .colab-df-convert:hover {\n",
              "      background-color: #434B5C;\n",
              "      box-shadow: 0px 1px 3px 1px rgba(0, 0, 0, 0.15);\n",
              "      filter: drop-shadow(0px 1px 2px rgba(0, 0, 0, 0.3));\n",
              "      fill: #FFFFFF;\n",
              "    }\n",
              "  </style>\n",
              "\n",
              "      <script>\n",
              "        const buttonEl =\n",
              "          document.querySelector('#df-41245c24-fb90-4a24-8426-95114763b4bc button.colab-df-convert');\n",
              "        buttonEl.style.display =\n",
              "          google.colab.kernel.accessAllowed ? 'block' : 'none';\n",
              "\n",
              "        async function convertToInteractive(key) {\n",
              "          const element = document.querySelector('#df-41245c24-fb90-4a24-8426-95114763b4bc');\n",
              "          const dataTable =\n",
              "            await google.colab.kernel.invokeFunction('convertToInteractive',\n",
              "                                                     [key], {});\n",
              "          if (!dataTable) return;\n",
              "\n",
              "          const docLinkHtml = 'Like what you see? Visit the ' +\n",
              "            '<a target=\"_blank\" href=https://colab.research.google.com/notebooks/data_table.ipynb>data table notebook</a>'\n",
              "            + ' to learn more about interactive tables.';\n",
              "          element.innerHTML = '';\n",
              "          dataTable['output_type'] = 'display_data';\n",
              "          await google.colab.output.renderOutput(dataTable, element);\n",
              "          const docLink = document.createElement('div');\n",
              "          docLink.innerHTML = docLinkHtml;\n",
              "          element.appendChild(docLink);\n",
              "        }\n",
              "      </script>\n",
              "    </div>\n",
              "  </div>\n",
              "  "
            ]
          },
          "metadata": {},
          "execution_count": 17
        }
      ]
    },
    {
      "cell_type": "code",
      "metadata": {
        "colab": {
          "base_uri": "https://localhost:8080/"
        },
        "id": "9MO6OSZ9PUdP",
        "outputId": "544a7ff2-9d80-4f71-9342-40c809e50a27"
      },
      "source": [
        "dfConverted.convert_dtypes()\n",
        "print(dfConverted.dtypes)"
      ],
      "execution_count": null,
      "outputs": [
        {
          "output_type": "stream",
          "name": "stdout",
          "text": [
            "Age                   Int64\n",
            "Gender               string\n",
            "Race                 string\n",
            "IncidentOffence      string\n",
            "ChargeDescription    string\n",
            "District             string\n",
            "date                 object\n",
            "time                 object\n",
            "dtype: object\n"
          ]
        }
      ]
    },
    {
      "cell_type": "markdown",
      "metadata": {
        "id": "b0FdFMYKbQe1"
      },
      "source": [
        "While date and time being objects seems wrong to me, They should be comparable to other objects within the column. Which is satisfactory enough for the one hot encoder. Thus I will leave them as is."
      ]
    },
    {
      "cell_type": "markdown",
      "source": [
        "### Keeping my pyspark dataframe updated\n",
        "Now that I have a pandas dataframe that is in the general format I need for modelling, I want to create a way to turn it back into a spark dataframe on the off chance it would be more efficient to use a spark dataframe."
      ],
      "metadata": {
        "id": "U7u7JJHjjw1Y"
      }
    },
    {
      "cell_type": "code",
      "source": [
        "from pyspark.sql.types import *\n",
        "#copied from https://stackoverflow.com/questions/37513355/converting-pandas-dataframe-into-spark-dataframe-error\n",
        "# Auxiliar functions\n",
        "def equivalent_type(f):\n",
        "    if f == 'datetime64[ns]': return TimestampType()\n",
        "    elif f == 'Int64': return LongType()\n",
        "    elif f == 'Int32': return IntegerType()\n",
        "    elif f == 'Float64': return DoubleType()\n",
        "    elif f == 'Float32': return FloatType()\n",
        "    else: return StringType()\n",
        "\n",
        "def define_structure(string, format_type):\n",
        "    try: typo = equivalent_type(format_type)\n",
        "    except: typo = StringType()\n",
        "    return StructField(string, typo)\n",
        "\n",
        "# Given pandas dataframe, it will return a spark's dataframe.\n",
        "def pandas_to_spark(pandas_df):\n",
        "    columns = list(pandas_df.columns)\n",
        "    types = list(pandas_df.dtypes)\n",
        "    struct_list = []\n",
        "    for column, typo in zip(columns, types): \n",
        "      struct_list.append(define_structure(column, typo))\n",
        "    p_schema = StructType(struct_list)\n",
        "    return spark.createDataFrame(pandas_df, p_schema)"
      ],
      "metadata": {
        "id": "soNYOCgSiHtA"
      },
      "execution_count": null,
      "outputs": []
    },
    {
      "cell_type": "markdown",
      "metadata": {
        "id": "0k9OEsCjQQan"
      },
      "source": [
        "## Dealing with my NA values\n",
        "Now that I have all the relevant columns for my classification, I need to ensure that the values in said column are not going to cause my modeling pipeline issues.\n",
        "\n",
        "\n",
        "I will begin by first checking how many NA values I have in each column"
      ]
    },
    {
      "cell_type": "code",
      "metadata": {
        "id": "xNAdUVRNa3uz",
        "colab": {
          "base_uri": "https://localhost:8080/"
        },
        "outputId": "45153b81-0108-476a-d71b-ec96628b5885"
      },
      "source": [
        "print(dfConverted.isna().sum())"
      ],
      "execution_count": null,
      "outputs": [
        {
          "output_type": "stream",
          "name": "stdout",
          "text": [
            "Age                     87\n",
            "Gender                  39\n",
            "Race                    39\n",
            "IncidentOffence          0\n",
            "ChargeDescription        0\n",
            "District             86032\n",
            "date                     0\n",
            "time                     0\n",
            "dtype: int64\n"
          ]
        }
      ]
    },
    {
      "cell_type": "markdown",
      "metadata": {
        "id": "nzMo-xLkQyCd"
      },
      "source": [
        "I seem to have a couple NA values in Age, Gender, and Race (Ignore District for now). Due to the sheer size of the data, I can fill those with a value to denote that they were \"unknown\". But if they already have a value denoting \"unknown\" that would muddy the purity of the data. So before making that modification, I'll check for unique values for gender and race.\n",
        "- If **age** has no \"unknown\" value already then substituting 0 for all\n",
        "non positive age should suffice\n",
        "  - I will check this by simply checking if all ages are positive numbers\n",
        "- Gender should have 2 unique values. If it does then I know that NA values are most likely due to the gender being unknown at the time of the arrest according to my father who is a correctional officer\n",
        "- Similarly I will check the unique values of each of the values in race. If the values all relate to a particular race and/or contain a letter denoting \"other race\", I will consider my \"unknown\" hypothesis to be true and will modify the NAs accordingly."
      ]
    },
    {
      "cell_type": "markdown",
      "metadata": {
        "id": "N1pwOj8KVy6e"
      },
      "source": [
        "####I will begin with **Gender** since that is the easiest"
      ]
    },
    {
      "cell_type": "code",
      "metadata": {
        "colab": {
          "base_uri": "https://localhost:8080/"
        },
        "id": "5hvhuaozVoDK",
        "outputId": "c13b46ec-e6ca-4371-f0c2-ae0777f07c16"
      },
      "source": [
        "print(\"There are\", len(dfConverted.Gender.unique()), \"Non unique values\")\n",
        "dfConverted.Gender.unique()"
      ],
      "execution_count": null,
      "outputs": [
        {
          "output_type": "stream",
          "name": "stdout",
          "text": [
            "There are 3 Non unique values\n"
          ]
        },
        {
          "output_type": "execute_result",
          "data": {
            "text/plain": [
              "<StringArray>\n",
              "['M', 'F', <NA>]\n",
              "Length: 3, dtype: string"
            ]
          },
          "metadata": {},
          "execution_count": 21
        }
      ]
    },
    {
      "cell_type": "markdown",
      "metadata": {
        "id": "dU06vkbfWL4S"
      },
      "source": [
        "My Hypothesis is correct, thus I will change all NA values to 'U' to denote that they were unknown."
      ]
    },
    {
      "cell_type": "code",
      "metadata": {
        "id": "ZhQyYaF6WUNU"
      },
      "source": [
        "dfConverted['Gender'] = dfConverted['Gender'].fillna('U')"
      ],
      "execution_count": null,
      "outputs": []
    },
    {
      "cell_type": "code",
      "metadata": {
        "colab": {
          "base_uri": "https://localhost:8080/"
        },
        "id": "_YLEzWFdWxSW",
        "outputId": "dba2a03e-d34b-4fc5-ebc3-1e7843fac7d8"
      },
      "source": [
        "dfConverted['Gender'].unique()"
      ],
      "execution_count": null,
      "outputs": [
        {
          "output_type": "execute_result",
          "data": {
            "text/plain": [
              "<StringArray>\n",
              "['M', 'F', 'U']\n",
              "Length: 3, dtype: string"
            ]
          },
          "metadata": {},
          "execution_count": 23
        }
      ]
    },
    {
      "cell_type": "markdown",
      "metadata": {
        "id": "2jZkaMBeW_sn"
      },
      "source": [
        "####**Age** will be handled similarly"
      ]
    },
    {
      "cell_type": "code",
      "metadata": {
        "colab": {
          "base_uri": "https://localhost:8080/"
        },
        "id": "HgRpw8OtXKcS",
        "outputId": "1b6d88d2-4813-48a4-bd97-fc0b47fdd40c"
      },
      "source": [
        "dfConverted.Age.unique()"
      ],
      "execution_count": null,
      "outputs": [
        {
          "output_type": "execute_result",
          "data": {
            "text/plain": [
              "<IntegerArray>\n",
              "[  27,   45,   42,   26,   19,   18,   38,   33,   29,   35,   31,   23,   40,\n",
              "   61,   43,   36,   32,   55,   48,   16,   17,   21,   57,   64,   34,   56,\n",
              "   52,   25,   69,   41,   39,   30,   20,   37,   24,   44,   54,   22,   51,\n",
              "   28,   46,   47,   53,   50,   62,   58,   49,   59,   63,   66,   67,   60,\n",
              "   65,   71,   68,   70,   72,   75, <NA>,   76,   73,   74,   14,   15,   78,\n",
              "   81,   80,   79,   77,   85,   82,   87,   83,  100,   84,   88]\n",
              "Length: 76, dtype: Int64"
            ]
          },
          "metadata": {},
          "execution_count": 24
        }
      ]
    },
    {
      "cell_type": "code",
      "metadata": {
        "colab": {
          "base_uri": "https://localhost:8080/"
        },
        "id": "Y-PCmWkPXOxs",
        "outputId": "1eac5882-9a74-4b9f-99aa-7c294873fd69"
      },
      "source": [
        "dfConverted['Age'] = dfConverted['Age'].fillna(0)\n",
        "dfConverted.Age.unique()"
      ],
      "execution_count": null,
      "outputs": [
        {
          "output_type": "execute_result",
          "data": {
            "text/plain": [
              "<IntegerArray>\n",
              "[ 27,  45,  42,  26,  19,  18,  38,  33,  29,  35,  31,  23,  40,  61,  43,\n",
              "  36,  32,  55,  48,  16,  17,  21,  57,  64,  34,  56,  52,  25,  69,  41,\n",
              "  39,  30,  20,  37,  24,  44,  54,  22,  51,  28,  46,  47,  53,  50,  62,\n",
              "  58,  49,  59,  63,  66,  67,  60,  65,  71,  68,  70,  72,  75,   0,  76,\n",
              "  73,  74,  14,  15,  78,  81,  80,  79,  77,  85,  82,  87,  83, 100,  84,\n",
              "  88]\n",
              "Length: 76, dtype: Int64"
            ]
          },
          "metadata": {},
          "execution_count": 25
        }
      ]
    },
    {
      "cell_type": "markdown",
      "metadata": {
        "id": "GBYSMhN0Xk_u"
      },
      "source": [
        "####Finally I will handle **Race**"
      ]
    },
    {
      "cell_type": "code",
      "metadata": {
        "colab": {
          "base_uri": "https://localhost:8080/"
        },
        "id": "VN07ldutXrXy",
        "outputId": "574b9a5d-7afb-4282-81d5-c9beace2aee6"
      },
      "source": [
        "dfConverted.Race.unique()"
      ],
      "execution_count": null,
      "outputs": [
        {
          "output_type": "execute_result",
          "data": {
            "text/plain": [
              "<StringArray>\n",
              "['B', 'W', 'U', 'A', 'I', <NA>]\n",
              "Length: 6, dtype: string"
            ]
          },
          "metadata": {},
          "execution_count": 26
        }
      ]
    },
    {
      "cell_type": "markdown",
      "metadata": {
        "id": "wK1aQ516YPSH"
      },
      "source": [
        "It seems I was incorrect in my assumption on what the NAs meant. Since the About page for the dataset has no information regarding what each of the letters mean, I went to my father who has been a correctional officer for over 30 years. He confirmed the following:\n",
        "- B = Black\n",
        "- W = White\n",
        "- U = Unknown at time of arrest\n",
        "- A = Asian\n",
        "- I = Indian (Middle Eastern)\n",
        "\n",
        "This leads me to believe that 'NA' was actually used as the \"other\" category rather than the \"unknown category. So I will replace the NAs with an 'O' instead."
      ]
    },
    {
      "cell_type": "code",
      "metadata": {
        "colab": {
          "base_uri": "https://localhost:8080/"
        },
        "id": "VSfvnrTWZh51",
        "outputId": "aad8b61c-c0c7-4b04-a8d8-d078040d0841"
      },
      "source": [
        "dfConverted['Race'] = dfConverted['Race'].fillna('O')\n",
        "dfConverted.Race.unique()"
      ],
      "execution_count": null,
      "outputs": [
        {
          "output_type": "execute_result",
          "data": {
            "text/plain": [
              "<StringArray>\n",
              "['B', 'W', 'U', 'A', 'I', 'O']\n",
              "Length: 6, dtype: string"
            ]
          },
          "metadata": {},
          "execution_count": 27
        }
      ]
    },
    {
      "cell_type": "markdown",
      "metadata": {
        "id": "jNkiV68SZq1I"
      },
      "source": [
        "##NAs in my target Variable"
      ]
    },
    {
      "cell_type": "markdown",
      "metadata": {
        "id": "MSrzWvZdZ6Be"
      },
      "source": [
        "The initial NA check provided one more Row with an astonishing amount of NA values, My target column, District. Since the anount of NA values are so large and since its the target column for my classification, the resolution of this issue will require a different approach approach."
      ]
    },
    {
      "cell_type": "markdown",
      "source": [
        "## Updating the spark version of the dataframe\n",
        "Now that we have my data where I want it to be for modeling, I will take this opportunity to convert the pandas data to spark."
      ],
      "metadata": {
        "id": "2IQ35lZflNx5"
      }
    },
    {
      "cell_type": "code",
      "source": [
        "spark_df = pandas_to_spark(dfConverted)"
      ],
      "metadata": {
        "id": "sPkqNyP_l9GL"
      },
      "execution_count": null,
      "outputs": []
    },
    {
      "cell_type": "code",
      "source": [
        "spark_df.dtypes"
      ],
      "metadata": {
        "colab": {
          "base_uri": "https://localhost:8080/"
        },
        "id": "gQdfBXy1mF2u",
        "outputId": "42a2ce09-4069-4ff9-957b-befb6fb7fe7b"
      },
      "execution_count": null,
      "outputs": [
        {
          "output_type": "execute_result",
          "data": {
            "text/plain": [
              "[('Age', 'bigint'),\n",
              " ('Gender', 'string'),\n",
              " ('Race', 'string'),\n",
              " ('IncidentOffence', 'string'),\n",
              " ('ChargeDescription', 'string'),\n",
              " ('District', 'string'),\n",
              " ('date', 'string'),\n",
              " ('time', 'string')]"
            ]
          },
          "metadata": {},
          "execution_count": 29
        }
      ]
    },
    {
      "cell_type": "code",
      "source": [
        "spark_df.persist()"
      ],
      "metadata": {
        "colab": {
          "base_uri": "https://localhost:8080/"
        },
        "id": "sDmK9Yl2mrrF",
        "outputId": "d8dff867-7d5b-4b91-e194-630c35ae2f58"
      },
      "execution_count": null,
      "outputs": [
        {
          "output_type": "execute_result",
          "data": {
            "text/plain": [
              "DataFrame[Age: bigint, Gender: string, Race: string, IncidentOffence: string, ChargeDescription: string, District: string, date: string, time: string]"
            ]
          },
          "metadata": {},
          "execution_count": 30
        }
      ]
    },
    {
      "cell_type": "markdown",
      "metadata": {
        "id": "Qm6vhlkdbiGs"
      },
      "source": [
        "##Basic Info about the Database\n",
        "For now I will begin gathering basic info on my new datafram by checking the 5 number summary for each of my features"
      ]
    },
    {
      "cell_type": "code",
      "metadata": {
        "id": "lrMkpXDAbE6M",
        "colab": {
          "base_uri": "https://localhost:8080/"
        },
        "outputId": "4c2dd04d-14bd-4bb5-df34-a0e141cbd441"
      },
      "source": [
        "print(dfConverted.dtypes)\n",
        "print(dfConverted.describe(include='all').T)"
      ],
      "execution_count": null,
      "outputs": [
        {
          "output_type": "stream",
          "name": "stdout",
          "text": [
            "Age                   Int64\n",
            "Gender               string\n",
            "Race                 string\n",
            "IncidentOffence      string\n",
            "ChargeDescription    string\n",
            "District             string\n",
            "date                 object\n",
            "time                 object\n",
            "dtype: object\n",
            "                      count unique                top    freq       mean  \\\n",
            "Age                175923.0    NaN                NaN     NaN  32.949262   \n",
            "Gender               175923      3                  M  142091        NaN   \n",
            "Race                 175923      6                  B  144592        NaN   \n",
            "IncidentOffence      175923    172    Unknown Offense   91417        NaN   \n",
            "ChargeDescription    175923   7028  FAILURE TO APPEAR   27580        NaN   \n",
            "District              89891      9           Southern   11771        NaN   \n",
            "date                 175923   2866         2014-01-09     177        NaN   \n",
            "time                 175923   1440           11:00:00    2834        NaN   \n",
            "\n",
            "                         std  min   25%   50%   75%    max  \n",
            "Age                11.441689  0.0  24.0  30.0  40.0  100.0  \n",
            "Gender                   NaN  NaN   NaN   NaN   NaN    NaN  \n",
            "Race                     NaN  NaN   NaN   NaN   NaN    NaN  \n",
            "IncidentOffence          NaN  NaN   NaN   NaN   NaN    NaN  \n",
            "ChargeDescription        NaN  NaN   NaN   NaN   NaN    NaN  \n",
            "District                 NaN  NaN   NaN   NaN   NaN    NaN  \n",
            "date                     NaN  NaN   NaN   NaN   NaN    NaN  \n",
            "time                     NaN  NaN   NaN   NaN   NaN    NaN  \n"
          ]
        }
      ]
    },
    {
      "cell_type": "code",
      "metadata": {
        "colab": {
          "base_uri": "https://localhost:8080/"
        },
        "id": "hVRkJYYNuiiP",
        "outputId": "e512d1fa-431b-4528-be8f-d1af721ea4c4"
      },
      "source": [
        "print(\"Arrest Data is logged from: \", dfConverted.time.min(), \"to \", dfConverted.time.max())\n"
      ],
      "execution_count": null,
      "outputs": [
        {
          "output_type": "stream",
          "name": "stdout",
          "text": [
            "Arrest Data is logged from:  00:00:00 to  23:59:00\n"
          ]
        }
      ]
    },
    {
      "cell_type": "code",
      "metadata": {
        "colab": {
          "base_uri": "https://localhost:8080/"
        },
        "id": "HnKZrf-ldnis",
        "outputId": "4579c687-f04a-4f9a-a179-9f9980a0c7a8"
      },
      "source": [
        "print(\"Arrest Data Is collected All day from: \")\n",
        "print(dfConverted.date.min())\n",
        "print(\"To\")\n",
        "print(dfConverted.date.max())"
      ],
      "execution_count": null,
      "outputs": [
        {
          "output_type": "stream",
          "name": "stdout",
          "text": [
            "Arrest Data Is collected All day from: \n",
            "2014-01-01\n",
            "To\n",
            "2021-11-05\n"
          ]
        }
      ]
    },
    {
      "cell_type": "markdown",
      "metadata": {
        "id": "sqQgT-TPdOBT"
      },
      "source": [
        "####5 Number Summary Analysis\n",
        "Just from the 5 number summary alone, we got a wealth of information:\n",
        "- The most common way to get arrested is to not show up to your appointed court date. Whether its a major or minor offence, one should always try to make their court date.\n",
        "- Most arrests seem to be made around 11am.\n",
        "- The most amount of arrests made on a single day was on January 9th 2014\n",
        "- In the 7 years this data spans, the black males are the most likely to be arrested. There are many articles backing up policing bias that contributed to this trend. I will leave some articles below."
      ]
    },
    {
      "cell_type": "markdown",
      "metadata": {
        "id": "3bm0YrrDfufm"
      },
      "source": [
        "###### What happened on January 9th 2014"
      ]
    },
    {
      "cell_type": "code",
      "metadata": {
        "colab": {
          "base_uri": "https://localhost:8080/"
        },
        "id": "QQS0AWdWgXpN",
        "outputId": "4c507464-8f39-4d53-c407-e665f4256037"
      },
      "source": [
        "startdate = pd.to_datetime(\"2014-01-08\").date()\n",
        "enddate = pd.to_datetime(\"2014-01-09\").date()\n",
        "dfLargeArrests = dfConverted[(dfConverted['date'] > startdate) & (dfConverted['date'] <= enddate)]\n",
        "#I wanna view all rows so I will modify pandas default viewing size\n",
        "pd.set_option('display.max_rows', dfConverted.shape[0]+1)\n",
        "dfLargeArrests"
      ],
      "execution_count": null,
      "outputs": [
        {
          "output_type": "execute_result",
          "data": {
            "text/plain": [
              "        Age Gender Race            IncidentOffence  \\\n",
              "171946   51      M    B     87NARCOTICS              \n",
              "171947   34      M    B            Unknown Offense   \n",
              "171948   37      M    B     97SEARCH & SEIZURE       \n",
              "171949   53      M    W     97SEARCH & SEIZURE       \n",
              "171950   46      M    B     87NARCOTICS              \n",
              "171951   34      M    B     87NARCOTICS              \n",
              "171952   22      M    B     6CLARCENY- SHOPLIFTING   \n",
              "171953   49      M    B     6CLARCENY- SHOPLIFTING   \n",
              "171954   57      M    B            Unknown Offense   \n",
              "171955   57      M    B            Unknown Offense   \n",
              "171956   20      M    W     3KROBB RES. (UA)         \n",
              "171957   22      M    B            Unknown Offense   \n",
              "171958   30      M    B            Unknown Offense   \n",
              "171959   29      M    B     97SEARCH & SEIZURE       \n",
              "171960   36      M    B            Unknown Offense   \n",
              "171961   18      M    B     97SEARCH & SEIZURE       \n",
              "171962   40      F    B            Unknown Offense   \n",
              "171963   26      M    B     87NARCOTICS              \n",
              "171964   22      M    B     87NARCOTICS              \n",
              "171965   18      M    B     87ONARCOTICS (OUTSIDE)   \n",
              "171966   38      M    B     87NARCOTICS              \n",
              "171967   27      M    B     97SEARCH & SEIZURE       \n",
              "171968   29      M    B     97SEARCH & SEIZURE       \n",
              "171969   38      M    B     97SEARCH & SEIZURE       \n",
              "171970   22      F    B     87NARCOTICS              \n",
              "171971   26      F    B     87NARCOTICS              \n",
              "171972   20      M    B            Unknown Offense   \n",
              "171973   20      M    B            Unknown Offense   \n",
              "171974   25      M    B     87NARCOTICS              \n",
              "171975   21      M    B        3AFROBB HWY-FIREARM   \n",
              "171976   30      M    B            Unknown Offense   \n",
              "171977   24      M    B            Unknown Offense   \n",
              "171978   18      M    B            Unknown Offense   \n",
              "171979   52      M    B     79OTHER                  \n",
              "171980   24      M    B            Unknown Offense   \n",
              "171981   34      M    B     6DLARCENY- FROM AUTO     \n",
              "171982   27      F    B            Unknown Offense   \n",
              "171983   31      F    B            Unknown Offense   \n",
              "171984   20      F    B     87NARCOTICS              \n",
              "171985   47      M    B     97SEARCH & SEIZURE       \n",
              "171986   30      F    B     97SEARCH & SEIZURE       \n",
              "171987   23      M    B            Unknown Offense   \n",
              "171988   67      M    B     87ONARCOTICS (OUTSIDE)   \n",
              "171989   39      M    B            Unknown Offense   \n",
              "171990   54      M    B     87NARCOTICS              \n",
              "171991   47      M    W     87NARCOTICS              \n",
              "171992   20      F    B     54ARMED PERSON           \n",
              "171993   18      F    B     6CLARCENY- SHOPLIFTING   \n",
              "171994   25      M    W     4ECOMMON ASSAULT         \n",
              "171995   38      M    B            Unknown Offense   \n",
              "171996   41      M    B     55DISORDERLY PERSON      \n",
              "171997   39      F    B     54ARMED PERSON           \n",
              "171998   21      M    B  71SEX OFFENDER REGISTRY     \n",
              "171999   42      F    B     97SEARCH & SEIZURE       \n",
              "172000   39      M    B     97SEARCH & SEIZURE       \n",
              "172001   23      M    B     97SEARCH & SEIZURE       \n",
              "172002   22      F    B            Unknown Offense   \n",
              "172003   50      F    B     24TOWED VEHICLE          \n",
              "172004   49      F    B     24TOWED VEHICLE          \n",
              "172005   22      M    B     87NARCOTICS              \n",
              "172006   20      M    B            Unknown Offense   \n",
              "172007   19      M    B     87NARCOTICS              \n",
              "172008   23      M    B     87ONARCOTICS (OUTSIDE)   \n",
              "172009   22      M    B            Unknown Offense   \n",
              "172010   54      M    B     87NARCOTICS              \n",
              "172011   51      M    B            Unknown Offense   \n",
              "172012   41      F    B            Unknown Offense   \n",
              "172013   17      M    B            Unknown Offense   \n",
              "172014   59      M    B     87NARCOTICS              \n",
              "172015   32      M    B     87NARCOTICS              \n",
              "172016   40      M    B     6CLARCENY- SHOPLIFTING   \n",
              "172017   27      M    B     87NARCOTICS              \n",
              "172018   49      F    B     87NARCOTICS              \n",
              "172019   18      F    B     4CAGG. ASSLT.- OTH.      \n",
              "172020   23      F    W     6CLARCENY- SHOPLIFTING   \n",
              "172021   22      M    W     87NARCOTICS              \n",
              "172022   31      M    B     3BROBB HIGHWAY (UA)      \n",
              "172023   24      M    B            Unknown Offense   \n",
              "172024   32      M    B     87NARCOTICS              \n",
              "172025   46      M    B     3BROBB HIGHWAY (UA)      \n",
              "172026   32      M    W     87NARCOTICS              \n",
              "172027   27      M    B            Unknown Offense   \n",
              "172028   48      M    B     24TOWED VEHICLE          \n",
              "172029   26      M    B     24TOWED VEHICLE          \n",
              "172030   21      M    B     87NARCOTICS              \n",
              "172031   26      F    B            Unknown Offense   \n",
              "172032   19      M    B     4DAGG. ASSLT.- HAND      \n",
              "172033   26      F    B            Unknown Offense   \n",
              "172034   22      M    B     87NARCOTICS              \n",
              "172035   26      M    B     87NARCOTICS              \n",
              "172036   45      M    B     87NARCOTICS              \n",
              "172037   23      M    B     54ARMED PERSON           \n",
              "172038   32      M    B     54ARMED PERSON           \n",
              "172039   25      M    B     54ARMED PERSON           \n",
              "172040   18      M    B            Unknown Offense   \n",
              "172041   25      M    B     54ARMED PERSON           \n",
              "172042   51      M    B     6GLARCENY- FROM BLDG.    \n",
              "172043   20      F    B     97SEARCH & SEIZURE       \n",
              "172044   28      M    B     87ONARCOTICS (OUTSIDE)   \n",
              "172045   23      M    U            Unknown Offense   \n",
              "172046   49      M    W            Unknown Offense   \n",
              "172047   40      M    B     5ABURG. RES. (FORCE)     \n",
              "172048   23      M    W     5ABURG. RES. (FORCE)     \n",
              "172049   43      F    B            Unknown Offense   \n",
              "172050   23      M    W     5CBURG. RES. (NOFORCE)   \n",
              "172051   20      M    B             115TRESPASSING   \n",
              "172052   27      F    B     97SEARCH & SEIZURE       \n",
              "172053   22      M    B     97SEARCH & SEIZURE       \n",
              "172054   36      M    B     26RECOVERED VEHICLE      \n",
              "172055   22      M    B            Unknown Offense   \n",
              "172056   57      M    W            Unknown Offense   \n",
              "172057   19      M    B            Unknown Offense   \n",
              "172058   34      M    B     87NARCOTICS              \n",
              "172059   19      M    B            Unknown Offense   \n",
              "172060   22      M    B     97SEARCH & SEIZURE       \n",
              "172061   19      M    B     97SEARCH & SEIZURE       \n",
              "172062   20      M    B     87NARCOTICS              \n",
              "172063   35      M    B            Unknown Offense   \n",
              "172064   35      M    B            Unknown Offense   \n",
              "172065   23      F    B            Unknown Offense   \n",
              "172066   44      M    B            Unknown Offense   \n",
              "172067   23      M    B            Unknown Offense   \n",
              "172068   42      M    B     87NARCOTICS              \n",
              "172069   31      F    B            Unknown Offense   \n",
              "172070   49      M    B     6CLARCENY- SHOPLIFTING   \n",
              "172071   26      F    W            Unknown Offense   \n",
              "172072   42      M    U     79OTHER                  \n",
              "172073   25      M    W     87NARCOTICS              \n",
              "172074   41      M    W     79OTHER                  \n",
              "172075   36      M    B            Unknown Offense   \n",
              "172076   34      M    B     87NARCOTICS              \n",
              "172077   58      M    B     87NARCOTICS              \n",
              "172078   29      M    B     4ECOMMON ASSAULT         \n",
              "172079   51      M    B     87NARCOTICS              \n",
              "172080   25      M    B            Unknown Offense   \n",
              "172081   23      M    W     87NARCOTICS              \n",
              "172082   59      M    B            Unknown Offense   \n",
              "172083   40      M    B            Unknown Offense   \n",
              "172084   25      M    B            Unknown Offense   \n",
              "172085   27      F    B            Unknown Offense   \n",
              "172086   20      M    B     97SEARCH & SEIZURE       \n",
              "172087    0      M    B            Unknown Offense   \n",
              "172088   32      M    B            Unknown Offense   \n",
              "172089   32      M    B            Unknown Offense   \n",
              "172090   34      M    B            Unknown Offense   \n",
              "172091   21      M    B     97SEARCH & SEIZURE       \n",
              "172092   20      M    B        3AFROBB HWY-FIREARM   \n",
              "172093   24      M    B        3AFROBB HWY-FIREARM   \n",
              "172094   18      M    B        3AFROBB HWY-FIREARM   \n",
              "172095   25      M    B            Unknown Offense   \n",
              "172096   25      M    B     87NARCOTICS              \n",
              "172097   22      F    B     24TOWED VEHICLE          \n",
              "172098   52      F    B            Unknown Offense   \n",
              "172099   47      M    B     4DAGG. ASSLT.- HAND      \n",
              "172100   49      M    B     26RECOVERED VEHICLE      \n",
              "172101   20      F    B            Unknown Offense   \n",
              "172102   26      F    W            Unknown Offense   \n",
              "172103   21      M    B     4ECOMMON ASSAULT         \n",
              "172104   26      F    W            Unknown Offense   \n",
              "172105   25      M    B     79OTHER                  \n",
              "172106   36      F    W            Unknown Offense   \n",
              "172107   45      M    W            Unknown Offense   \n",
              "172108   27      M    W     6DLARCENY- FROM AUTO     \n",
              "172109   32      M    W     54ARMED PERSON           \n",
              "172110   40      M    U            Unknown Offense   \n",
              "172111   28      M    B     87NARCOTICS              \n",
              "172112   20      M    B            Unknown Offense   \n",
              "172113   31      M    B     6CLARCENY- SHOPLIFTING   \n",
              "172114   21      M    B            Unknown Offense   \n",
              "172115   28      M    B            Unknown Offense   \n",
              "172116   34      M    B            Unknown Offense   \n",
              "172117   22      M    B     4ECOMMON ASSAULT         \n",
              "172118   19      M    B            Unknown Offense   \n",
              "172119   33      M    W            Unknown Offense   \n",
              "172120   48      M    W            Unknown Offense   \n",
              "172121   20      M    B     79OTHER                  \n",
              "172122   29      M    W            Unknown Offense   \n",
              "\n",
              "                     ChargeDescription   District        date      time  \n",
              "171946                   CDS VIOLATION    Central  2014-01-09  23:55:00  \n",
              "171947               FAILURE TO APPEAR       <NA>  2014-01-09  23:44:00  \n",
              "171948                             VOP       <NA>  2014-01-09  23:19:00  \n",
              "171949                             CDS   Southern  2014-01-09  22:45:00  \n",
              "171950                             CDS    Central  2014-01-09  22:45:00  \n",
              "171951         POSSESSION OF MARIJUANA    Eastern  2014-01-09  22:30:00  \n",
              "171952                             CDS    Eastern  2014-01-09  22:30:00  \n",
              "171953               TRESPASS/LARCENCY    Eastern  2014-01-09  22:20:00  \n",
              "171954          VIOLATION OF PROBATION       <NA>  2014-01-09  22:03:00  \n",
              "171955               FAILURE TO APPEAR       <NA>  2014-01-09  22:03:00  \n",
              "171956                             B&E   Northern  2014-01-09  22:00:00  \n",
              "171957          VIOLATION OF PROBATION       <NA>  2014-01-09  22:00:00  \n",
              "171958             ATT 1ST DEG. MURDER       <NA>  2014-01-09  21:53:00  \n",
              "171959                   CDS VIOLATION  Northeast  2014-01-09  21:50:00  \n",
              "171960                   CDS VIOLATION  Northwest  2014-01-09  21:30:00  \n",
              "171961                   CDS VIOLATION    Eastern  2014-01-09  21:30:00  \n",
              "171962              ASSAULT-SEC DEGREE       <NA>  2014-01-09  21:20:00  \n",
              "171963                        CDS POSS    Central  2014-01-09  21:20:00  \n",
              "171964                             CDS    Eastern  2014-01-09  21:04:00  \n",
              "171965                      POSS W/INT   Southern  2014-01-09  21:00:00  \n",
              "171966                   CDS VIOLATION    Central  2014-01-09  21:00:00  \n",
              "171967                     HANDGUN/CDS    Western  2014-01-09  21:00:00  \n",
              "171968                     HANDGUN/CDS    Western  2014-01-09  21:00:00  \n",
              "171969                     HANDGUN/CDS    Western  2014-01-09  21:00:00  \n",
              "171970                   CDS VIOLATION  Southeast  2014-01-09  20:55:00  \n",
              "171971                   CDS VIOLATION  Southeast  2014-01-09  20:55:00  \n",
              "171972              ORDER OF THE COURT       <NA>  2014-01-09  20:54:00  \n",
              "171973          ARSON-TRASH CONTAINERS       <NA>  2014-01-09  20:54:00  \n",
              "171974                             CDS  Southeast  2014-01-09  20:46:00  \n",
              "171975                   ARMED ROBBERY   Northern  2014-01-09  20:32:00  \n",
              "171976                   CDS VIOLATION       <NA>  2014-01-09  20:30:00  \n",
              "171977                             CDS       <NA>  2014-01-09  20:30:00  \n",
              "171978                   CDS VIOLATION  Northeast  2014-01-09  20:20:00  \n",
              "171979               HANDGUN VIOLATION    Western  2014-01-09  20:20:00  \n",
              "171980                   CDS VIOLATION  Northeast  2014-01-09  20:20:00  \n",
              "171981  THEFT: $1,000 TO UNDER $10,000       <NA>  2014-01-09  20:15:00  \n",
              "171982        THEFT: LESS $1,000 VALUE       <NA>  2014-01-09  20:00:00  \n",
              "171983                  Unknown Charge   Southern  2014-01-09  20:00:00  \n",
              "171984                   CDS VIOLATION   Southern  2014-01-09  20:00:00  \n",
              "171985                         CDS PWI   Southern  2014-01-09  19:50:00  \n",
              "171986                         CDS PWI   Southern  2014-01-09  19:50:00  \n",
              "171987                        CDS POSS       <NA>  2014-01-09  19:45:00  \n",
              "171988              POSSESSION-COCAINE  Southeast  2014-01-09  19:45:00  \n",
              "171989               FAILURE TO APPEAR       <NA>  2014-01-09  19:39:00  \n",
              "171990                   CDS VIOLATION    Eastern  2014-01-09  19:15:00  \n",
              "171991                   CDS VIOLATION    Eastern  2014-01-09  19:15:00  \n",
              "171992                             HGU  Southeast  2014-01-09  18:28:00  \n",
              "171993                     SHOPLIFTING    Central  2014-01-09  18:15:00  \n",
              "171994                  POSS MARIJUANA  Southwest  2014-01-09  18:15:00  \n",
              "171995     DRIVING UNDER THE INFLUENCE  Northeast  2014-01-09  18:15:00  \n",
              "171996                      DISORDERLY  Northwest  2014-01-09  18:00:00  \n",
              "171997                             HGV  Southeast  2014-01-09  18:00:00  \n",
              "171998    FAIL REG OFFENDER/FALSE INFO       <NA>  2014-01-09  17:51:00  \n",
              "171999                     PWI COCAINE   Southern  2014-01-09  17:45:00  \n",
              "172000                       PWI CRACK   Southern  2014-01-09  17:45:00  \n",
              "172001                    PWID COCAINE   Southern  2014-01-09  17:45:00  \n",
              "172002          VIOLATION OF PROBATION       <NA>  2014-01-09  17:30:00  \n",
              "172003                   CDS VIOLATION   Northern  2014-01-09  17:30:00  \n",
              "172004                   CDS VIOLATION   Northern  2014-01-09  17:15:00  \n",
              "172005            POSSESSION MARIJUANA  Southwest  2014-01-09  17:08:00  \n",
              "172006                  Unknown Charge       <NA>  2014-01-09  16:40:00  \n",
              "172007            POSS W/INT MARIJUANA  Northwest  2014-01-09  16:40:00  \n",
              "172008                   CDS VIOLATION   Northern  2014-01-09  16:30:00  \n",
              "172009             ATT 1ST DEG. MURDER       <NA>  2014-01-09  16:30:00  \n",
              "172010                   CDS VIOLATION    Central  2014-01-09  16:25:00  \n",
              "172011                  OPEN CONTAINER    Eastern  2014-01-09  16:13:00  \n",
              "172012                  OPEN CONTAINER    Eastern  2014-01-09  16:13:00  \n",
              "172013                             CDS  Southwest  2014-01-09  16:00:00  \n",
              "172014          VIOLATION OF PROBATION       <NA>  2014-01-09  16:00:00  \n",
              "172015                   CDS VIOLATION    Central  2014-01-09  16:00:00  \n",
              "172016                           THEFT    Central  2014-01-09  15:30:00  \n",
              "172017                             CDS    Eastern  2014-01-09  15:30:00  \n",
              "172018                   CDS VIOLATION    Eastern  2014-01-09  15:28:00  \n",
              "172019           ASSAULT - 1ST. DEGREE   Northern  2014-01-09  15:25:00  \n",
              "172020                           THEFT   Southern  2014-01-09  15:20:00  \n",
              "172021                             CDS    Central  2014-01-09  15:05:00  \n",
              "172022                 UNARMED ROBBERY   Southern  2014-01-09  15:03:00  \n",
              "172023                   ARMED ROBBERY       <NA>  2014-01-09  14:30:00  \n",
              "172024                             CDS    Central  2014-01-09  14:00:00  \n",
              "172025                DOMESTIC ASSAULT   Northern  2014-01-09  14:00:00  \n",
              "172026               FAILURE TO APPEAR       <NA>  2014-01-09  14:00:00  \n",
              "172027               FAILURE TO APPEAR       <NA>  2014-01-09  14:00:00  \n",
              "172028                DIST. OF COCAINE   Northern  2014-01-09  13:50:00  \n",
              "172029                 DIST OF COCAINE   Northern  2014-01-09  13:50:00  \n",
              "172030       CDS VIOLATION-HEROIN PWID    Western  2014-01-09  13:50:00  \n",
              "172031               FAILURE TO APPEAR       <NA>  2014-01-09  13:30:00  \n",
              "172032              CHILD ENDANGERMENT    Eastern  2014-01-09  13:30:00  \n",
              "172033               FAILURE TO APPEAR       <NA>  2014-01-09  13:30:00  \n",
              "172034                   CDS VIOLATION  Southeast  2014-01-09  13:20:00  \n",
              "172035              CDS POSS MARIJUANA  Southeast  2014-01-09  13:20:00  \n",
              "172036               POSSESSION HEROIN    Eastern  2014-01-09  13:15:00  \n",
              "172037                             HGV  Southeast  2014-01-09  13:05:00  \n",
              "172038                             HGV  Southeast  2014-01-09  13:05:00  \n",
              "172039                             HGV  Southeast  2014-01-09  13:05:00  \n",
              "172040                  Unknown Charge  Southeast  2014-01-09  13:05:00  \n",
              "172041                             HGV  Southeast  2014-01-09  13:05:00  \n",
              "172042                  THEFT OVER 100  Southeast  2014-01-09  12:50:00  \n",
              "172043         POSSESSION OF MARIJUANA   Southern  2014-01-09  12:45:00  \n",
              "172044                      CDS HEROIN  Southeast  2014-01-09  12:40:00  \n",
              "172045                 FAILURE TO OBEY       <NA>  2014-01-09  12:40:00  \n",
              "172046               FAILURE TO APPEAR       <NA>  2014-01-09  12:30:00  \n",
              "172047                        BURGLARY   Southern  2014-01-09  12:30:00  \n",
              "172048           BURGLARY-THIRD DEGREE       <NA>  2014-01-09  12:00:00  \n",
              "172049               FAILURE TO APPEAR       <NA>  2014-01-09  12:00:00  \n",
              "172050           BURGLARY-FIRST DEGREE       <NA>  2014-01-09  12:00:00  \n",
              "172051                     TRESPASSING    Central  2014-01-09  11:55:00  \n",
              "172052              HAND GUN VIOLATION  Southeast  2014-01-09  11:45:00  \n",
              "172053                        CDS PWID   Southern  2014-01-09  11:45:00  \n",
              "172054                     STOLEN AUTO    Eastern  2014-01-09  11:30:00  \n",
              "172055               FAILURE TO APPEAR       <NA>  2014-01-09  11:30:00  \n",
              "172056              DISORDERLY CONDUCT       <NA>  2014-01-09  11:15:00  \n",
              "172057          VIOLATION OF PROBATION       <NA>  2014-01-09  11:00:00  \n",
              "172058               FAILURE TO APPEAR       <NA>  2014-01-09  11:00:00  \n",
              "172059          VIOLATION OF PROBATION       <NA>  2014-01-09  11:00:00  \n",
              "172060                  POSS MARIJUANA   Southern  2014-01-09  10:55:00  \n",
              "172061                 POSS. MARIJUANA   Southern  2014-01-09  10:55:00  \n",
              "172062                             CDS    Central  2014-01-09  10:50:00  \n",
              "172063  DRIVING UNDER INFLUENCE OF ALC  Northeast  2014-01-09  10:45:00  \n",
              "172064               FAILURE TO APPEAR       <NA>  2014-01-09  10:45:00  \n",
              "172065            ASSAULT-FIRST DEGREE       <NA>  2014-01-09  10:40:00  \n",
              "172066              ASSAULT-SEC DEGREE       <NA>  2014-01-09  10:30:00  \n",
              "172067               FAILURE TO APPEAR       <NA>  2014-01-09  10:30:00  \n",
              "172068                        CDS POSS  Northeast  2014-01-09  10:25:00  \n",
              "172069              ASSAULT-SEC DEGREE       <NA>  2014-01-09  10:15:00  \n",
              "172070                         LARCENY  Northwest  2014-01-09  10:00:00  \n",
              "172071               FAILURE TO APPEAR       <NA>  2014-01-09  09:55:00  \n",
              "172072              POSS DEADLY WEAPON  Southwest  2014-01-09  09:30:00  \n",
              "172073               CDS- DISTRIBUTION    Western  2014-01-09  09:30:00  \n",
              "172074                  CDS POSSESSION  Southeast  2014-01-09  09:30:00  \n",
              "172075    FAIL REG OFFENDER/FALSE INFO       <NA>  2014-01-09  09:15:00  \n",
              "172076                   CDS VIOLATION    Eastern  2014-01-09  09:15:00  \n",
              "172077                  CDS POSSESSION  Southwest  2014-01-09  09:00:00  \n",
              "172078                  COMMON ASSAULT    Eastern  2014-01-09  09:00:00  \n",
              "172079                  CDS POSSESSION  Southwest  2014-01-09  09:00:00  \n",
              "172080          VIOLATION OF PROBATION       <NA>  2014-01-09  08:30:00  \n",
              "172081                   CDS VIOLATION   Northern  2014-01-09  08:30:00  \n",
              "172082               FAILURE TO APPEAR       <NA>  2014-01-09  08:30:00  \n",
              "172083   CHILD ABUSE-2ND DEGREE: HOUSE       <NA>  2014-01-09  08:00:00  \n",
              "172084           BURGLARY-THIRD DEGREE       <NA>  2014-01-09  07:30:00  \n",
              "172085              ASSAULT-SEC DEGREE       <NA>  2014-01-09  06:30:00  \n",
              "172086  POSSESSION WITH INTENT TO DIST    Western  2014-01-09  06:13:00  \n",
              "172087              ASSAULT-SEC DEGREE       <NA>  2014-01-09  05:30:00  \n",
              "172088               FAILURE TO APPEAR       <NA>  2014-01-09  05:30:00  \n",
              "172089          VIOLATION OF PROBATION       <NA>  2014-01-09  05:30:00  \n",
              "172090          VIOLATION OF PROBATION       <NA>  2014-01-09  04:45:00  \n",
              "172091                   CDS VIOLATION  Northeast  2014-01-09  04:42:00  \n",
              "172092               HANDGUN VIOLATION  Northeast  2014-01-09  04:40:00  \n",
              "172093               HANDGUN VIOLATION  Northeast  2014-01-09  04:40:00  \n",
              "172094               HANDGUN VIOLATION  Northeast  2014-01-09  04:40:00  \n",
              "172095               FAILURE TO APPEAR       <NA>  2014-01-09  04:25:00  \n",
              "172096                             CDS    Western  2014-01-09  04:15:00  \n",
              "172097                             CDS  Northwest  2014-01-09  04:00:00  \n",
              "172098               FAILURE TO APPEAR       <NA>  2014-01-09  04:00:00  \n",
              "172099                      AGGRAVATED    Western  2014-01-09  03:40:00  \n",
              "172100                  STOLEN VEHICLE    Western  2014-01-09  03:35:00  \n",
              "172101               FAILURE TO APPEAR       <NA>  2014-01-09  03:14:00  \n",
              "172102               FAILURE TO APPEAR       <NA>  2014-01-09  03:02:00  \n",
              "172103                  COMMON ASSAULT  Northeast  2014-01-09  03:00:00  \n",
              "172104               FAILURE TO APPEAR       <NA>  2014-01-09  02:53:00  \n",
              "172105                 FALSE STATEMENT  Northeast  2014-01-09  02:44:00  \n",
              "172106            FAILURE TO PAY WAGES       <NA>  2014-01-09  02:35:00  \n",
              "172107               FAILURE TO APPEAR       <NA>  2014-01-09  02:30:00  \n",
              "172108               LARCENY FROM AUTO   Southern  2014-01-09  02:18:00  \n",
              "172109     POSS. OF A DANGEROUS WEAPON    Central  2014-01-09  02:00:00  \n",
              "172110                    DRIV W/O LIC  Southeast  2014-01-09  01:51:00  \n",
              "172111                   CDS VIOLATION  Northeast  2014-01-09  01:50:00  \n",
              "172112             ATT 1ST DEG. MURDER       <NA>  2014-01-09  01:50:00  \n",
              "172113               THEFT UNDER $1000    Central  2014-01-09  01:47:00  \n",
              "172114   DRIV RENTED MOTOR VEH IN VIOL  Southeast  2014-01-09  01:20:00  \n",
              "172115                  Unknown Charge  Southeast  2014-01-09  01:19:00  \n",
              "172116          VIOLATION OF PROBATION       <NA>  2014-01-09  01:00:00  \n",
              "172117                  COMMON ASSALUT  Northwest  2014-01-09  00:35:00  \n",
              "172118               ATT-CDS DIST-NARC       <NA>  2014-01-09  00:28:00  \n",
              "172119                  Unknown Charge       <NA>  2014-01-09  00:28:00  \n",
              "172120     BURGLARY/2ND DEGREE/GENERAL       <NA>  2014-01-09  00:28:00  \n",
              "172121            FALSE INFO TO POLICE  Southwest  2014-01-09  00:22:00  \n",
              "172122               FAILURE TO APPEAR       <NA>  2014-01-09  00:02:00  "
            ],
            "text/html": [
              "\n",
              "  <div id=\"df-2a13adb2-855c-4298-bb18-8e875d35d7ea\">\n",
              "    <div class=\"colab-df-container\">\n",
              "      <div>\n",
              "<style scoped>\n",
              "    .dataframe tbody tr th:only-of-type {\n",
              "        vertical-align: middle;\n",
              "    }\n",
              "\n",
              "    .dataframe tbody tr th {\n",
              "        vertical-align: top;\n",
              "    }\n",
              "\n",
              "    .dataframe thead th {\n",
              "        text-align: right;\n",
              "    }\n",
              "</style>\n",
              "<table border=\"1\" class=\"dataframe\">\n",
              "  <thead>\n",
              "    <tr style=\"text-align: right;\">\n",
              "      <th></th>\n",
              "      <th>Age</th>\n",
              "      <th>Gender</th>\n",
              "      <th>Race</th>\n",
              "      <th>IncidentOffence</th>\n",
              "      <th>ChargeDescription</th>\n",
              "      <th>District</th>\n",
              "      <th>date</th>\n",
              "      <th>time</th>\n",
              "    </tr>\n",
              "  </thead>\n",
              "  <tbody>\n",
              "    <tr>\n",
              "      <th>171946</th>\n",
              "      <td>51</td>\n",
              "      <td>M</td>\n",
              "      <td>B</td>\n",
              "      <td>87NARCOTICS</td>\n",
              "      <td>CDS VIOLATION</td>\n",
              "      <td>Central</td>\n",
              "      <td>2014-01-09</td>\n",
              "      <td>23:55:00</td>\n",
              "    </tr>\n",
              "    <tr>\n",
              "      <th>171947</th>\n",
              "      <td>34</td>\n",
              "      <td>M</td>\n",
              "      <td>B</td>\n",
              "      <td>Unknown Offense</td>\n",
              "      <td>FAILURE TO APPEAR</td>\n",
              "      <td>&lt;NA&gt;</td>\n",
              "      <td>2014-01-09</td>\n",
              "      <td>23:44:00</td>\n",
              "    </tr>\n",
              "    <tr>\n",
              "      <th>171948</th>\n",
              "      <td>37</td>\n",
              "      <td>M</td>\n",
              "      <td>B</td>\n",
              "      <td>97SEARCH &amp; SEIZURE</td>\n",
              "      <td>VOP</td>\n",
              "      <td>&lt;NA&gt;</td>\n",
              "      <td>2014-01-09</td>\n",
              "      <td>23:19:00</td>\n",
              "    </tr>\n",
              "    <tr>\n",
              "      <th>171949</th>\n",
              "      <td>53</td>\n",
              "      <td>M</td>\n",
              "      <td>W</td>\n",
              "      <td>97SEARCH &amp; SEIZURE</td>\n",
              "      <td>CDS</td>\n",
              "      <td>Southern</td>\n",
              "      <td>2014-01-09</td>\n",
              "      <td>22:45:00</td>\n",
              "    </tr>\n",
              "    <tr>\n",
              "      <th>171950</th>\n",
              "      <td>46</td>\n",
              "      <td>M</td>\n",
              "      <td>B</td>\n",
              "      <td>87NARCOTICS</td>\n",
              "      <td>CDS</td>\n",
              "      <td>Central</td>\n",
              "      <td>2014-01-09</td>\n",
              "      <td>22:45:00</td>\n",
              "    </tr>\n",
              "    <tr>\n",
              "      <th>171951</th>\n",
              "      <td>34</td>\n",
              "      <td>M</td>\n",
              "      <td>B</td>\n",
              "      <td>87NARCOTICS</td>\n",
              "      <td>POSSESSION OF MARIJUANA</td>\n",
              "      <td>Eastern</td>\n",
              "      <td>2014-01-09</td>\n",
              "      <td>22:30:00</td>\n",
              "    </tr>\n",
              "    <tr>\n",
              "      <th>171952</th>\n",
              "      <td>22</td>\n",
              "      <td>M</td>\n",
              "      <td>B</td>\n",
              "      <td>6CLARCENY- SHOPLIFTING</td>\n",
              "      <td>CDS</td>\n",
              "      <td>Eastern</td>\n",
              "      <td>2014-01-09</td>\n",
              "      <td>22:30:00</td>\n",
              "    </tr>\n",
              "    <tr>\n",
              "      <th>171953</th>\n",
              "      <td>49</td>\n",
              "      <td>M</td>\n",
              "      <td>B</td>\n",
              "      <td>6CLARCENY- SHOPLIFTING</td>\n",
              "      <td>TRESPASS/LARCENCY</td>\n",
              "      <td>Eastern</td>\n",
              "      <td>2014-01-09</td>\n",
              "      <td>22:20:00</td>\n",
              "    </tr>\n",
              "    <tr>\n",
              "      <th>171954</th>\n",
              "      <td>57</td>\n",
              "      <td>M</td>\n",
              "      <td>B</td>\n",
              "      <td>Unknown Offense</td>\n",
              "      <td>VIOLATION OF PROBATION</td>\n",
              "      <td>&lt;NA&gt;</td>\n",
              "      <td>2014-01-09</td>\n",
              "      <td>22:03:00</td>\n",
              "    </tr>\n",
              "    <tr>\n",
              "      <th>171955</th>\n",
              "      <td>57</td>\n",
              "      <td>M</td>\n",
              "      <td>B</td>\n",
              "      <td>Unknown Offense</td>\n",
              "      <td>FAILURE TO APPEAR</td>\n",
              "      <td>&lt;NA&gt;</td>\n",
              "      <td>2014-01-09</td>\n",
              "      <td>22:03:00</td>\n",
              "    </tr>\n",
              "    <tr>\n",
              "      <th>171956</th>\n",
              "      <td>20</td>\n",
              "      <td>M</td>\n",
              "      <td>W</td>\n",
              "      <td>3KROBB RES. (UA)</td>\n",
              "      <td>B&amp;E</td>\n",
              "      <td>Northern</td>\n",
              "      <td>2014-01-09</td>\n",
              "      <td>22:00:00</td>\n",
              "    </tr>\n",
              "    <tr>\n",
              "      <th>171957</th>\n",
              "      <td>22</td>\n",
              "      <td>M</td>\n",
              "      <td>B</td>\n",
              "      <td>Unknown Offense</td>\n",
              "      <td>VIOLATION OF PROBATION</td>\n",
              "      <td>&lt;NA&gt;</td>\n",
              "      <td>2014-01-09</td>\n",
              "      <td>22:00:00</td>\n",
              "    </tr>\n",
              "    <tr>\n",
              "      <th>171958</th>\n",
              "      <td>30</td>\n",
              "      <td>M</td>\n",
              "      <td>B</td>\n",
              "      <td>Unknown Offense</td>\n",
              "      <td>ATT 1ST DEG. MURDER</td>\n",
              "      <td>&lt;NA&gt;</td>\n",
              "      <td>2014-01-09</td>\n",
              "      <td>21:53:00</td>\n",
              "    </tr>\n",
              "    <tr>\n",
              "      <th>171959</th>\n",
              "      <td>29</td>\n",
              "      <td>M</td>\n",
              "      <td>B</td>\n",
              "      <td>97SEARCH &amp; SEIZURE</td>\n",
              "      <td>CDS VIOLATION</td>\n",
              "      <td>Northeast</td>\n",
              "      <td>2014-01-09</td>\n",
              "      <td>21:50:00</td>\n",
              "    </tr>\n",
              "    <tr>\n",
              "      <th>171960</th>\n",
              "      <td>36</td>\n",
              "      <td>M</td>\n",
              "      <td>B</td>\n",
              "      <td>Unknown Offense</td>\n",
              "      <td>CDS VIOLATION</td>\n",
              "      <td>Northwest</td>\n",
              "      <td>2014-01-09</td>\n",
              "      <td>21:30:00</td>\n",
              "    </tr>\n",
              "    <tr>\n",
              "      <th>171961</th>\n",
              "      <td>18</td>\n",
              "      <td>M</td>\n",
              "      <td>B</td>\n",
              "      <td>97SEARCH &amp; SEIZURE</td>\n",
              "      <td>CDS VIOLATION</td>\n",
              "      <td>Eastern</td>\n",
              "      <td>2014-01-09</td>\n",
              "      <td>21:30:00</td>\n",
              "    </tr>\n",
              "    <tr>\n",
              "      <th>171962</th>\n",
              "      <td>40</td>\n",
              "      <td>F</td>\n",
              "      <td>B</td>\n",
              "      <td>Unknown Offense</td>\n",
              "      <td>ASSAULT-SEC DEGREE</td>\n",
              "      <td>&lt;NA&gt;</td>\n",
              "      <td>2014-01-09</td>\n",
              "      <td>21:20:00</td>\n",
              "    </tr>\n",
              "    <tr>\n",
              "      <th>171963</th>\n",
              "      <td>26</td>\n",
              "      <td>M</td>\n",
              "      <td>B</td>\n",
              "      <td>87NARCOTICS</td>\n",
              "      <td>CDS POSS</td>\n",
              "      <td>Central</td>\n",
              "      <td>2014-01-09</td>\n",
              "      <td>21:20:00</td>\n",
              "    </tr>\n",
              "    <tr>\n",
              "      <th>171964</th>\n",
              "      <td>22</td>\n",
              "      <td>M</td>\n",
              "      <td>B</td>\n",
              "      <td>87NARCOTICS</td>\n",
              "      <td>CDS</td>\n",
              "      <td>Eastern</td>\n",
              "      <td>2014-01-09</td>\n",
              "      <td>21:04:00</td>\n",
              "    </tr>\n",
              "    <tr>\n",
              "      <th>171965</th>\n",
              "      <td>18</td>\n",
              "      <td>M</td>\n",
              "      <td>B</td>\n",
              "      <td>87ONARCOTICS (OUTSIDE)</td>\n",
              "      <td>POSS W/INT</td>\n",
              "      <td>Southern</td>\n",
              "      <td>2014-01-09</td>\n",
              "      <td>21:00:00</td>\n",
              "    </tr>\n",
              "    <tr>\n",
              "      <th>171966</th>\n",
              "      <td>38</td>\n",
              "      <td>M</td>\n",
              "      <td>B</td>\n",
              "      <td>87NARCOTICS</td>\n",
              "      <td>CDS VIOLATION</td>\n",
              "      <td>Central</td>\n",
              "      <td>2014-01-09</td>\n",
              "      <td>21:00:00</td>\n",
              "    </tr>\n",
              "    <tr>\n",
              "      <th>171967</th>\n",
              "      <td>27</td>\n",
              "      <td>M</td>\n",
              "      <td>B</td>\n",
              "      <td>97SEARCH &amp; SEIZURE</td>\n",
              "      <td>HANDGUN/CDS</td>\n",
              "      <td>Western</td>\n",
              "      <td>2014-01-09</td>\n",
              "      <td>21:00:00</td>\n",
              "    </tr>\n",
              "    <tr>\n",
              "      <th>171968</th>\n",
              "      <td>29</td>\n",
              "      <td>M</td>\n",
              "      <td>B</td>\n",
              "      <td>97SEARCH &amp; SEIZURE</td>\n",
              "      <td>HANDGUN/CDS</td>\n",
              "      <td>Western</td>\n",
              "      <td>2014-01-09</td>\n",
              "      <td>21:00:00</td>\n",
              "    </tr>\n",
              "    <tr>\n",
              "      <th>171969</th>\n",
              "      <td>38</td>\n",
              "      <td>M</td>\n",
              "      <td>B</td>\n",
              "      <td>97SEARCH &amp; SEIZURE</td>\n",
              "      <td>HANDGUN/CDS</td>\n",
              "      <td>Western</td>\n",
              "      <td>2014-01-09</td>\n",
              "      <td>21:00:00</td>\n",
              "    </tr>\n",
              "    <tr>\n",
              "      <th>171970</th>\n",
              "      <td>22</td>\n",
              "      <td>F</td>\n",
              "      <td>B</td>\n",
              "      <td>87NARCOTICS</td>\n",
              "      <td>CDS VIOLATION</td>\n",
              "      <td>Southeast</td>\n",
              "      <td>2014-01-09</td>\n",
              "      <td>20:55:00</td>\n",
              "    </tr>\n",
              "    <tr>\n",
              "      <th>171971</th>\n",
              "      <td>26</td>\n",
              "      <td>F</td>\n",
              "      <td>B</td>\n",
              "      <td>87NARCOTICS</td>\n",
              "      <td>CDS VIOLATION</td>\n",
              "      <td>Southeast</td>\n",
              "      <td>2014-01-09</td>\n",
              "      <td>20:55:00</td>\n",
              "    </tr>\n",
              "    <tr>\n",
              "      <th>171972</th>\n",
              "      <td>20</td>\n",
              "      <td>M</td>\n",
              "      <td>B</td>\n",
              "      <td>Unknown Offense</td>\n",
              "      <td>ORDER OF THE COURT</td>\n",
              "      <td>&lt;NA&gt;</td>\n",
              "      <td>2014-01-09</td>\n",
              "      <td>20:54:00</td>\n",
              "    </tr>\n",
              "    <tr>\n",
              "      <th>171973</th>\n",
              "      <td>20</td>\n",
              "      <td>M</td>\n",
              "      <td>B</td>\n",
              "      <td>Unknown Offense</td>\n",
              "      <td>ARSON-TRASH CONTAINERS</td>\n",
              "      <td>&lt;NA&gt;</td>\n",
              "      <td>2014-01-09</td>\n",
              "      <td>20:54:00</td>\n",
              "    </tr>\n",
              "    <tr>\n",
              "      <th>171974</th>\n",
              "      <td>25</td>\n",
              "      <td>M</td>\n",
              "      <td>B</td>\n",
              "      <td>87NARCOTICS</td>\n",
              "      <td>CDS</td>\n",
              "      <td>Southeast</td>\n",
              "      <td>2014-01-09</td>\n",
              "      <td>20:46:00</td>\n",
              "    </tr>\n",
              "    <tr>\n",
              "      <th>171975</th>\n",
              "      <td>21</td>\n",
              "      <td>M</td>\n",
              "      <td>B</td>\n",
              "      <td>3AFROBB HWY-FIREARM</td>\n",
              "      <td>ARMED ROBBERY</td>\n",
              "      <td>Northern</td>\n",
              "      <td>2014-01-09</td>\n",
              "      <td>20:32:00</td>\n",
              "    </tr>\n",
              "    <tr>\n",
              "      <th>171976</th>\n",
              "      <td>30</td>\n",
              "      <td>M</td>\n",
              "      <td>B</td>\n",
              "      <td>Unknown Offense</td>\n",
              "      <td>CDS VIOLATION</td>\n",
              "      <td>&lt;NA&gt;</td>\n",
              "      <td>2014-01-09</td>\n",
              "      <td>20:30:00</td>\n",
              "    </tr>\n",
              "    <tr>\n",
              "      <th>171977</th>\n",
              "      <td>24</td>\n",
              "      <td>M</td>\n",
              "      <td>B</td>\n",
              "      <td>Unknown Offense</td>\n",
              "      <td>CDS</td>\n",
              "      <td>&lt;NA&gt;</td>\n",
              "      <td>2014-01-09</td>\n",
              "      <td>20:30:00</td>\n",
              "    </tr>\n",
              "    <tr>\n",
              "      <th>171978</th>\n",
              "      <td>18</td>\n",
              "      <td>M</td>\n",
              "      <td>B</td>\n",
              "      <td>Unknown Offense</td>\n",
              "      <td>CDS VIOLATION</td>\n",
              "      <td>Northeast</td>\n",
              "      <td>2014-01-09</td>\n",
              "      <td>20:20:00</td>\n",
              "    </tr>\n",
              "    <tr>\n",
              "      <th>171979</th>\n",
              "      <td>52</td>\n",
              "      <td>M</td>\n",
              "      <td>B</td>\n",
              "      <td>79OTHER</td>\n",
              "      <td>HANDGUN VIOLATION</td>\n",
              "      <td>Western</td>\n",
              "      <td>2014-01-09</td>\n",
              "      <td>20:20:00</td>\n",
              "    </tr>\n",
              "    <tr>\n",
              "      <th>171980</th>\n",
              "      <td>24</td>\n",
              "      <td>M</td>\n",
              "      <td>B</td>\n",
              "      <td>Unknown Offense</td>\n",
              "      <td>CDS VIOLATION</td>\n",
              "      <td>Northeast</td>\n",
              "      <td>2014-01-09</td>\n",
              "      <td>20:20:00</td>\n",
              "    </tr>\n",
              "    <tr>\n",
              "      <th>171981</th>\n",
              "      <td>34</td>\n",
              "      <td>M</td>\n",
              "      <td>B</td>\n",
              "      <td>6DLARCENY- FROM AUTO</td>\n",
              "      <td>THEFT: $1,000 TO UNDER $10,000</td>\n",
              "      <td>&lt;NA&gt;</td>\n",
              "      <td>2014-01-09</td>\n",
              "      <td>20:15:00</td>\n",
              "    </tr>\n",
              "    <tr>\n",
              "      <th>171982</th>\n",
              "      <td>27</td>\n",
              "      <td>F</td>\n",
              "      <td>B</td>\n",
              "      <td>Unknown Offense</td>\n",
              "      <td>THEFT: LESS $1,000 VALUE</td>\n",
              "      <td>&lt;NA&gt;</td>\n",
              "      <td>2014-01-09</td>\n",
              "      <td>20:00:00</td>\n",
              "    </tr>\n",
              "    <tr>\n",
              "      <th>171983</th>\n",
              "      <td>31</td>\n",
              "      <td>F</td>\n",
              "      <td>B</td>\n",
              "      <td>Unknown Offense</td>\n",
              "      <td>Unknown Charge</td>\n",
              "      <td>Southern</td>\n",
              "      <td>2014-01-09</td>\n",
              "      <td>20:00:00</td>\n",
              "    </tr>\n",
              "    <tr>\n",
              "      <th>171984</th>\n",
              "      <td>20</td>\n",
              "      <td>F</td>\n",
              "      <td>B</td>\n",
              "      <td>87NARCOTICS</td>\n",
              "      <td>CDS VIOLATION</td>\n",
              "      <td>Southern</td>\n",
              "      <td>2014-01-09</td>\n",
              "      <td>20:00:00</td>\n",
              "    </tr>\n",
              "    <tr>\n",
              "      <th>171985</th>\n",
              "      <td>47</td>\n",
              "      <td>M</td>\n",
              "      <td>B</td>\n",
              "      <td>97SEARCH &amp; SEIZURE</td>\n",
              "      <td>CDS PWI</td>\n",
              "      <td>Southern</td>\n",
              "      <td>2014-01-09</td>\n",
              "      <td>19:50:00</td>\n",
              "    </tr>\n",
              "    <tr>\n",
              "      <th>171986</th>\n",
              "      <td>30</td>\n",
              "      <td>F</td>\n",
              "      <td>B</td>\n",
              "      <td>97SEARCH &amp; SEIZURE</td>\n",
              "      <td>CDS PWI</td>\n",
              "      <td>Southern</td>\n",
              "      <td>2014-01-09</td>\n",
              "      <td>19:50:00</td>\n",
              "    </tr>\n",
              "    <tr>\n",
              "      <th>171987</th>\n",
              "      <td>23</td>\n",
              "      <td>M</td>\n",
              "      <td>B</td>\n",
              "      <td>Unknown Offense</td>\n",
              "      <td>CDS POSS</td>\n",
              "      <td>&lt;NA&gt;</td>\n",
              "      <td>2014-01-09</td>\n",
              "      <td>19:45:00</td>\n",
              "    </tr>\n",
              "    <tr>\n",
              "      <th>171988</th>\n",
              "      <td>67</td>\n",
              "      <td>M</td>\n",
              "      <td>B</td>\n",
              "      <td>87ONARCOTICS (OUTSIDE)</td>\n",
              "      <td>POSSESSION-COCAINE</td>\n",
              "      <td>Southeast</td>\n",
              "      <td>2014-01-09</td>\n",
              "      <td>19:45:00</td>\n",
              "    </tr>\n",
              "    <tr>\n",
              "      <th>171989</th>\n",
              "      <td>39</td>\n",
              "      <td>M</td>\n",
              "      <td>B</td>\n",
              "      <td>Unknown Offense</td>\n",
              "      <td>FAILURE TO APPEAR</td>\n",
              "      <td>&lt;NA&gt;</td>\n",
              "      <td>2014-01-09</td>\n",
              "      <td>19:39:00</td>\n",
              "    </tr>\n",
              "    <tr>\n",
              "      <th>171990</th>\n",
              "      <td>54</td>\n",
              "      <td>M</td>\n",
              "      <td>B</td>\n",
              "      <td>87NARCOTICS</td>\n",
              "      <td>CDS VIOLATION</td>\n",
              "      <td>Eastern</td>\n",
              "      <td>2014-01-09</td>\n",
              "      <td>19:15:00</td>\n",
              "    </tr>\n",
              "    <tr>\n",
              "      <th>171991</th>\n",
              "      <td>47</td>\n",
              "      <td>M</td>\n",
              "      <td>W</td>\n",
              "      <td>87NARCOTICS</td>\n",
              "      <td>CDS VIOLATION</td>\n",
              "      <td>Eastern</td>\n",
              "      <td>2014-01-09</td>\n",
              "      <td>19:15:00</td>\n",
              "    </tr>\n",
              "    <tr>\n",
              "      <th>171992</th>\n",
              "      <td>20</td>\n",
              "      <td>F</td>\n",
              "      <td>B</td>\n",
              "      <td>54ARMED PERSON</td>\n",
              "      <td>HGU</td>\n",
              "      <td>Southeast</td>\n",
              "      <td>2014-01-09</td>\n",
              "      <td>18:28:00</td>\n",
              "    </tr>\n",
              "    <tr>\n",
              "      <th>171993</th>\n",
              "      <td>18</td>\n",
              "      <td>F</td>\n",
              "      <td>B</td>\n",
              "      <td>6CLARCENY- SHOPLIFTING</td>\n",
              "      <td>SHOPLIFTING</td>\n",
              "      <td>Central</td>\n",
              "      <td>2014-01-09</td>\n",
              "      <td>18:15:00</td>\n",
              "    </tr>\n",
              "    <tr>\n",
              "      <th>171994</th>\n",
              "      <td>25</td>\n",
              "      <td>M</td>\n",
              "      <td>W</td>\n",
              "      <td>4ECOMMON ASSAULT</td>\n",
              "      <td>POSS MARIJUANA</td>\n",
              "      <td>Southwest</td>\n",
              "      <td>2014-01-09</td>\n",
              "      <td>18:15:00</td>\n",
              "    </tr>\n",
              "    <tr>\n",
              "      <th>171995</th>\n",
              "      <td>38</td>\n",
              "      <td>M</td>\n",
              "      <td>B</td>\n",
              "      <td>Unknown Offense</td>\n",
              "      <td>DRIVING UNDER THE INFLUENCE</td>\n",
              "      <td>Northeast</td>\n",
              "      <td>2014-01-09</td>\n",
              "      <td>18:15:00</td>\n",
              "    </tr>\n",
              "    <tr>\n",
              "      <th>171996</th>\n",
              "      <td>41</td>\n",
              "      <td>M</td>\n",
              "      <td>B</td>\n",
              "      <td>55DISORDERLY PERSON</td>\n",
              "      <td>DISORDERLY</td>\n",
              "      <td>Northwest</td>\n",
              "      <td>2014-01-09</td>\n",
              "      <td>18:00:00</td>\n",
              "    </tr>\n",
              "    <tr>\n",
              "      <th>171997</th>\n",
              "      <td>39</td>\n",
              "      <td>F</td>\n",
              "      <td>B</td>\n",
              "      <td>54ARMED PERSON</td>\n",
              "      <td>HGV</td>\n",
              "      <td>Southeast</td>\n",
              "      <td>2014-01-09</td>\n",
              "      <td>18:00:00</td>\n",
              "    </tr>\n",
              "    <tr>\n",
              "      <th>171998</th>\n",
              "      <td>21</td>\n",
              "      <td>M</td>\n",
              "      <td>B</td>\n",
              "      <td>71SEX OFFENDER REGISTRY</td>\n",
              "      <td>FAIL REG OFFENDER/FALSE INFO</td>\n",
              "      <td>&lt;NA&gt;</td>\n",
              "      <td>2014-01-09</td>\n",
              "      <td>17:51:00</td>\n",
              "    </tr>\n",
              "    <tr>\n",
              "      <th>171999</th>\n",
              "      <td>42</td>\n",
              "      <td>F</td>\n",
              "      <td>B</td>\n",
              "      <td>97SEARCH &amp; SEIZURE</td>\n",
              "      <td>PWI COCAINE</td>\n",
              "      <td>Southern</td>\n",
              "      <td>2014-01-09</td>\n",
              "      <td>17:45:00</td>\n",
              "    </tr>\n",
              "    <tr>\n",
              "      <th>172000</th>\n",
              "      <td>39</td>\n",
              "      <td>M</td>\n",
              "      <td>B</td>\n",
              "      <td>97SEARCH &amp; SEIZURE</td>\n",
              "      <td>PWI CRACK</td>\n",
              "      <td>Southern</td>\n",
              "      <td>2014-01-09</td>\n",
              "      <td>17:45:00</td>\n",
              "    </tr>\n",
              "    <tr>\n",
              "      <th>172001</th>\n",
              "      <td>23</td>\n",
              "      <td>M</td>\n",
              "      <td>B</td>\n",
              "      <td>97SEARCH &amp; SEIZURE</td>\n",
              "      <td>PWID COCAINE</td>\n",
              "      <td>Southern</td>\n",
              "      <td>2014-01-09</td>\n",
              "      <td>17:45:00</td>\n",
              "    </tr>\n",
              "    <tr>\n",
              "      <th>172002</th>\n",
              "      <td>22</td>\n",
              "      <td>F</td>\n",
              "      <td>B</td>\n",
              "      <td>Unknown Offense</td>\n",
              "      <td>VIOLATION OF PROBATION</td>\n",
              "      <td>&lt;NA&gt;</td>\n",
              "      <td>2014-01-09</td>\n",
              "      <td>17:30:00</td>\n",
              "    </tr>\n",
              "    <tr>\n",
              "      <th>172003</th>\n",
              "      <td>50</td>\n",
              "      <td>F</td>\n",
              "      <td>B</td>\n",
              "      <td>24TOWED VEHICLE</td>\n",
              "      <td>CDS VIOLATION</td>\n",
              "      <td>Northern</td>\n",
              "      <td>2014-01-09</td>\n",
              "      <td>17:30:00</td>\n",
              "    </tr>\n",
              "    <tr>\n",
              "      <th>172004</th>\n",
              "      <td>49</td>\n",
              "      <td>F</td>\n",
              "      <td>B</td>\n",
              "      <td>24TOWED VEHICLE</td>\n",
              "      <td>CDS VIOLATION</td>\n",
              "      <td>Northern</td>\n",
              "      <td>2014-01-09</td>\n",
              "      <td>17:15:00</td>\n",
              "    </tr>\n",
              "    <tr>\n",
              "      <th>172005</th>\n",
              "      <td>22</td>\n",
              "      <td>M</td>\n",
              "      <td>B</td>\n",
              "      <td>87NARCOTICS</td>\n",
              "      <td>POSSESSION MARIJUANA</td>\n",
              "      <td>Southwest</td>\n",
              "      <td>2014-01-09</td>\n",
              "      <td>17:08:00</td>\n",
              "    </tr>\n",
              "    <tr>\n",
              "      <th>172006</th>\n",
              "      <td>20</td>\n",
              "      <td>M</td>\n",
              "      <td>B</td>\n",
              "      <td>Unknown Offense</td>\n",
              "      <td>Unknown Charge</td>\n",
              "      <td>&lt;NA&gt;</td>\n",
              "      <td>2014-01-09</td>\n",
              "      <td>16:40:00</td>\n",
              "    </tr>\n",
              "    <tr>\n",
              "      <th>172007</th>\n",
              "      <td>19</td>\n",
              "      <td>M</td>\n",
              "      <td>B</td>\n",
              "      <td>87NARCOTICS</td>\n",
              "      <td>POSS W/INT MARIJUANA</td>\n",
              "      <td>Northwest</td>\n",
              "      <td>2014-01-09</td>\n",
              "      <td>16:40:00</td>\n",
              "    </tr>\n",
              "    <tr>\n",
              "      <th>172008</th>\n",
              "      <td>23</td>\n",
              "      <td>M</td>\n",
              "      <td>B</td>\n",
              "      <td>87ONARCOTICS (OUTSIDE)</td>\n",
              "      <td>CDS VIOLATION</td>\n",
              "      <td>Northern</td>\n",
              "      <td>2014-01-09</td>\n",
              "      <td>16:30:00</td>\n",
              "    </tr>\n",
              "    <tr>\n",
              "      <th>172009</th>\n",
              "      <td>22</td>\n",
              "      <td>M</td>\n",
              "      <td>B</td>\n",
              "      <td>Unknown Offense</td>\n",
              "      <td>ATT 1ST DEG. MURDER</td>\n",
              "      <td>&lt;NA&gt;</td>\n",
              "      <td>2014-01-09</td>\n",
              "      <td>16:30:00</td>\n",
              "    </tr>\n",
              "    <tr>\n",
              "      <th>172010</th>\n",
              "      <td>54</td>\n",
              "      <td>M</td>\n",
              "      <td>B</td>\n",
              "      <td>87NARCOTICS</td>\n",
              "      <td>CDS VIOLATION</td>\n",
              "      <td>Central</td>\n",
              "      <td>2014-01-09</td>\n",
              "      <td>16:25:00</td>\n",
              "    </tr>\n",
              "    <tr>\n",
              "      <th>172011</th>\n",
              "      <td>51</td>\n",
              "      <td>M</td>\n",
              "      <td>B</td>\n",
              "      <td>Unknown Offense</td>\n",
              "      <td>OPEN CONTAINER</td>\n",
              "      <td>Eastern</td>\n",
              "      <td>2014-01-09</td>\n",
              "      <td>16:13:00</td>\n",
              "    </tr>\n",
              "    <tr>\n",
              "      <th>172012</th>\n",
              "      <td>41</td>\n",
              "      <td>F</td>\n",
              "      <td>B</td>\n",
              "      <td>Unknown Offense</td>\n",
              "      <td>OPEN CONTAINER</td>\n",
              "      <td>Eastern</td>\n",
              "      <td>2014-01-09</td>\n",
              "      <td>16:13:00</td>\n",
              "    </tr>\n",
              "    <tr>\n",
              "      <th>172013</th>\n",
              "      <td>17</td>\n",
              "      <td>M</td>\n",
              "      <td>B</td>\n",
              "      <td>Unknown Offense</td>\n",
              "      <td>CDS</td>\n",
              "      <td>Southwest</td>\n",
              "      <td>2014-01-09</td>\n",
              "      <td>16:00:00</td>\n",
              "    </tr>\n",
              "    <tr>\n",
              "      <th>172014</th>\n",
              "      <td>59</td>\n",
              "      <td>M</td>\n",
              "      <td>B</td>\n",
              "      <td>87NARCOTICS</td>\n",
              "      <td>VIOLATION OF PROBATION</td>\n",
              "      <td>&lt;NA&gt;</td>\n",
              "      <td>2014-01-09</td>\n",
              "      <td>16:00:00</td>\n",
              "    </tr>\n",
              "    <tr>\n",
              "      <th>172015</th>\n",
              "      <td>32</td>\n",
              "      <td>M</td>\n",
              "      <td>B</td>\n",
              "      <td>87NARCOTICS</td>\n",
              "      <td>CDS VIOLATION</td>\n",
              "      <td>Central</td>\n",
              "      <td>2014-01-09</td>\n",
              "      <td>16:00:00</td>\n",
              "    </tr>\n",
              "    <tr>\n",
              "      <th>172016</th>\n",
              "      <td>40</td>\n",
              "      <td>M</td>\n",
              "      <td>B</td>\n",
              "      <td>6CLARCENY- SHOPLIFTING</td>\n",
              "      <td>THEFT</td>\n",
              "      <td>Central</td>\n",
              "      <td>2014-01-09</td>\n",
              "      <td>15:30:00</td>\n",
              "    </tr>\n",
              "    <tr>\n",
              "      <th>172017</th>\n",
              "      <td>27</td>\n",
              "      <td>M</td>\n",
              "      <td>B</td>\n",
              "      <td>87NARCOTICS</td>\n",
              "      <td>CDS</td>\n",
              "      <td>Eastern</td>\n",
              "      <td>2014-01-09</td>\n",
              "      <td>15:30:00</td>\n",
              "    </tr>\n",
              "    <tr>\n",
              "      <th>172018</th>\n",
              "      <td>49</td>\n",
              "      <td>F</td>\n",
              "      <td>B</td>\n",
              "      <td>87NARCOTICS</td>\n",
              "      <td>CDS VIOLATION</td>\n",
              "      <td>Eastern</td>\n",
              "      <td>2014-01-09</td>\n",
              "      <td>15:28:00</td>\n",
              "    </tr>\n",
              "    <tr>\n",
              "      <th>172019</th>\n",
              "      <td>18</td>\n",
              "      <td>F</td>\n",
              "      <td>B</td>\n",
              "      <td>4CAGG. ASSLT.- OTH.</td>\n",
              "      <td>ASSAULT - 1ST. DEGREE</td>\n",
              "      <td>Northern</td>\n",
              "      <td>2014-01-09</td>\n",
              "      <td>15:25:00</td>\n",
              "    </tr>\n",
              "    <tr>\n",
              "      <th>172020</th>\n",
              "      <td>23</td>\n",
              "      <td>F</td>\n",
              "      <td>W</td>\n",
              "      <td>6CLARCENY- SHOPLIFTING</td>\n",
              "      <td>THEFT</td>\n",
              "      <td>Southern</td>\n",
              "      <td>2014-01-09</td>\n",
              "      <td>15:20:00</td>\n",
              "    </tr>\n",
              "    <tr>\n",
              "      <th>172021</th>\n",
              "      <td>22</td>\n",
              "      <td>M</td>\n",
              "      <td>W</td>\n",
              "      <td>87NARCOTICS</td>\n",
              "      <td>CDS</td>\n",
              "      <td>Central</td>\n",
              "      <td>2014-01-09</td>\n",
              "      <td>15:05:00</td>\n",
              "    </tr>\n",
              "    <tr>\n",
              "      <th>172022</th>\n",
              "      <td>31</td>\n",
              "      <td>M</td>\n",
              "      <td>B</td>\n",
              "      <td>3BROBB HIGHWAY (UA)</td>\n",
              "      <td>UNARMED ROBBERY</td>\n",
              "      <td>Southern</td>\n",
              "      <td>2014-01-09</td>\n",
              "      <td>15:03:00</td>\n",
              "    </tr>\n",
              "    <tr>\n",
              "      <th>172023</th>\n",
              "      <td>24</td>\n",
              "      <td>M</td>\n",
              "      <td>B</td>\n",
              "      <td>Unknown Offense</td>\n",
              "      <td>ARMED ROBBERY</td>\n",
              "      <td>&lt;NA&gt;</td>\n",
              "      <td>2014-01-09</td>\n",
              "      <td>14:30:00</td>\n",
              "    </tr>\n",
              "    <tr>\n",
              "      <th>172024</th>\n",
              "      <td>32</td>\n",
              "      <td>M</td>\n",
              "      <td>B</td>\n",
              "      <td>87NARCOTICS</td>\n",
              "      <td>CDS</td>\n",
              "      <td>Central</td>\n",
              "      <td>2014-01-09</td>\n",
              "      <td>14:00:00</td>\n",
              "    </tr>\n",
              "    <tr>\n",
              "      <th>172025</th>\n",
              "      <td>46</td>\n",
              "      <td>M</td>\n",
              "      <td>B</td>\n",
              "      <td>3BROBB HIGHWAY (UA)</td>\n",
              "      <td>DOMESTIC ASSAULT</td>\n",
              "      <td>Northern</td>\n",
              "      <td>2014-01-09</td>\n",
              "      <td>14:00:00</td>\n",
              "    </tr>\n",
              "    <tr>\n",
              "      <th>172026</th>\n",
              "      <td>32</td>\n",
              "      <td>M</td>\n",
              "      <td>W</td>\n",
              "      <td>87NARCOTICS</td>\n",
              "      <td>FAILURE TO APPEAR</td>\n",
              "      <td>&lt;NA&gt;</td>\n",
              "      <td>2014-01-09</td>\n",
              "      <td>14:00:00</td>\n",
              "    </tr>\n",
              "    <tr>\n",
              "      <th>172027</th>\n",
              "      <td>27</td>\n",
              "      <td>M</td>\n",
              "      <td>B</td>\n",
              "      <td>Unknown Offense</td>\n",
              "      <td>FAILURE TO APPEAR</td>\n",
              "      <td>&lt;NA&gt;</td>\n",
              "      <td>2014-01-09</td>\n",
              "      <td>14:00:00</td>\n",
              "    </tr>\n",
              "    <tr>\n",
              "      <th>172028</th>\n",
              "      <td>48</td>\n",
              "      <td>M</td>\n",
              "      <td>B</td>\n",
              "      <td>24TOWED VEHICLE</td>\n",
              "      <td>DIST. OF COCAINE</td>\n",
              "      <td>Northern</td>\n",
              "      <td>2014-01-09</td>\n",
              "      <td>13:50:00</td>\n",
              "    </tr>\n",
              "    <tr>\n",
              "      <th>172029</th>\n",
              "      <td>26</td>\n",
              "      <td>M</td>\n",
              "      <td>B</td>\n",
              "      <td>24TOWED VEHICLE</td>\n",
              "      <td>DIST OF COCAINE</td>\n",
              "      <td>Northern</td>\n",
              "      <td>2014-01-09</td>\n",
              "      <td>13:50:00</td>\n",
              "    </tr>\n",
              "    <tr>\n",
              "      <th>172030</th>\n",
              "      <td>21</td>\n",
              "      <td>M</td>\n",
              "      <td>B</td>\n",
              "      <td>87NARCOTICS</td>\n",
              "      <td>CDS VIOLATION-HEROIN PWID</td>\n",
              "      <td>Western</td>\n",
              "      <td>2014-01-09</td>\n",
              "      <td>13:50:00</td>\n",
              "    </tr>\n",
              "    <tr>\n",
              "      <th>172031</th>\n",
              "      <td>26</td>\n",
              "      <td>F</td>\n",
              "      <td>B</td>\n",
              "      <td>Unknown Offense</td>\n",
              "      <td>FAILURE TO APPEAR</td>\n",
              "      <td>&lt;NA&gt;</td>\n",
              "      <td>2014-01-09</td>\n",
              "      <td>13:30:00</td>\n",
              "    </tr>\n",
              "    <tr>\n",
              "      <th>172032</th>\n",
              "      <td>19</td>\n",
              "      <td>M</td>\n",
              "      <td>B</td>\n",
              "      <td>4DAGG. ASSLT.- HAND</td>\n",
              "      <td>CHILD ENDANGERMENT</td>\n",
              "      <td>Eastern</td>\n",
              "      <td>2014-01-09</td>\n",
              "      <td>13:30:00</td>\n",
              "    </tr>\n",
              "    <tr>\n",
              "      <th>172033</th>\n",
              "      <td>26</td>\n",
              "      <td>F</td>\n",
              "      <td>B</td>\n",
              "      <td>Unknown Offense</td>\n",
              "      <td>FAILURE TO APPEAR</td>\n",
              "      <td>&lt;NA&gt;</td>\n",
              "      <td>2014-01-09</td>\n",
              "      <td>13:30:00</td>\n",
              "    </tr>\n",
              "    <tr>\n",
              "      <th>172034</th>\n",
              "      <td>22</td>\n",
              "      <td>M</td>\n",
              "      <td>B</td>\n",
              "      <td>87NARCOTICS</td>\n",
              "      <td>CDS VIOLATION</td>\n",
              "      <td>Southeast</td>\n",
              "      <td>2014-01-09</td>\n",
              "      <td>13:20:00</td>\n",
              "    </tr>\n",
              "    <tr>\n",
              "      <th>172035</th>\n",
              "      <td>26</td>\n",
              "      <td>M</td>\n",
              "      <td>B</td>\n",
              "      <td>87NARCOTICS</td>\n",
              "      <td>CDS POSS MARIJUANA</td>\n",
              "      <td>Southeast</td>\n",
              "      <td>2014-01-09</td>\n",
              "      <td>13:20:00</td>\n",
              "    </tr>\n",
              "    <tr>\n",
              "      <th>172036</th>\n",
              "      <td>45</td>\n",
              "      <td>M</td>\n",
              "      <td>B</td>\n",
              "      <td>87NARCOTICS</td>\n",
              "      <td>POSSESSION HEROIN</td>\n",
              "      <td>Eastern</td>\n",
              "      <td>2014-01-09</td>\n",
              "      <td>13:15:00</td>\n",
              "    </tr>\n",
              "    <tr>\n",
              "      <th>172037</th>\n",
              "      <td>23</td>\n",
              "      <td>M</td>\n",
              "      <td>B</td>\n",
              "      <td>54ARMED PERSON</td>\n",
              "      <td>HGV</td>\n",
              "      <td>Southeast</td>\n",
              "      <td>2014-01-09</td>\n",
              "      <td>13:05:00</td>\n",
              "    </tr>\n",
              "    <tr>\n",
              "      <th>172038</th>\n",
              "      <td>32</td>\n",
              "      <td>M</td>\n",
              "      <td>B</td>\n",
              "      <td>54ARMED PERSON</td>\n",
              "      <td>HGV</td>\n",
              "      <td>Southeast</td>\n",
              "      <td>2014-01-09</td>\n",
              "      <td>13:05:00</td>\n",
              "    </tr>\n",
              "    <tr>\n",
              "      <th>172039</th>\n",
              "      <td>25</td>\n",
              "      <td>M</td>\n",
              "      <td>B</td>\n",
              "      <td>54ARMED PERSON</td>\n",
              "      <td>HGV</td>\n",
              "      <td>Southeast</td>\n",
              "      <td>2014-01-09</td>\n",
              "      <td>13:05:00</td>\n",
              "    </tr>\n",
              "    <tr>\n",
              "      <th>172040</th>\n",
              "      <td>18</td>\n",
              "      <td>M</td>\n",
              "      <td>B</td>\n",
              "      <td>Unknown Offense</td>\n",
              "      <td>Unknown Charge</td>\n",
              "      <td>Southeast</td>\n",
              "      <td>2014-01-09</td>\n",
              "      <td>13:05:00</td>\n",
              "    </tr>\n",
              "    <tr>\n",
              "      <th>172041</th>\n",
              "      <td>25</td>\n",
              "      <td>M</td>\n",
              "      <td>B</td>\n",
              "      <td>54ARMED PERSON</td>\n",
              "      <td>HGV</td>\n",
              "      <td>Southeast</td>\n",
              "      <td>2014-01-09</td>\n",
              "      <td>13:05:00</td>\n",
              "    </tr>\n",
              "    <tr>\n",
              "      <th>172042</th>\n",
              "      <td>51</td>\n",
              "      <td>M</td>\n",
              "      <td>B</td>\n",
              "      <td>6GLARCENY- FROM BLDG.</td>\n",
              "      <td>THEFT OVER 100</td>\n",
              "      <td>Southeast</td>\n",
              "      <td>2014-01-09</td>\n",
              "      <td>12:50:00</td>\n",
              "    </tr>\n",
              "    <tr>\n",
              "      <th>172043</th>\n",
              "      <td>20</td>\n",
              "      <td>F</td>\n",
              "      <td>B</td>\n",
              "      <td>97SEARCH &amp; SEIZURE</td>\n",
              "      <td>POSSESSION OF MARIJUANA</td>\n",
              "      <td>Southern</td>\n",
              "      <td>2014-01-09</td>\n",
              "      <td>12:45:00</td>\n",
              "    </tr>\n",
              "    <tr>\n",
              "      <th>172044</th>\n",
              "      <td>28</td>\n",
              "      <td>M</td>\n",
              "      <td>B</td>\n",
              "      <td>87ONARCOTICS (OUTSIDE)</td>\n",
              "      <td>CDS HEROIN</td>\n",
              "      <td>Southeast</td>\n",
              "      <td>2014-01-09</td>\n",
              "      <td>12:40:00</td>\n",
              "    </tr>\n",
              "    <tr>\n",
              "      <th>172045</th>\n",
              "      <td>23</td>\n",
              "      <td>M</td>\n",
              "      <td>U</td>\n",
              "      <td>Unknown Offense</td>\n",
              "      <td>FAILURE TO OBEY</td>\n",
              "      <td>&lt;NA&gt;</td>\n",
              "      <td>2014-01-09</td>\n",
              "      <td>12:40:00</td>\n",
              "    </tr>\n",
              "    <tr>\n",
              "      <th>172046</th>\n",
              "      <td>49</td>\n",
              "      <td>M</td>\n",
              "      <td>W</td>\n",
              "      <td>Unknown Offense</td>\n",
              "      <td>FAILURE TO APPEAR</td>\n",
              "      <td>&lt;NA&gt;</td>\n",
              "      <td>2014-01-09</td>\n",
              "      <td>12:30:00</td>\n",
              "    </tr>\n",
              "    <tr>\n",
              "      <th>172047</th>\n",
              "      <td>40</td>\n",
              "      <td>M</td>\n",
              "      <td>B</td>\n",
              "      <td>5ABURG. RES. (FORCE)</td>\n",
              "      <td>BURGLARY</td>\n",
              "      <td>Southern</td>\n",
              "      <td>2014-01-09</td>\n",
              "      <td>12:30:00</td>\n",
              "    </tr>\n",
              "    <tr>\n",
              "      <th>172048</th>\n",
              "      <td>23</td>\n",
              "      <td>M</td>\n",
              "      <td>W</td>\n",
              "      <td>5ABURG. RES. (FORCE)</td>\n",
              "      <td>BURGLARY-THIRD DEGREE</td>\n",
              "      <td>&lt;NA&gt;</td>\n",
              "      <td>2014-01-09</td>\n",
              "      <td>12:00:00</td>\n",
              "    </tr>\n",
              "    <tr>\n",
              "      <th>172049</th>\n",
              "      <td>43</td>\n",
              "      <td>F</td>\n",
              "      <td>B</td>\n",
              "      <td>Unknown Offense</td>\n",
              "      <td>FAILURE TO APPEAR</td>\n",
              "      <td>&lt;NA&gt;</td>\n",
              "      <td>2014-01-09</td>\n",
              "      <td>12:00:00</td>\n",
              "    </tr>\n",
              "    <tr>\n",
              "      <th>172050</th>\n",
              "      <td>23</td>\n",
              "      <td>M</td>\n",
              "      <td>W</td>\n",
              "      <td>5CBURG. RES. (NOFORCE)</td>\n",
              "      <td>BURGLARY-FIRST DEGREE</td>\n",
              "      <td>&lt;NA&gt;</td>\n",
              "      <td>2014-01-09</td>\n",
              "      <td>12:00:00</td>\n",
              "    </tr>\n",
              "    <tr>\n",
              "      <th>172051</th>\n",
              "      <td>20</td>\n",
              "      <td>M</td>\n",
              "      <td>B</td>\n",
              "      <td>115TRESPASSING</td>\n",
              "      <td>TRESPASSING</td>\n",
              "      <td>Central</td>\n",
              "      <td>2014-01-09</td>\n",
              "      <td>11:55:00</td>\n",
              "    </tr>\n",
              "    <tr>\n",
              "      <th>172052</th>\n",
              "      <td>27</td>\n",
              "      <td>F</td>\n",
              "      <td>B</td>\n",
              "      <td>97SEARCH &amp; SEIZURE</td>\n",
              "      <td>HAND GUN VIOLATION</td>\n",
              "      <td>Southeast</td>\n",
              "      <td>2014-01-09</td>\n",
              "      <td>11:45:00</td>\n",
              "    </tr>\n",
              "    <tr>\n",
              "      <th>172053</th>\n",
              "      <td>22</td>\n",
              "      <td>M</td>\n",
              "      <td>B</td>\n",
              "      <td>97SEARCH &amp; SEIZURE</td>\n",
              "      <td>CDS PWID</td>\n",
              "      <td>Southern</td>\n",
              "      <td>2014-01-09</td>\n",
              "      <td>11:45:00</td>\n",
              "    </tr>\n",
              "    <tr>\n",
              "      <th>172054</th>\n",
              "      <td>36</td>\n",
              "      <td>M</td>\n",
              "      <td>B</td>\n",
              "      <td>26RECOVERED VEHICLE</td>\n",
              "      <td>STOLEN AUTO</td>\n",
              "      <td>Eastern</td>\n",
              "      <td>2014-01-09</td>\n",
              "      <td>11:30:00</td>\n",
              "    </tr>\n",
              "    <tr>\n",
              "      <th>172055</th>\n",
              "      <td>22</td>\n",
              "      <td>M</td>\n",
              "      <td>B</td>\n",
              "      <td>Unknown Offense</td>\n",
              "      <td>FAILURE TO APPEAR</td>\n",
              "      <td>&lt;NA&gt;</td>\n",
              "      <td>2014-01-09</td>\n",
              "      <td>11:30:00</td>\n",
              "    </tr>\n",
              "    <tr>\n",
              "      <th>172056</th>\n",
              "      <td>57</td>\n",
              "      <td>M</td>\n",
              "      <td>W</td>\n",
              "      <td>Unknown Offense</td>\n",
              "      <td>DISORDERLY CONDUCT</td>\n",
              "      <td>&lt;NA&gt;</td>\n",
              "      <td>2014-01-09</td>\n",
              "      <td>11:15:00</td>\n",
              "    </tr>\n",
              "    <tr>\n",
              "      <th>172057</th>\n",
              "      <td>19</td>\n",
              "      <td>M</td>\n",
              "      <td>B</td>\n",
              "      <td>Unknown Offense</td>\n",
              "      <td>VIOLATION OF PROBATION</td>\n",
              "      <td>&lt;NA&gt;</td>\n",
              "      <td>2014-01-09</td>\n",
              "      <td>11:00:00</td>\n",
              "    </tr>\n",
              "    <tr>\n",
              "      <th>172058</th>\n",
              "      <td>34</td>\n",
              "      <td>M</td>\n",
              "      <td>B</td>\n",
              "      <td>87NARCOTICS</td>\n",
              "      <td>FAILURE TO APPEAR</td>\n",
              "      <td>&lt;NA&gt;</td>\n",
              "      <td>2014-01-09</td>\n",
              "      <td>11:00:00</td>\n",
              "    </tr>\n",
              "    <tr>\n",
              "      <th>172059</th>\n",
              "      <td>19</td>\n",
              "      <td>M</td>\n",
              "      <td>B</td>\n",
              "      <td>Unknown Offense</td>\n",
              "      <td>VIOLATION OF PROBATION</td>\n",
              "      <td>&lt;NA&gt;</td>\n",
              "      <td>2014-01-09</td>\n",
              "      <td>11:00:00</td>\n",
              "    </tr>\n",
              "    <tr>\n",
              "      <th>172060</th>\n",
              "      <td>22</td>\n",
              "      <td>M</td>\n",
              "      <td>B</td>\n",
              "      <td>97SEARCH &amp; SEIZURE</td>\n",
              "      <td>POSS MARIJUANA</td>\n",
              "      <td>Southern</td>\n",
              "      <td>2014-01-09</td>\n",
              "      <td>10:55:00</td>\n",
              "    </tr>\n",
              "    <tr>\n",
              "      <th>172061</th>\n",
              "      <td>19</td>\n",
              "      <td>M</td>\n",
              "      <td>B</td>\n",
              "      <td>97SEARCH &amp; SEIZURE</td>\n",
              "      <td>POSS. MARIJUANA</td>\n",
              "      <td>Southern</td>\n",
              "      <td>2014-01-09</td>\n",
              "      <td>10:55:00</td>\n",
              "    </tr>\n",
              "    <tr>\n",
              "      <th>172062</th>\n",
              "      <td>20</td>\n",
              "      <td>M</td>\n",
              "      <td>B</td>\n",
              "      <td>87NARCOTICS</td>\n",
              "      <td>CDS</td>\n",
              "      <td>Central</td>\n",
              "      <td>2014-01-09</td>\n",
              "      <td>10:50:00</td>\n",
              "    </tr>\n",
              "    <tr>\n",
              "      <th>172063</th>\n",
              "      <td>35</td>\n",
              "      <td>M</td>\n",
              "      <td>B</td>\n",
              "      <td>Unknown Offense</td>\n",
              "      <td>DRIVING UNDER INFLUENCE OF ALC</td>\n",
              "      <td>Northeast</td>\n",
              "      <td>2014-01-09</td>\n",
              "      <td>10:45:00</td>\n",
              "    </tr>\n",
              "    <tr>\n",
              "      <th>172064</th>\n",
              "      <td>35</td>\n",
              "      <td>M</td>\n",
              "      <td>B</td>\n",
              "      <td>Unknown Offense</td>\n",
              "      <td>FAILURE TO APPEAR</td>\n",
              "      <td>&lt;NA&gt;</td>\n",
              "      <td>2014-01-09</td>\n",
              "      <td>10:45:00</td>\n",
              "    </tr>\n",
              "    <tr>\n",
              "      <th>172065</th>\n",
              "      <td>23</td>\n",
              "      <td>F</td>\n",
              "      <td>B</td>\n",
              "      <td>Unknown Offense</td>\n",
              "      <td>ASSAULT-FIRST DEGREE</td>\n",
              "      <td>&lt;NA&gt;</td>\n",
              "      <td>2014-01-09</td>\n",
              "      <td>10:40:00</td>\n",
              "    </tr>\n",
              "    <tr>\n",
              "      <th>172066</th>\n",
              "      <td>44</td>\n",
              "      <td>M</td>\n",
              "      <td>B</td>\n",
              "      <td>Unknown Offense</td>\n",
              "      <td>ASSAULT-SEC DEGREE</td>\n",
              "      <td>&lt;NA&gt;</td>\n",
              "      <td>2014-01-09</td>\n",
              "      <td>10:30:00</td>\n",
              "    </tr>\n",
              "    <tr>\n",
              "      <th>172067</th>\n",
              "      <td>23</td>\n",
              "      <td>M</td>\n",
              "      <td>B</td>\n",
              "      <td>Unknown Offense</td>\n",
              "      <td>FAILURE TO APPEAR</td>\n",
              "      <td>&lt;NA&gt;</td>\n",
              "      <td>2014-01-09</td>\n",
              "      <td>10:30:00</td>\n",
              "    </tr>\n",
              "    <tr>\n",
              "      <th>172068</th>\n",
              "      <td>42</td>\n",
              "      <td>M</td>\n",
              "      <td>B</td>\n",
              "      <td>87NARCOTICS</td>\n",
              "      <td>CDS POSS</td>\n",
              "      <td>Northeast</td>\n",
              "      <td>2014-01-09</td>\n",
              "      <td>10:25:00</td>\n",
              "    </tr>\n",
              "    <tr>\n",
              "      <th>172069</th>\n",
              "      <td>31</td>\n",
              "      <td>F</td>\n",
              "      <td>B</td>\n",
              "      <td>Unknown Offense</td>\n",
              "      <td>ASSAULT-SEC DEGREE</td>\n",
              "      <td>&lt;NA&gt;</td>\n",
              "      <td>2014-01-09</td>\n",
              "      <td>10:15:00</td>\n",
              "    </tr>\n",
              "    <tr>\n",
              "      <th>172070</th>\n",
              "      <td>49</td>\n",
              "      <td>M</td>\n",
              "      <td>B</td>\n",
              "      <td>6CLARCENY- SHOPLIFTING</td>\n",
              "      <td>LARCENY</td>\n",
              "      <td>Northwest</td>\n",
              "      <td>2014-01-09</td>\n",
              "      <td>10:00:00</td>\n",
              "    </tr>\n",
              "    <tr>\n",
              "      <th>172071</th>\n",
              "      <td>26</td>\n",
              "      <td>F</td>\n",
              "      <td>W</td>\n",
              "      <td>Unknown Offense</td>\n",
              "      <td>FAILURE TO APPEAR</td>\n",
              "      <td>&lt;NA&gt;</td>\n",
              "      <td>2014-01-09</td>\n",
              "      <td>09:55:00</td>\n",
              "    </tr>\n",
              "    <tr>\n",
              "      <th>172072</th>\n",
              "      <td>42</td>\n",
              "      <td>M</td>\n",
              "      <td>U</td>\n",
              "      <td>79OTHER</td>\n",
              "      <td>POSS DEADLY WEAPON</td>\n",
              "      <td>Southwest</td>\n",
              "      <td>2014-01-09</td>\n",
              "      <td>09:30:00</td>\n",
              "    </tr>\n",
              "    <tr>\n",
              "      <th>172073</th>\n",
              "      <td>25</td>\n",
              "      <td>M</td>\n",
              "      <td>W</td>\n",
              "      <td>87NARCOTICS</td>\n",
              "      <td>CDS- DISTRIBUTION</td>\n",
              "      <td>Western</td>\n",
              "      <td>2014-01-09</td>\n",
              "      <td>09:30:00</td>\n",
              "    </tr>\n",
              "    <tr>\n",
              "      <th>172074</th>\n",
              "      <td>41</td>\n",
              "      <td>M</td>\n",
              "      <td>W</td>\n",
              "      <td>79OTHER</td>\n",
              "      <td>CDS POSSESSION</td>\n",
              "      <td>Southeast</td>\n",
              "      <td>2014-01-09</td>\n",
              "      <td>09:30:00</td>\n",
              "    </tr>\n",
              "    <tr>\n",
              "      <th>172075</th>\n",
              "      <td>36</td>\n",
              "      <td>M</td>\n",
              "      <td>B</td>\n",
              "      <td>Unknown Offense</td>\n",
              "      <td>FAIL REG OFFENDER/FALSE INFO</td>\n",
              "      <td>&lt;NA&gt;</td>\n",
              "      <td>2014-01-09</td>\n",
              "      <td>09:15:00</td>\n",
              "    </tr>\n",
              "    <tr>\n",
              "      <th>172076</th>\n",
              "      <td>34</td>\n",
              "      <td>M</td>\n",
              "      <td>B</td>\n",
              "      <td>87NARCOTICS</td>\n",
              "      <td>CDS VIOLATION</td>\n",
              "      <td>Eastern</td>\n",
              "      <td>2014-01-09</td>\n",
              "      <td>09:15:00</td>\n",
              "    </tr>\n",
              "    <tr>\n",
              "      <th>172077</th>\n",
              "      <td>58</td>\n",
              "      <td>M</td>\n",
              "      <td>B</td>\n",
              "      <td>87NARCOTICS</td>\n",
              "      <td>CDS POSSESSION</td>\n",
              "      <td>Southwest</td>\n",
              "      <td>2014-01-09</td>\n",
              "      <td>09:00:00</td>\n",
              "    </tr>\n",
              "    <tr>\n",
              "      <th>172078</th>\n",
              "      <td>29</td>\n",
              "      <td>M</td>\n",
              "      <td>B</td>\n",
              "      <td>4ECOMMON ASSAULT</td>\n",
              "      <td>COMMON ASSAULT</td>\n",
              "      <td>Eastern</td>\n",
              "      <td>2014-01-09</td>\n",
              "      <td>09:00:00</td>\n",
              "    </tr>\n",
              "    <tr>\n",
              "      <th>172079</th>\n",
              "      <td>51</td>\n",
              "      <td>M</td>\n",
              "      <td>B</td>\n",
              "      <td>87NARCOTICS</td>\n",
              "      <td>CDS POSSESSION</td>\n",
              "      <td>Southwest</td>\n",
              "      <td>2014-01-09</td>\n",
              "      <td>09:00:00</td>\n",
              "    </tr>\n",
              "    <tr>\n",
              "      <th>172080</th>\n",
              "      <td>25</td>\n",
              "      <td>M</td>\n",
              "      <td>B</td>\n",
              "      <td>Unknown Offense</td>\n",
              "      <td>VIOLATION OF PROBATION</td>\n",
              "      <td>&lt;NA&gt;</td>\n",
              "      <td>2014-01-09</td>\n",
              "      <td>08:30:00</td>\n",
              "    </tr>\n",
              "    <tr>\n",
              "      <th>172081</th>\n",
              "      <td>23</td>\n",
              "      <td>M</td>\n",
              "      <td>W</td>\n",
              "      <td>87NARCOTICS</td>\n",
              "      <td>CDS VIOLATION</td>\n",
              "      <td>Northern</td>\n",
              "      <td>2014-01-09</td>\n",
              "      <td>08:30:00</td>\n",
              "    </tr>\n",
              "    <tr>\n",
              "      <th>172082</th>\n",
              "      <td>59</td>\n",
              "      <td>M</td>\n",
              "      <td>B</td>\n",
              "      <td>Unknown Offense</td>\n",
              "      <td>FAILURE TO APPEAR</td>\n",
              "      <td>&lt;NA&gt;</td>\n",
              "      <td>2014-01-09</td>\n",
              "      <td>08:30:00</td>\n",
              "    </tr>\n",
              "    <tr>\n",
              "      <th>172083</th>\n",
              "      <td>40</td>\n",
              "      <td>M</td>\n",
              "      <td>B</td>\n",
              "      <td>Unknown Offense</td>\n",
              "      <td>CHILD ABUSE-2ND DEGREE: HOUSE</td>\n",
              "      <td>&lt;NA&gt;</td>\n",
              "      <td>2014-01-09</td>\n",
              "      <td>08:00:00</td>\n",
              "    </tr>\n",
              "    <tr>\n",
              "      <th>172084</th>\n",
              "      <td>25</td>\n",
              "      <td>M</td>\n",
              "      <td>B</td>\n",
              "      <td>Unknown Offense</td>\n",
              "      <td>BURGLARY-THIRD DEGREE</td>\n",
              "      <td>&lt;NA&gt;</td>\n",
              "      <td>2014-01-09</td>\n",
              "      <td>07:30:00</td>\n",
              "    </tr>\n",
              "    <tr>\n",
              "      <th>172085</th>\n",
              "      <td>27</td>\n",
              "      <td>F</td>\n",
              "      <td>B</td>\n",
              "      <td>Unknown Offense</td>\n",
              "      <td>ASSAULT-SEC DEGREE</td>\n",
              "      <td>&lt;NA&gt;</td>\n",
              "      <td>2014-01-09</td>\n",
              "      <td>06:30:00</td>\n",
              "    </tr>\n",
              "    <tr>\n",
              "      <th>172086</th>\n",
              "      <td>20</td>\n",
              "      <td>M</td>\n",
              "      <td>B</td>\n",
              "      <td>97SEARCH &amp; SEIZURE</td>\n",
              "      <td>POSSESSION WITH INTENT TO DIST</td>\n",
              "      <td>Western</td>\n",
              "      <td>2014-01-09</td>\n",
              "      <td>06:13:00</td>\n",
              "    </tr>\n",
              "    <tr>\n",
              "      <th>172087</th>\n",
              "      <td>0</td>\n",
              "      <td>M</td>\n",
              "      <td>B</td>\n",
              "      <td>Unknown Offense</td>\n",
              "      <td>ASSAULT-SEC DEGREE</td>\n",
              "      <td>&lt;NA&gt;</td>\n",
              "      <td>2014-01-09</td>\n",
              "      <td>05:30:00</td>\n",
              "    </tr>\n",
              "    <tr>\n",
              "      <th>172088</th>\n",
              "      <td>32</td>\n",
              "      <td>M</td>\n",
              "      <td>B</td>\n",
              "      <td>Unknown Offense</td>\n",
              "      <td>FAILURE TO APPEAR</td>\n",
              "      <td>&lt;NA&gt;</td>\n",
              "      <td>2014-01-09</td>\n",
              "      <td>05:30:00</td>\n",
              "    </tr>\n",
              "    <tr>\n",
              "      <th>172089</th>\n",
              "      <td>32</td>\n",
              "      <td>M</td>\n",
              "      <td>B</td>\n",
              "      <td>Unknown Offense</td>\n",
              "      <td>VIOLATION OF PROBATION</td>\n",
              "      <td>&lt;NA&gt;</td>\n",
              "      <td>2014-01-09</td>\n",
              "      <td>05:30:00</td>\n",
              "    </tr>\n",
              "    <tr>\n",
              "      <th>172090</th>\n",
              "      <td>34</td>\n",
              "      <td>M</td>\n",
              "      <td>B</td>\n",
              "      <td>Unknown Offense</td>\n",
              "      <td>VIOLATION OF PROBATION</td>\n",
              "      <td>&lt;NA&gt;</td>\n",
              "      <td>2014-01-09</td>\n",
              "      <td>04:45:00</td>\n",
              "    </tr>\n",
              "    <tr>\n",
              "      <th>172091</th>\n",
              "      <td>21</td>\n",
              "      <td>M</td>\n",
              "      <td>B</td>\n",
              "      <td>97SEARCH &amp; SEIZURE</td>\n",
              "      <td>CDS VIOLATION</td>\n",
              "      <td>Northeast</td>\n",
              "      <td>2014-01-09</td>\n",
              "      <td>04:42:00</td>\n",
              "    </tr>\n",
              "    <tr>\n",
              "      <th>172092</th>\n",
              "      <td>20</td>\n",
              "      <td>M</td>\n",
              "      <td>B</td>\n",
              "      <td>3AFROBB HWY-FIREARM</td>\n",
              "      <td>HANDGUN VIOLATION</td>\n",
              "      <td>Northeast</td>\n",
              "      <td>2014-01-09</td>\n",
              "      <td>04:40:00</td>\n",
              "    </tr>\n",
              "    <tr>\n",
              "      <th>172093</th>\n",
              "      <td>24</td>\n",
              "      <td>M</td>\n",
              "      <td>B</td>\n",
              "      <td>3AFROBB HWY-FIREARM</td>\n",
              "      <td>HANDGUN VIOLATION</td>\n",
              "      <td>Northeast</td>\n",
              "      <td>2014-01-09</td>\n",
              "      <td>04:40:00</td>\n",
              "    </tr>\n",
              "    <tr>\n",
              "      <th>172094</th>\n",
              "      <td>18</td>\n",
              "      <td>M</td>\n",
              "      <td>B</td>\n",
              "      <td>3AFROBB HWY-FIREARM</td>\n",
              "      <td>HANDGUN VIOLATION</td>\n",
              "      <td>Northeast</td>\n",
              "      <td>2014-01-09</td>\n",
              "      <td>04:40:00</td>\n",
              "    </tr>\n",
              "    <tr>\n",
              "      <th>172095</th>\n",
              "      <td>25</td>\n",
              "      <td>M</td>\n",
              "      <td>B</td>\n",
              "      <td>Unknown Offense</td>\n",
              "      <td>FAILURE TO APPEAR</td>\n",
              "      <td>&lt;NA&gt;</td>\n",
              "      <td>2014-01-09</td>\n",
              "      <td>04:25:00</td>\n",
              "    </tr>\n",
              "    <tr>\n",
              "      <th>172096</th>\n",
              "      <td>25</td>\n",
              "      <td>M</td>\n",
              "      <td>B</td>\n",
              "      <td>87NARCOTICS</td>\n",
              "      <td>CDS</td>\n",
              "      <td>Western</td>\n",
              "      <td>2014-01-09</td>\n",
              "      <td>04:15:00</td>\n",
              "    </tr>\n",
              "    <tr>\n",
              "      <th>172097</th>\n",
              "      <td>22</td>\n",
              "      <td>F</td>\n",
              "      <td>B</td>\n",
              "      <td>24TOWED VEHICLE</td>\n",
              "      <td>CDS</td>\n",
              "      <td>Northwest</td>\n",
              "      <td>2014-01-09</td>\n",
              "      <td>04:00:00</td>\n",
              "    </tr>\n",
              "    <tr>\n",
              "      <th>172098</th>\n",
              "      <td>52</td>\n",
              "      <td>F</td>\n",
              "      <td>B</td>\n",
              "      <td>Unknown Offense</td>\n",
              "      <td>FAILURE TO APPEAR</td>\n",
              "      <td>&lt;NA&gt;</td>\n",
              "      <td>2014-01-09</td>\n",
              "      <td>04:00:00</td>\n",
              "    </tr>\n",
              "    <tr>\n",
              "      <th>172099</th>\n",
              "      <td>47</td>\n",
              "      <td>M</td>\n",
              "      <td>B</td>\n",
              "      <td>4DAGG. ASSLT.- HAND</td>\n",
              "      <td>AGGRAVATED</td>\n",
              "      <td>Western</td>\n",
              "      <td>2014-01-09</td>\n",
              "      <td>03:40:00</td>\n",
              "    </tr>\n",
              "    <tr>\n",
              "      <th>172100</th>\n",
              "      <td>49</td>\n",
              "      <td>M</td>\n",
              "      <td>B</td>\n",
              "      <td>26RECOVERED VEHICLE</td>\n",
              "      <td>STOLEN VEHICLE</td>\n",
              "      <td>Western</td>\n",
              "      <td>2014-01-09</td>\n",
              "      <td>03:35:00</td>\n",
              "    </tr>\n",
              "    <tr>\n",
              "      <th>172101</th>\n",
              "      <td>20</td>\n",
              "      <td>F</td>\n",
              "      <td>B</td>\n",
              "      <td>Unknown Offense</td>\n",
              "      <td>FAILURE TO APPEAR</td>\n",
              "      <td>&lt;NA&gt;</td>\n",
              "      <td>2014-01-09</td>\n",
              "      <td>03:14:00</td>\n",
              "    </tr>\n",
              "    <tr>\n",
              "      <th>172102</th>\n",
              "      <td>26</td>\n",
              "      <td>F</td>\n",
              "      <td>W</td>\n",
              "      <td>Unknown Offense</td>\n",
              "      <td>FAILURE TO APPEAR</td>\n",
              "      <td>&lt;NA&gt;</td>\n",
              "      <td>2014-01-09</td>\n",
              "      <td>03:02:00</td>\n",
              "    </tr>\n",
              "    <tr>\n",
              "      <th>172103</th>\n",
              "      <td>21</td>\n",
              "      <td>M</td>\n",
              "      <td>B</td>\n",
              "      <td>4ECOMMON ASSAULT</td>\n",
              "      <td>COMMON ASSAULT</td>\n",
              "      <td>Northeast</td>\n",
              "      <td>2014-01-09</td>\n",
              "      <td>03:00:00</td>\n",
              "    </tr>\n",
              "    <tr>\n",
              "      <th>172104</th>\n",
              "      <td>26</td>\n",
              "      <td>F</td>\n",
              "      <td>W</td>\n",
              "      <td>Unknown Offense</td>\n",
              "      <td>FAILURE TO APPEAR</td>\n",
              "      <td>&lt;NA&gt;</td>\n",
              "      <td>2014-01-09</td>\n",
              "      <td>02:53:00</td>\n",
              "    </tr>\n",
              "    <tr>\n",
              "      <th>172105</th>\n",
              "      <td>25</td>\n",
              "      <td>M</td>\n",
              "      <td>B</td>\n",
              "      <td>79OTHER</td>\n",
              "      <td>FALSE STATEMENT</td>\n",
              "      <td>Northeast</td>\n",
              "      <td>2014-01-09</td>\n",
              "      <td>02:44:00</td>\n",
              "    </tr>\n",
              "    <tr>\n",
              "      <th>172106</th>\n",
              "      <td>36</td>\n",
              "      <td>F</td>\n",
              "      <td>W</td>\n",
              "      <td>Unknown Offense</td>\n",
              "      <td>FAILURE TO PAY WAGES</td>\n",
              "      <td>&lt;NA&gt;</td>\n",
              "      <td>2014-01-09</td>\n",
              "      <td>02:35:00</td>\n",
              "    </tr>\n",
              "    <tr>\n",
              "      <th>172107</th>\n",
              "      <td>45</td>\n",
              "      <td>M</td>\n",
              "      <td>W</td>\n",
              "      <td>Unknown Offense</td>\n",
              "      <td>FAILURE TO APPEAR</td>\n",
              "      <td>&lt;NA&gt;</td>\n",
              "      <td>2014-01-09</td>\n",
              "      <td>02:30:00</td>\n",
              "    </tr>\n",
              "    <tr>\n",
              "      <th>172108</th>\n",
              "      <td>27</td>\n",
              "      <td>M</td>\n",
              "      <td>W</td>\n",
              "      <td>6DLARCENY- FROM AUTO</td>\n",
              "      <td>LARCENY FROM AUTO</td>\n",
              "      <td>Southern</td>\n",
              "      <td>2014-01-09</td>\n",
              "      <td>02:18:00</td>\n",
              "    </tr>\n",
              "    <tr>\n",
              "      <th>172109</th>\n",
              "      <td>32</td>\n",
              "      <td>M</td>\n",
              "      <td>W</td>\n",
              "      <td>54ARMED PERSON</td>\n",
              "      <td>POSS. OF A DANGEROUS WEAPON</td>\n",
              "      <td>Central</td>\n",
              "      <td>2014-01-09</td>\n",
              "      <td>02:00:00</td>\n",
              "    </tr>\n",
              "    <tr>\n",
              "      <th>172110</th>\n",
              "      <td>40</td>\n",
              "      <td>M</td>\n",
              "      <td>U</td>\n",
              "      <td>Unknown Offense</td>\n",
              "      <td>DRIV W/O LIC</td>\n",
              "      <td>Southeast</td>\n",
              "      <td>2014-01-09</td>\n",
              "      <td>01:51:00</td>\n",
              "    </tr>\n",
              "    <tr>\n",
              "      <th>172111</th>\n",
              "      <td>28</td>\n",
              "      <td>M</td>\n",
              "      <td>B</td>\n",
              "      <td>87NARCOTICS</td>\n",
              "      <td>CDS VIOLATION</td>\n",
              "      <td>Northeast</td>\n",
              "      <td>2014-01-09</td>\n",
              "      <td>01:50:00</td>\n",
              "    </tr>\n",
              "    <tr>\n",
              "      <th>172112</th>\n",
              "      <td>20</td>\n",
              "      <td>M</td>\n",
              "      <td>B</td>\n",
              "      <td>Unknown Offense</td>\n",
              "      <td>ATT 1ST DEG. MURDER</td>\n",
              "      <td>&lt;NA&gt;</td>\n",
              "      <td>2014-01-09</td>\n",
              "      <td>01:50:00</td>\n",
              "    </tr>\n",
              "    <tr>\n",
              "      <th>172113</th>\n",
              "      <td>31</td>\n",
              "      <td>M</td>\n",
              "      <td>B</td>\n",
              "      <td>6CLARCENY- SHOPLIFTING</td>\n",
              "      <td>THEFT UNDER $1000</td>\n",
              "      <td>Central</td>\n",
              "      <td>2014-01-09</td>\n",
              "      <td>01:47:00</td>\n",
              "    </tr>\n",
              "    <tr>\n",
              "      <th>172114</th>\n",
              "      <td>21</td>\n",
              "      <td>M</td>\n",
              "      <td>B</td>\n",
              "      <td>Unknown Offense</td>\n",
              "      <td>DRIV RENTED MOTOR VEH IN VIOL</td>\n",
              "      <td>Southeast</td>\n",
              "      <td>2014-01-09</td>\n",
              "      <td>01:20:00</td>\n",
              "    </tr>\n",
              "    <tr>\n",
              "      <th>172115</th>\n",
              "      <td>28</td>\n",
              "      <td>M</td>\n",
              "      <td>B</td>\n",
              "      <td>Unknown Offense</td>\n",
              "      <td>Unknown Charge</td>\n",
              "      <td>Southeast</td>\n",
              "      <td>2014-01-09</td>\n",
              "      <td>01:19:00</td>\n",
              "    </tr>\n",
              "    <tr>\n",
              "      <th>172116</th>\n",
              "      <td>34</td>\n",
              "      <td>M</td>\n",
              "      <td>B</td>\n",
              "      <td>Unknown Offense</td>\n",
              "      <td>VIOLATION OF PROBATION</td>\n",
              "      <td>&lt;NA&gt;</td>\n",
              "      <td>2014-01-09</td>\n",
              "      <td>01:00:00</td>\n",
              "    </tr>\n",
              "    <tr>\n",
              "      <th>172117</th>\n",
              "      <td>22</td>\n",
              "      <td>M</td>\n",
              "      <td>B</td>\n",
              "      <td>4ECOMMON ASSAULT</td>\n",
              "      <td>COMMON ASSALUT</td>\n",
              "      <td>Northwest</td>\n",
              "      <td>2014-01-09</td>\n",
              "      <td>00:35:00</td>\n",
              "    </tr>\n",
              "    <tr>\n",
              "      <th>172118</th>\n",
              "      <td>19</td>\n",
              "      <td>M</td>\n",
              "      <td>B</td>\n",
              "      <td>Unknown Offense</td>\n",
              "      <td>ATT-CDS DIST-NARC</td>\n",
              "      <td>&lt;NA&gt;</td>\n",
              "      <td>2014-01-09</td>\n",
              "      <td>00:28:00</td>\n",
              "    </tr>\n",
              "    <tr>\n",
              "      <th>172119</th>\n",
              "      <td>33</td>\n",
              "      <td>M</td>\n",
              "      <td>W</td>\n",
              "      <td>Unknown Offense</td>\n",
              "      <td>Unknown Charge</td>\n",
              "      <td>&lt;NA&gt;</td>\n",
              "      <td>2014-01-09</td>\n",
              "      <td>00:28:00</td>\n",
              "    </tr>\n",
              "    <tr>\n",
              "      <th>172120</th>\n",
              "      <td>48</td>\n",
              "      <td>M</td>\n",
              "      <td>W</td>\n",
              "      <td>Unknown Offense</td>\n",
              "      <td>BURGLARY/2ND DEGREE/GENERAL</td>\n",
              "      <td>&lt;NA&gt;</td>\n",
              "      <td>2014-01-09</td>\n",
              "      <td>00:28:00</td>\n",
              "    </tr>\n",
              "    <tr>\n",
              "      <th>172121</th>\n",
              "      <td>20</td>\n",
              "      <td>M</td>\n",
              "      <td>B</td>\n",
              "      <td>79OTHER</td>\n",
              "      <td>FALSE INFO TO POLICE</td>\n",
              "      <td>Southwest</td>\n",
              "      <td>2014-01-09</td>\n",
              "      <td>00:22:00</td>\n",
              "    </tr>\n",
              "    <tr>\n",
              "      <th>172122</th>\n",
              "      <td>29</td>\n",
              "      <td>M</td>\n",
              "      <td>W</td>\n",
              "      <td>Unknown Offense</td>\n",
              "      <td>FAILURE TO APPEAR</td>\n",
              "      <td>&lt;NA&gt;</td>\n",
              "      <td>2014-01-09</td>\n",
              "      <td>00:02:00</td>\n",
              "    </tr>\n",
              "  </tbody>\n",
              "</table>\n",
              "</div>\n",
              "      <button class=\"colab-df-convert\" onclick=\"convertToInteractive('df-2a13adb2-855c-4298-bb18-8e875d35d7ea')\"\n",
              "              title=\"Convert this dataframe to an interactive table.\"\n",
              "              style=\"display:none;\">\n",
              "        \n",
              "  <svg xmlns=\"http://www.w3.org/2000/svg\" height=\"24px\"viewBox=\"0 0 24 24\"\n",
              "       width=\"24px\">\n",
              "    <path d=\"M0 0h24v24H0V0z\" fill=\"none\"/>\n",
              "    <path d=\"M18.56 5.44l.94 2.06.94-2.06 2.06-.94-2.06-.94-.94-2.06-.94 2.06-2.06.94zm-11 1L8.5 8.5l.94-2.06 2.06-.94-2.06-.94L8.5 2.5l-.94 2.06-2.06.94zm10 10l.94 2.06.94-2.06 2.06-.94-2.06-.94-.94-2.06-.94 2.06-2.06.94z\"/><path d=\"M17.41 7.96l-1.37-1.37c-.4-.4-.92-.59-1.43-.59-.52 0-1.04.2-1.43.59L10.3 9.45l-7.72 7.72c-.78.78-.78 2.05 0 2.83L4 21.41c.39.39.9.59 1.41.59.51 0 1.02-.2 1.41-.59l7.78-7.78 2.81-2.81c.8-.78.8-2.07 0-2.86zM5.41 20L4 18.59l7.72-7.72 1.47 1.35L5.41 20z\"/>\n",
              "  </svg>\n",
              "      </button>\n",
              "      \n",
              "  <style>\n",
              "    .colab-df-container {\n",
              "      display:flex;\n",
              "      flex-wrap:wrap;\n",
              "      gap: 12px;\n",
              "    }\n",
              "\n",
              "    .colab-df-convert {\n",
              "      background-color: #E8F0FE;\n",
              "      border: none;\n",
              "      border-radius: 50%;\n",
              "      cursor: pointer;\n",
              "      display: none;\n",
              "      fill: #1967D2;\n",
              "      height: 32px;\n",
              "      padding: 0 0 0 0;\n",
              "      width: 32px;\n",
              "    }\n",
              "\n",
              "    .colab-df-convert:hover {\n",
              "      background-color: #E2EBFA;\n",
              "      box-shadow: 0px 1px 2px rgba(60, 64, 67, 0.3), 0px 1px 3px 1px rgba(60, 64, 67, 0.15);\n",
              "      fill: #174EA6;\n",
              "    }\n",
              "\n",
              "    [theme=dark] .colab-df-convert {\n",
              "      background-color: #3B4455;\n",
              "      fill: #D2E3FC;\n",
              "    }\n",
              "\n",
              "    [theme=dark] .colab-df-convert:hover {\n",
              "      background-color: #434B5C;\n",
              "      box-shadow: 0px 1px 3px 1px rgba(0, 0, 0, 0.15);\n",
              "      filter: drop-shadow(0px 1px 2px rgba(0, 0, 0, 0.3));\n",
              "      fill: #FFFFFF;\n",
              "    }\n",
              "  </style>\n",
              "\n",
              "      <script>\n",
              "        const buttonEl =\n",
              "          document.querySelector('#df-2a13adb2-855c-4298-bb18-8e875d35d7ea button.colab-df-convert');\n",
              "        buttonEl.style.display =\n",
              "          google.colab.kernel.accessAllowed ? 'block' : 'none';\n",
              "\n",
              "        async function convertToInteractive(key) {\n",
              "          const element = document.querySelector('#df-2a13adb2-855c-4298-bb18-8e875d35d7ea');\n",
              "          const dataTable =\n",
              "            await google.colab.kernel.invokeFunction('convertToInteractive',\n",
              "                                                     [key], {});\n",
              "          if (!dataTable) return;\n",
              "\n",
              "          const docLinkHtml = 'Like what you see? Visit the ' +\n",
              "            '<a target=\"_blank\" href=https://colab.research.google.com/notebooks/data_table.ipynb>data table notebook</a>'\n",
              "            + ' to learn more about interactive tables.';\n",
              "          element.innerHTML = '';\n",
              "          dataTable['output_type'] = 'display_data';\n",
              "          await google.colab.output.renderOutput(dataTable, element);\n",
              "          const docLink = document.createElement('div');\n",
              "          docLink.innerHTML = docLinkHtml;\n",
              "          element.appendChild(docLink);\n",
              "        }\n",
              "      </script>\n",
              "    </div>\n",
              "  </div>\n",
              "  "
            ]
          },
          "metadata": {},
          "execution_count": 34
        }
      ]
    },
    {
      "cell_type": "markdown",
      "metadata": {
        "id": "q7RCrYsNjhli"
      },
      "source": [
        "Lets print a summary of what occured on that day"
      ]
    },
    {
      "cell_type": "code",
      "metadata": {
        "colab": {
          "base_uri": "https://localhost:8080/"
        },
        "id": "lP-aOreSkFpd",
        "outputId": "4403b617-30d7-4c01-bec2-3a0e173569c5"
      },
      "source": [
        "#Setting this back to 10 for sanity reasons\n",
        "pd.set_option('display.max_rows', 10)\n",
        "print(dfLargeArrests.describe(include='all').T)"
      ],
      "execution_count": null,
      "outputs": [
        {
          "output_type": "stream",
          "name": "stdout",
          "text": [
            "                   count unique              top freq       mean        std  \\\n",
            "Age                177.0    NaN              NaN  NaN  31.446328  11.759846   \n",
            "Gender               177      2                M  144        NaN        NaN   \n",
            "Race                 177      3                B  150        NaN        NaN   \n",
            "IncidentOffence      177     22  Unknown Offense   69        NaN        NaN   \n",
            "ChargeDescription    177     79    CDS VIOLATION   24        NaN        NaN   \n",
            "District             113      9        Southeast   20        NaN        NaN   \n",
            "date                 177      1       2014-01-09  177        NaN        NaN   \n",
            "time                 177    107         21:00:00    5        NaN        NaN   \n",
            "\n",
            "                   min   25%   50%   75%   max  \n",
            "Age                0.0  22.0  27.0  40.0  67.0  \n",
            "Gender             NaN   NaN   NaN   NaN   NaN  \n",
            "Race               NaN   NaN   NaN   NaN   NaN  \n",
            "IncidentOffence    NaN   NaN   NaN   NaN   NaN  \n",
            "ChargeDescription  NaN   NaN   NaN   NaN   NaN  \n",
            "District           NaN   NaN   NaN   NaN   NaN  \n",
            "date               NaN   NaN   NaN   NaN   NaN  \n",
            "time               NaN   NaN   NaN   NaN   NaN  \n"
          ]
        }
      ]
    },
    {
      "cell_type": "code",
      "metadata": {
        "colab": {
          "base_uri": "https://localhost:8080/"
        },
        "id": "ONWy8CeKopR4",
        "outputId": "8bead420-ba39-40bf-9856-3212c2789ed0"
      },
      "source": [
        "n = 10\n",
        "dfConverted['ChargeDescription'].value_counts()[:n].index.tolist()"
      ],
      "execution_count": null,
      "outputs": [
        {
          "output_type": "execute_result",
          "data": {
            "text/plain": [
              "['FAILURE TO APPEAR',\n",
              " 'ASSAULT-SEC DEGREE',\n",
              " 'CDS VIOLATION',\n",
              " 'CDS',\n",
              " 'Unknown Charge',\n",
              " 'COMMON ASSAULT',\n",
              " 'VIOLATION OF PROBATION',\n",
              " 'HGV',\n",
              " 'ASSAULT-FIRST DEGREE',\n",
              " 'ASSAULT']"
            ]
          },
          "metadata": {},
          "execution_count": 36
        }
      ]
    },
    {
      "cell_type": "code",
      "metadata": {
        "colab": {
          "base_uri": "https://localhost:8080/"
        },
        "id": "cdX2sZnnk3_H",
        "outputId": "0d6dac17-e365-482e-d19a-9828ee5ab244"
      },
      "source": [
        "from matplotlib import pyplot as plt\n",
        "%matplotlib inline\n",
        "dfLargeArrests['ChargeDescription'].value_counts()[:n].plot.bar()"
      ],
      "execution_count": null,
      "outputs": [
        {
          "output_type": "execute_result",
          "data": {
            "text/plain": [
              "<matplotlib.axes._subplots.AxesSubplot at 0x7fc6f397b250>"
            ]
          },
          "metadata": {},
          "execution_count": 37
        },
        {
          "output_type": "display_data",
          "data": {
            "text/plain": [
              "<Figure size 432x288 with 1 Axes>"
            ],
            "image/png": "[encoded data removed]"
          },
          "metadata": {
            "needs_background": "light"
          }
        }
      ]
    },
    {
      "cell_type": "markdown",
      "metadata": {
        "id": "t17PtbESkwjc"
      },
      "source": [
        "Disregarding \"Faliure To Appear\", it seems most of these arrests were  CDS aka Controlled Dangerous Substance charges. This makes sense as people are comming off of the holidays at this point. Perhaps they are trying out their new \"preasents\""
      ]
    },
    {
      "cell_type": "code",
      "metadata": {
        "colab": {
          "base_uri": "https://localhost:8080/"
        },
        "id": "SxEwxuK8qUVG",
        "outputId": "57f15a30-8673-47e6-8968-3a3b163978b0"
      },
      "source": [
        "n=7\n",
        "dfConverted['date'].value_counts()[:n].plot.bar()"
      ],
      "execution_count": null,
      "outputs": [
        {
          "output_type": "execute_result",
          "data": {
            "text/plain": [
              "<matplotlib.axes._subplots.AxesSubplot at 0x7fc6f84e6410>"
            ]
          },
          "metadata": {},
          "execution_count": 38
        },
        {
          "output_type": "display_data",
          "data": {
            "text/plain": [
              "<Figure size 432x288 with 1 Axes>"
            ],
            "image/png": "[encoded data removed]"
          },
          "metadata": {
            "needs_background": "light"
          }
        }
      ]
    },
    {
      "cell_type": "markdown",
      "metadata": {
        "id": "ug1iZa8UrEqF"
      },
      "source": [
        "This is Further backed up by the chart above. Arrests seem to occur\n",
        "- a couple days following holidays like christmas or easter\n",
        "- a couple days after pseudo holidays like 4/20 (weed day)\n",
        "- and in warmer months like June when people are more out and about."
      ]
    },
    {
      "cell_type": "markdown",
      "metadata": {
        "id": "bKljo9BSbr-b"
      },
      "source": [
        "Next I will gather a visual summary of my numerical data"
      ]
    },
    {
      "cell_type": "code",
      "metadata": {
        "id": "9xJFJurabG7k",
        "colab": {
          "base_uri": "https://localhost:8080/"
        },
        "outputId": "22ea7139-9ab3-4e4c-cca3-1a71a64b2b44"
      },
      "source": [
        "from matplotlib import pyplot as plt\n",
        "%matplotlib inline\n",
        "\n",
        "axes = dfConverted[['Age','Gender','Race','IncidentOffence', 'ChargeDescription', 'District', 'date', 'time']].hist(bins=50, figsize=(20,15))\n",
        "#Learned how to do the for loop for multi graph labeling here: https://stackoverflow.com/questions/69329880/how-do-i-label-the-x-y-axis-of-multiple-graphs-on-a-single-graph/69329975#69329975\n",
        "for ax in axes[0]:\n",
        "  ax.set_xlabel('x')\n",
        "  ax.set_ylabel('y')\n",
        "plt.show()"
      ],
      "execution_count": null,
      "outputs": [
        {
          "output_type": "display_data",
          "data": {
            "text/plain": [
              "<Figure size 1440x1080 with 1 Axes>"
            ],
            "image/png": "[encoded data removed]"
          },
          "metadata": {
            "needs_background": "light"
          }
        }
      ]
    },
    {
      "cell_type": "markdown",
      "metadata": {
        "id": "9xw6mhawsJPh"
      },
      "source": [
        "Seems most Baltimore residents are being arrested in their mid twenties with a less noticable hump occuring in their late 40s.\n",
        "- There are many factors that can play into why kids in their mid 20s are being arrested as a professor of criminal justice told the new york times [2]\n",
        "\n",
        "[2] https://www.nytimes.com/2011/12/19/us/nearly-a-third-of-americans-are-arrested-by-23-study-says.html"
      ]
    },
    {
      "cell_type": "markdown",
      "metadata": {
        "id": "nxZVvvQ6bJ0q"
      },
      "source": [
        "####Multicolinearity check\n",
        "Since descision trees are one of the methods I want to attempt to apply, I need to make sure that the columns are not highly correlated to each other.\n",
        "\n",
        "So the first thing I'll check for is if there is any multicoliniarity in my numerical data"
      ]
    },
    {
      "cell_type": "code",
      "metadata": {
        "colab": {
          "base_uri": "https://localhost:8080/",
          "height": 269
        },
        "id": "XeoH-XrBpKYw",
        "outputId": "fb9c7b92-e307-44fe-c53c-cb6389034c01"
      },
      "source": [
        "import seaborn as sns\n",
        "sns.heatmap(dfConverted.corr(),cmap='RdYlGn_r', annot=True, vmin=-1.0, vmax=1.0)\n",
        "plt.show()"
      ],
      "execution_count": null,
      "outputs": [
        {
          "output_type": "display_data",
          "data": {
            "text/plain": [
              "<Figure size 432x288 with 2 Axes>"
            ],
            "image/png": "[encoded data removed]"
          },
          "metadata": {
            "needs_background": "light"
          }
        }
      ]
    },
    {
      "cell_type": "markdown",
      "metadata": {
        "id": "m71trl-qxXz2"
      },
      "source": [
        "I only have 1 numerical Variable so it would make sense that it is fully correlated with itself.\n",
        "\n",
        "But how would I check for multicolinearity with my other variables?\n",
        "Accorfing to Deepanshu Bhalla of listendata.com[3], \"For categorical variables, multicollinearity can be detected with Spearman rank correlation coefficient for ordinal variables and chi-square test for nominal variables.\"\n",
        "\n",
        "A nominal variable has no inherent ordering. Race, for example, is a categorical variable because there are 6 categories (w, B, A, I, U, and most recently O) and you cant place an order on them in an order naturally.\n",
        "\n",
        "A variable with an ordinal value has a distinct ordering. The date and time columns would both be ordinal as the objects have a clear timeline. i.e. 2014-01-09\tcoomes before 2014-01-10 and 03:40:00 is earlier than 11:00:00\t\n",
        "\n",
        "[3] https://www.listendata.com/2015/04/detecting-multicollinearity-in-categorical-variables.html"
      ]
    },
    {
      "cell_type": "markdown",
      "metadata": {
        "id": "F_vblKnQ2Sls"
      },
      "source": [
        "#####Spearman rank correlation\n",
        "Below Is a seaborn plot checking for multicolinearity between date and time"
      ]
    },
    {
      "cell_type": "code",
      "metadata": {
        "id": "EeDnvQGSbJDT",
        "colab": {
          "base_uri": "https://localhost:8080/",
          "height": 350
        },
        "outputId": "37b21973-e56e-4f36-b98d-bcdcab3cadfa"
      },
      "source": [
        "import seaborn as sns\n",
        "#Adopted from here: https://stackoverflow.com/questions/53014323/plotting-a-heatmap-with-categorical-data\n",
        "year = 'date'\n",
        "bins = 'time'\n",
        "Firm = 'Age'\n",
        "grouped = dfConverted.groupby([year,bins]).nunique()[Firm].reset_index([0,1])\n",
        "piv_grouped = grouped.pivot(index=bins, columns=year, values=Firm)\n",
        "sns.heatmap(piv_grouped, cmap='RdYlGn_r', annot=True)"
      ],
      "execution_count": null,
      "outputs": [
        {
          "output_type": "execute_result",
          "data": {
            "text/plain": [
              "<matplotlib.axes._subplots.AxesSubplot at 0x7f198cc26810>"
            ]
          },
          "metadata": {},
          "execution_count": 27
        },
        {
          "output_type": "display_data",
          "data": {
            "text/plain": [
              "<Figure size 432x288 with 2 Axes>"
            ],
            "image/png": "[encoded data removed]"
          },
          "metadata": {
            "needs_background": "light"
          }
        }
      ]
    },
    {
      "cell_type": "markdown",
      "metadata": {
        "id": "PJGZe0tQ2i5w"
      },
      "source": [
        "A majority of the heatmap is 8 or lower on the color scale which means there is basically no multicoliniarity"
      ]
    },
    {
      "cell_type": "markdown",
      "metadata": {
        "id": "q_H99ULm3Ali"
      },
      "source": [
        "#####chi-square test\n",
        "The easiest way to perform a Chi-Square Test is to create a contingency table from the frequency of values[4]\n",
        "I'll begin with checking the multicoliniarity between Gender and Race\n",
        "\n",
        "[4] https://predictivehacks.com/how-to-run-chi-square-test-in-python/"
      ]
    },
    {
      "cell_type": "code",
      "metadata": {
        "colab": {
          "base_uri": "https://localhost:8080/",
          "height": 174
        },
        "id": "jz70-ouz3EMJ",
        "outputId": "e2842b82-c9b5-487a-b470-b7523658246c"
      },
      "source": [
        "import pandas as pd\n",
        "import numpy as np\n",
        "from scipy.stats import chi2_contingency\n",
        " \n",
        "import seaborn as sns\n",
        "import matplotlib.pyplot as plt\n",
        "%matplotlib inline \n",
        "contigency= pd.crosstab(dfConverted['Gender'], dfConverted['Race'])\n",
        "contigency"
      ],
      "execution_count": null,
      "outputs": [
        {
          "output_type": "execute_result",
          "data": {
            "text/plain": [
              "Race      A       B    I   O     U      W\n",
              "Gender                                   \n",
              "F       111   24286   76   0   499   8821\n",
              "M       332  120306  421   0  3457  17575\n",
              "U         0       0    0  39     0      0"
            ],
            "text/html": [
              "\n",
              "  <div id=\"df-c170e85c-3f19-4c8a-8739-47db3dcab4f7\">\n",
              "    <div class=\"colab-df-container\">\n",
              "      <div>\n",
              "<style scoped>\n",
              "    .dataframe tbody tr th:only-of-type {\n",
              "        vertical-align: middle;\n",
              "    }\n",
              "\n",
              "    .dataframe tbody tr th {\n",
              "        vertical-align: top;\n",
              "    }\n",
              "\n",
              "    .dataframe thead th {\n",
              "        text-align: right;\n",
              "    }\n",
              "</style>\n",
              "<table border=\"1\" class=\"dataframe\">\n",
              "  <thead>\n",
              "    <tr style=\"text-align: right;\">\n",
              "      <th>Race</th>\n",
              "      <th>A</th>\n",
              "      <th>B</th>\n",
              "      <th>I</th>\n",
              "      <th>O</th>\n",
              "      <th>U</th>\n",
              "      <th>W</th>\n",
              "    </tr>\n",
              "    <tr>\n",
              "      <th>Gender</th>\n",
              "      <th></th>\n",
              "      <th></th>\n",
              "      <th></th>\n",
              "      <th></th>\n",
              "      <th></th>\n",
              "      <th></th>\n",
              "    </tr>\n",
              "  </thead>\n",
              "  <tbody>\n",
              "    <tr>\n",
              "      <th>F</th>\n",
              "      <td>111</td>\n",
              "      <td>24286</td>\n",
              "      <td>76</td>\n",
              "      <td>0</td>\n",
              "      <td>499</td>\n",
              "      <td>8821</td>\n",
              "    </tr>\n",
              "    <tr>\n",
              "      <th>M</th>\n",
              "      <td>332</td>\n",
              "      <td>120306</td>\n",
              "      <td>421</td>\n",
              "      <td>0</td>\n",
              "      <td>3457</td>\n",
              "      <td>17575</td>\n",
              "    </tr>\n",
              "    <tr>\n",
              "      <th>U</th>\n",
              "      <td>0</td>\n",
              "      <td>0</td>\n",
              "      <td>0</td>\n",
              "      <td>39</td>\n",
              "      <td>0</td>\n",
              "      <td>0</td>\n",
              "    </tr>\n",
              "  </tbody>\n",
              "</table>\n",
              "</div>\n",
              "      <button class=\"colab-df-convert\" onclick=\"convertToInteractive('df-c170e85c-3f19-4c8a-8739-47db3dcab4f7')\"\n",
              "              title=\"Convert this dataframe to an interactive table.\"\n",
              "              style=\"display:none;\">\n",
              "        \n",
              "  <svg xmlns=\"http://www.w3.org/2000/svg\" height=\"24px\"viewBox=\"0 0 24 24\"\n",
              "       width=\"24px\">\n",
              "    <path d=\"M0 0h24v24H0V0z\" fill=\"none\"/>\n",
              "    <path d=\"M18.56 5.44l.94 2.06.94-2.06 2.06-.94-2.06-.94-.94-2.06-.94 2.06-2.06.94zm-11 1L8.5 8.5l.94-2.06 2.06-.94-2.06-.94L8.5 2.5l-.94 2.06-2.06.94zm10 10l.94 2.06.94-2.06 2.06-.94-2.06-.94-.94-2.06-.94 2.06-2.06.94z\"/><path d=\"M17.41 7.96l-1.37-1.37c-.4-.4-.92-.59-1.43-.59-.52 0-1.04.2-1.43.59L10.3 9.45l-7.72 7.72c-.78.78-.78 2.05 0 2.83L4 21.41c.39.39.9.59 1.41.59.51 0 1.02-.2 1.41-.59l7.78-7.78 2.81-2.81c.8-.78.8-2.07 0-2.86zM5.41 20L4 18.59l7.72-7.72 1.47 1.35L5.41 20z\"/>\n",
              "  </svg>\n",
              "      </button>\n",
              "      \n",
              "  <style>\n",
              "    .colab-df-container {\n",
              "      display:flex;\n",
              "      flex-wrap:wrap;\n",
              "      gap: 12px;\n",
              "    }\n",
              "\n",
              "    .colab-df-convert {\n",
              "      background-color: #E8F0FE;\n",
              "      border: none;\n",
              "      border-radius: 50%;\n",
              "      cursor: pointer;\n",
              "      display: none;\n",
              "      fill: #1967D2;\n",
              "      height: 32px;\n",
              "      padding: 0 0 0 0;\n",
              "      width: 32px;\n",
              "    }\n",
              "\n",
              "    .colab-df-convert:hover {\n",
              "      background-color: #E2EBFA;\n",
              "      box-shadow: 0px 1px 2px rgba(60, 64, 67, 0.3), 0px 1px 3px 1px rgba(60, 64, 67, 0.15);\n",
              "      fill: #174EA6;\n",
              "    }\n",
              "\n",
              "    [theme=dark] .colab-df-convert {\n",
              "      background-color: #3B4455;\n",
              "      fill: #D2E3FC;\n",
              "    }\n",
              "\n",
              "    [theme=dark] .colab-df-convert:hover {\n",
              "      background-color: #434B5C;\n",
              "      box-shadow: 0px 1px 3px 1px rgba(0, 0, 0, 0.15);\n",
              "      filter: drop-shadow(0px 1px 2px rgba(0, 0, 0, 0.3));\n",
              "      fill: #FFFFFF;\n",
              "    }\n",
              "  </style>\n",
              "\n",
              "      <script>\n",
              "        const buttonEl =\n",
              "          document.querySelector('#df-c170e85c-3f19-4c8a-8739-47db3dcab4f7 button.colab-df-convert');\n",
              "        buttonEl.style.display =\n",
              "          google.colab.kernel.accessAllowed ? 'block' : 'none';\n",
              "\n",
              "        async function convertToInteractive(key) {\n",
              "          const element = document.querySelector('#df-c170e85c-3f19-4c8a-8739-47db3dcab4f7');\n",
              "          const dataTable =\n",
              "            await google.colab.kernel.invokeFunction('convertToInteractive',\n",
              "                                                     [key], {});\n",
              "          if (!dataTable) return;\n",
              "\n",
              "          const docLinkHtml = 'Like what you see? Visit the ' +\n",
              "            '<a target=\"_blank\" href=https://colab.research.google.com/notebooks/data_table.ipynb>data table notebook</a>'\n",
              "            + ' to learn more about interactive tables.';\n",
              "          element.innerHTML = '';\n",
              "          dataTable['output_type'] = 'display_data';\n",
              "          await google.colab.output.renderOutput(dataTable, element);\n",
              "          const docLink = document.createElement('div');\n",
              "          docLink.innerHTML = docLinkHtml;\n",
              "          element.appendChild(docLink);\n",
              "        }\n",
              "      </script>\n",
              "    </div>\n",
              "  </div>\n",
              "  "
            ]
          },
          "metadata": {},
          "execution_count": 29
        }
      ]
    },
    {
      "cell_type": "markdown",
      "metadata": {
        "id": "v5ExDhVs5KOr"
      },
      "source": [
        "Thise just look like a bunch of numbers to me. So I will vreate a heatmap to visualize it more easily"
      ]
    },
    {
      "cell_type": "code",
      "metadata": {
        "colab": {
          "base_uri": "https://localhost:8080/",
          "height": 300
        },
        "id": "HfsAMCg33ndm",
        "outputId": "43c35c7b-6afe-4cdf-f78d-62cb7b96bce4"
      },
      "source": [
        "sns.heatmap(contigency, annot=True, cmap=\"RdYlGn_r\")"
      ],
      "execution_count": null,
      "outputs": [
        {
          "output_type": "execute_result",
          "data": {
            "text/plain": [
              "<matplotlib.axes._subplots.AxesSubplot at 0x7f483dc1c750>"
            ]
          },
          "metadata": {},
          "execution_count": 30
        },
        {
          "output_type": "display_data",
          "data": {
            "text/plain": [
              "<Figure size 432x288 with 2 Axes>"
            ],
            "image/png": "[encoded data removed]"
          },
          "metadata": {
            "needs_background": "light"
          }
        }
      ]
    },
    {
      "cell_type": "code",
      "metadata": {
        "colab": {
          "base_uri": "https://localhost:8080/"
        },
        "id": "eL56GGNY34O1",
        "outputId": "1defc5a6-ff25-4371-f9c3-3fc8e129ceb8"
      },
      "source": [
        "# Chi-square test of independence.\n",
        "c, p, dof, expected = chi2_contingency(contigency)\n",
        "p"
      ],
      "execution_count": null,
      "outputs": [
        {
          "output_type": "execute_result",
          "data": {
            "text/plain": [
              "0.0"
            ]
          },
          "metadata": {},
          "execution_count": 31
        }
      ]
    },
    {
      "cell_type": "markdown",
      "metadata": {
        "id": "HW7V0ejZ360j"
      },
      "source": [
        "The p-value here is 0% which means that we do not reject the null hypothesis at 95% level of confidence.[4] The null hypothesis was that Gender and Race are independent. Therefore now know that Gender and race are completely independent from each other. \n",
        "\n",
        "Now lets compare the other nominal variables (incident offence and charge description) to and determine p statistics for all of them.\n",
        "\n"
      ]
    },
    {
      "cell_type": "code",
      "metadata": {
        "colab": {
          "base_uri": "https://localhost:8080/"
        },
        "id": "fEY1ojoL58Pf",
        "outputId": "18df57bd-c38d-4f2b-d5a3-57d0da3d70a3"
      },
      "source": [
        "contigencyGI= pd.crosstab(dfConverted['Gender'], dfConverted['IncidentOffence'])\n",
        "contigencyGC= pd.crosstab(dfConverted['Gender'], dfConverted['ChargeDescription'])\n",
        "contigencyRI= pd.crosstab(dfConverted['Race'], dfConverted['IncidentOffence'])\n",
        "contigencyRC= pd.crosstab(dfConverted['Race'], dfConverted['ChargeDescription'])\n",
        "contigencyCI= pd.crosstab(dfConverted['ChargeDescription'], dfConverted['IncidentOffence'])\n",
        "\n",
        "c, GIpStat, dof, expected = chi2_contingency(contigencyGI)\n",
        "c, GCpStat, dof, expected = chi2_contingency(contigencyGC)\n",
        "c, RIpStat, dof, expected = chi2_contingency(contigencyRI)\n",
        "c, RCpStat, dof, expected = chi2_contingency(contigencyRC)\n",
        "c, CIpStat, dof, expected = chi2_contingency(contigencyCI)\n",
        "\n",
        "print(\"Pstat btwn Gender and Incident Offecnce is: \", GIpStat)\n",
        "print(\"Pstat btwn Gender and Charge Description is: \", GCpStat)\n",
        "print(\"Pstat btwn Race and Incident Offecnce is: \", RIpStat)\n",
        "print(\"Pstat btwn Race and Charge Description is: \", RCpStat)\n",
        "print(\"Pstat btwn Charge Description and Incident Offecnce is: \", CIpStat)"
      ],
      "execution_count": null,
      "outputs": [
        {
          "output_type": "stream",
          "name": "stdout",
          "text": [
            "Pstat btwn Gender and Incident Offecnce is:  0.0\n",
            "Pstat btwn Gender and Charge Description is:  9.044134031092239e-170\n",
            "Pstat btwn Race and Incident Offecnce is:  0.0\n",
            "Pstat btwn Race and Charge Description is:  1.4298290944869867e-265\n",
            "Pstat btwn Charge Description and Incident Offecnce is:  0.0\n"
          ]
        }
      ]
    },
    {
      "cell_type": "markdown",
      "metadata": {
        "id": "QBP69GH28WLc"
      },
      "source": [
        "All of my nominal variables have little to no multicolliniarity with each other"
      ]
    },
    {
      "cell_type": "markdown",
      "metadata": {
        "id": "pxtsn0h1aoNe"
      },
      "source": [
        "#Modeling, Preprocessing, and cleaning\n"
      ]
    },
    {
      "cell_type": "markdown",
      "metadata": {
        "id": "sdoq1yWhIZ9k"
      },
      "source": [
        "With the comletion of the EDA, I will move on to modeling.\n",
        "\n",
        "First lets remind ourselves of what columns we're working with"
      ]
    },
    {
      "cell_type": "code",
      "metadata": {
        "id": "HlCJnQf0S2Uf",
        "outputId": "4ef1e1dc-d7d2-4489-b762-a5038c2af1d1",
        "colab": {
          "base_uri": "https://localhost:8080/"
        }
      },
      "source": [
        "print(dfConverted.dtypes)\n",
        "print(print(dfConverted.isna().sum()))"
      ],
      "execution_count": null,
      "outputs": [
        {
          "output_type": "stream",
          "name": "stdout",
          "text": [
            "Age                   Int64\n",
            "Gender               string\n",
            "Race                 string\n",
            "IncidentOffence      string\n",
            "ChargeDescription    string\n",
            "District             string\n",
            "date                 object\n",
            "time                 object\n",
            "dtype: object\n",
            "Age                      0\n",
            "Gender                   0\n",
            "Race                     0\n",
            "IncidentOffence          0\n",
            "ChargeDescription        0\n",
            "District             86032\n",
            "date                     0\n",
            "time                     0\n",
            "dtype: int64\n",
            "None\n"
          ]
        }
      ]
    },
    {
      "cell_type": "markdown",
      "source": [
        "####Drop all the NAs from District\n",
        "Despite the immense amount of NA values in our target variable, it is better to drop the rows that have no district rather than naively attempt to fill in the values."
      ],
      "metadata": {
        "id": "65GUdQqry7DV"
      }
    },
    {
      "cell_type": "code",
      "source": [
        "dfConverted = dfConverted.dropna()"
      ],
      "metadata": {
        "id": "wIM1ho7tzlkG"
      },
      "execution_count": null,
      "outputs": []
    },
    {
      "cell_type": "code",
      "source": [
        "print(dfConverted.isna().sum())\n",
        "dfConverted"
      ],
      "metadata": {
        "id": "pfEis5TcztSJ",
        "outputId": "0aacd41a-de75-43f5-cca8-60e94f63ffd9",
        "colab": {
          "base_uri": "https://localhost:8080/",
          "height": 580
        }
      },
      "execution_count": null,
      "outputs": [
        {
          "output_type": "stream",
          "name": "stdout",
          "text": [
            "Age                  0\n",
            "Gender               0\n",
            "Race                 0\n",
            "IncidentOffence      0\n",
            "ChargeDescription    0\n",
            "District             0\n",
            "date                 0\n",
            "time                 0\n",
            "dtype: int64\n"
          ]
        },
        {
          "output_type": "execute_result",
          "data": {
            "text/plain": [
              "        Age Gender Race         IncidentOffence   ChargeDescription  \\\n",
              "0        27      M    B   96BINVESTIGATIVE STOP  HAND GUN VIOLATION   \n",
              "1        45      F    B         Unknown Offense          AUTO THEFT   \n",
              "2        42      F    W         Unknown Offense  2ND DEGREE ASSAULT   \n",
              "3        26      M    B         Unknown Offense                PWID   \n",
              "4        19      M    B         Unknown Offense                PWID   \n",
              "...     ...    ...  ...                     ...                 ...   \n",
              "175917   27      M    B         Unknown Offense   HANDGUN VIOLATION   \n",
              "175918   35      M    B         Unknown Offense   FIREARM VIOLATION   \n",
              "175919   41      M    B  83DISCHARGING FIREARM          DISCHARGING   \n",
              "175920   36      F    B  83DISCHARGING FIREARM          DISCHARGING   \n",
              "175921   30      M    B  83DISCHARGING FIREARM                  HGV   \n",
              "\n",
              "         District        date      time  \n",
              "0       Southwest  2020-12-31  23:50:00  \n",
              "1         Western  2020-12-31  23:45:00  \n",
              "2       Southwest  2020-12-31  23:40:00  \n",
              "3        Southern  2020-12-31  21:45:00  \n",
              "4        Southern  2020-12-31  21:45:00  \n",
              "...           ...         ...       ...  \n",
              "175917  Northeast  2014-01-01  00:05:00  \n",
              "175918  Northeast  2014-01-01  00:05:00  \n",
              "175919  Southwest  2014-01-01  00:05:00  \n",
              "175920  Southwest  2014-01-01  00:05:00  \n",
              "175921  Southwest  2014-01-01  00:05:00  \n",
              "\n",
              "[89891 rows x 8 columns]"
            ],
            "text/html": [
              "\n",
              "  <div id=\"df-d160746c-3a0a-47d5-a338-6a6b094a9d36\">\n",
              "    <div class=\"colab-df-container\">\n",
              "      <div>\n",
              "<style scoped>\n",
              "    .dataframe tbody tr th:only-of-type {\n",
              "        vertical-align: middle;\n",
              "    }\n",
              "\n",
              "    .dataframe tbody tr th {\n",
              "        vertical-align: top;\n",
              "    }\n",
              "\n",
              "    .dataframe thead th {\n",
              "        text-align: right;\n",
              "    }\n",
              "</style>\n",
              "<table border=\"1\" class=\"dataframe\">\n",
              "  <thead>\n",
              "    <tr style=\"text-align: right;\">\n",
              "      <th></th>\n",
              "      <th>Age</th>\n",
              "      <th>Gender</th>\n",
              "      <th>Race</th>\n",
              "      <th>IncidentOffence</th>\n",
              "      <th>ChargeDescription</th>\n",
              "      <th>District</th>\n",
              "      <th>date</th>\n",
              "      <th>time</th>\n",
              "    </tr>\n",
              "  </thead>\n",
              "  <tbody>\n",
              "    <tr>\n",
              "      <th>0</th>\n",
              "      <td>27</td>\n",
              "      <td>M</td>\n",
              "      <td>B</td>\n",
              "      <td>96BINVESTIGATIVE STOP</td>\n",
              "      <td>HAND GUN VIOLATION</td>\n",
              "      <td>Southwest</td>\n",
              "      <td>2020-12-31</td>\n",
              "      <td>23:50:00</td>\n",
              "    </tr>\n",
              "    <tr>\n",
              "      <th>1</th>\n",
              "      <td>45</td>\n",
              "      <td>F</td>\n",
              "      <td>B</td>\n",
              "      <td>Unknown Offense</td>\n",
              "      <td>AUTO THEFT</td>\n",
              "      <td>Western</td>\n",
              "      <td>2020-12-31</td>\n",
              "      <td>23:45:00</td>\n",
              "    </tr>\n",
              "    <tr>\n",
              "      <th>2</th>\n",
              "      <td>42</td>\n",
              "      <td>F</td>\n",
              "      <td>W</td>\n",
              "      <td>Unknown Offense</td>\n",
              "      <td>2ND DEGREE ASSAULT</td>\n",
              "      <td>Southwest</td>\n",
              "      <td>2020-12-31</td>\n",
              "      <td>23:40:00</td>\n",
              "    </tr>\n",
              "    <tr>\n",
              "      <th>3</th>\n",
              "      <td>26</td>\n",
              "      <td>M</td>\n",
              "      <td>B</td>\n",
              "      <td>Unknown Offense</td>\n",
              "      <td>PWID</td>\n",
              "      <td>Southern</td>\n",
              "      <td>2020-12-31</td>\n",
              "      <td>21:45:00</td>\n",
              "    </tr>\n",
              "    <tr>\n",
              "      <th>4</th>\n",
              "      <td>19</td>\n",
              "      <td>M</td>\n",
              "      <td>B</td>\n",
              "      <td>Unknown Offense</td>\n",
              "      <td>PWID</td>\n",
              "      <td>Southern</td>\n",
              "      <td>2020-12-31</td>\n",
              "      <td>21:45:00</td>\n",
              "    </tr>\n",
              "    <tr>\n",
              "      <th>...</th>\n",
              "      <td>...</td>\n",
              "      <td>...</td>\n",
              "      <td>...</td>\n",
              "      <td>...</td>\n",
              "      <td>...</td>\n",
              "      <td>...</td>\n",
              "      <td>...</td>\n",
              "      <td>...</td>\n",
              "    </tr>\n",
              "    <tr>\n",
              "      <th>175917</th>\n",
              "      <td>27</td>\n",
              "      <td>M</td>\n",
              "      <td>B</td>\n",
              "      <td>Unknown Offense</td>\n",
              "      <td>HANDGUN VIOLATION</td>\n",
              "      <td>Northeast</td>\n",
              "      <td>2014-01-01</td>\n",
              "      <td>00:05:00</td>\n",
              "    </tr>\n",
              "    <tr>\n",
              "      <th>175918</th>\n",
              "      <td>35</td>\n",
              "      <td>M</td>\n",
              "      <td>B</td>\n",
              "      <td>Unknown Offense</td>\n",
              "      <td>FIREARM VIOLATION</td>\n",
              "      <td>Northeast</td>\n",
              "      <td>2014-01-01</td>\n",
              "      <td>00:05:00</td>\n",
              "    </tr>\n",
              "    <tr>\n",
              "      <th>175919</th>\n",
              "      <td>41</td>\n",
              "      <td>M</td>\n",
              "      <td>B</td>\n",
              "      <td>83DISCHARGING FIREARM</td>\n",
              "      <td>DISCHARGING</td>\n",
              "      <td>Southwest</td>\n",
              "      <td>2014-01-01</td>\n",
              "      <td>00:05:00</td>\n",
              "    </tr>\n",
              "    <tr>\n",
              "      <th>175920</th>\n",
              "      <td>36</td>\n",
              "      <td>F</td>\n",
              "      <td>B</td>\n",
              "      <td>83DISCHARGING FIREARM</td>\n",
              "      <td>DISCHARGING</td>\n",
              "      <td>Southwest</td>\n",
              "      <td>2014-01-01</td>\n",
              "      <td>00:05:00</td>\n",
              "    </tr>\n",
              "    <tr>\n",
              "      <th>175921</th>\n",
              "      <td>30</td>\n",
              "      <td>M</td>\n",
              "      <td>B</td>\n",
              "      <td>83DISCHARGING FIREARM</td>\n",
              "      <td>HGV</td>\n",
              "      <td>Southwest</td>\n",
              "      <td>2014-01-01</td>\n",
              "      <td>00:05:00</td>\n",
              "    </tr>\n",
              "  </tbody>\n",
              "</table>\n",
              "<p>89891 rows × 8 columns</p>\n",
              "</div>\n",
              "      <button class=\"colab-df-convert\" onclick=\"convertToInteractive('df-d160746c-3a0a-47d5-a338-6a6b094a9d36')\"\n",
              "              title=\"Convert this dataframe to an interactive table.\"\n",
              "              style=\"display:none;\">\n",
              "        \n",
              "  <svg xmlns=\"http://www.w3.org/2000/svg\" height=\"24px\"viewBox=\"0 0 24 24\"\n",
              "       width=\"24px\">\n",
              "    <path d=\"M0 0h24v24H0V0z\" fill=\"none\"/>\n",
              "    <path d=\"M18.56 5.44l.94 2.06.94-2.06 2.06-.94-2.06-.94-.94-2.06-.94 2.06-2.06.94zm-11 1L8.5 8.5l.94-2.06 2.06-.94-2.06-.94L8.5 2.5l-.94 2.06-2.06.94zm10 10l.94 2.06.94-2.06 2.06-.94-2.06-.94-.94-2.06-.94 2.06-2.06.94z\"/><path d=\"M17.41 7.96l-1.37-1.37c-.4-.4-.92-.59-1.43-.59-.52 0-1.04.2-1.43.59L10.3 9.45l-7.72 7.72c-.78.78-.78 2.05 0 2.83L4 21.41c.39.39.9.59 1.41.59.51 0 1.02-.2 1.41-.59l7.78-7.78 2.81-2.81c.8-.78.8-2.07 0-2.86zM5.41 20L4 18.59l7.72-7.72 1.47 1.35L5.41 20z\"/>\n",
              "  </svg>\n",
              "      </button>\n",
              "      \n",
              "  <style>\n",
              "    .colab-df-container {\n",
              "      display:flex;\n",
              "      flex-wrap:wrap;\n",
              "      gap: 12px;\n",
              "    }\n",
              "\n",
              "    .colab-df-convert {\n",
              "      background-color: #E8F0FE;\n",
              "      border: none;\n",
              "      border-radius: 50%;\n",
              "      cursor: pointer;\n",
              "      display: none;\n",
              "      fill: #1967D2;\n",
              "      height: 32px;\n",
              "      padding: 0 0 0 0;\n",
              "      width: 32px;\n",
              "    }\n",
              "\n",
              "    .colab-df-convert:hover {\n",
              "      background-color: #E2EBFA;\n",
              "      box-shadow: 0px 1px 2px rgba(60, 64, 67, 0.3), 0px 1px 3px 1px rgba(60, 64, 67, 0.15);\n",
              "      fill: #174EA6;\n",
              "    }\n",
              "\n",
              "    [theme=dark] .colab-df-convert {\n",
              "      background-color: #3B4455;\n",
              "      fill: #D2E3FC;\n",
              "    }\n",
              "\n",
              "    [theme=dark] .colab-df-convert:hover {\n",
              "      background-color: #434B5C;\n",
              "      box-shadow: 0px 1px 3px 1px rgba(0, 0, 0, 0.15);\n",
              "      filter: drop-shadow(0px 1px 2px rgba(0, 0, 0, 0.3));\n",
              "      fill: #FFFFFF;\n",
              "    }\n",
              "  </style>\n",
              "\n",
              "      <script>\n",
              "        const buttonEl =\n",
              "          document.querySelector('#df-d160746c-3a0a-47d5-a338-6a6b094a9d36 button.colab-df-convert');\n",
              "        buttonEl.style.display =\n",
              "          google.colab.kernel.accessAllowed ? 'block' : 'none';\n",
              "\n",
              "        async function convertToInteractive(key) {\n",
              "          const element = document.querySelector('#df-d160746c-3a0a-47d5-a338-6a6b094a9d36');\n",
              "          const dataTable =\n",
              "            await google.colab.kernel.invokeFunction('convertToInteractive',\n",
              "                                                     [key], {});\n",
              "          if (!dataTable) return;\n",
              "\n",
              "          const docLinkHtml = 'Like what you see? Visit the ' +\n",
              "            '<a target=\"_blank\" href=https://colab.research.google.com/notebooks/data_table.ipynb>data table notebook</a>'\n",
              "            + ' to learn more about interactive tables.';\n",
              "          element.innerHTML = '';\n",
              "          dataTable['output_type'] = 'display_data';\n",
              "          await google.colab.output.renderOutput(dataTable, element);\n",
              "          const docLink = document.createElement('div');\n",
              "          docLink.innerHTML = docLinkHtml;\n",
              "          element.appendChild(docLink);\n",
              "        }\n",
              "      </script>\n",
              "    </div>\n",
              "  </div>\n",
              "  "
            ]
          },
          "metadata": {},
          "execution_count": 30
        }
      ]
    },
    {
      "cell_type": "markdown",
      "source": [
        "With this our dataset is ready for modeling"
      ],
      "metadata": {
        "id": "JRmoYs09zuyS"
      }
    },
    {
      "cell_type": "markdown",
      "metadata": {
        "id": "suO5ZiHcb05a"
      },
      "source": [
        "####Splitting Training and Test sets"
      ]
    },
    {
      "cell_type": "code",
      "source": [
        "print(dfConverted.District)"
      ],
      "metadata": {
        "colab": {
          "base_uri": "https://localhost:8080/"
        },
        "id": "apgd_OqFqbdJ",
        "outputId": "89dcd8f0-2dab-4725-eda7-fd43f66ac592"
      },
      "execution_count": null,
      "outputs": [
        {
          "output_type": "stream",
          "name": "stdout",
          "text": [
            "0         Southwest\n",
            "1           Western\n",
            "2         Southwest\n",
            "3          Southern\n",
            "4          Southern\n",
            "            ...    \n",
            "175917    Northeast\n",
            "175918    Northeast\n",
            "175919    Southwest\n",
            "175920    Southwest\n",
            "175921    Southwest\n",
            "Name: District, Length: 89891, dtype: string\n"
          ]
        }
      ]
    },
    {
      "cell_type": "code",
      "metadata": {
        "id": "6H5hoeWRJXSG",
        "outputId": "38f1656f-febf-45bc-8c2c-6170d0d13b5a",
        "colab": {
          "base_uri": "https://localhost:8080/"
        }
      },
      "source": [
        "from sklearn.pipeline import Pipeline\n",
        "from sklearn.compose import ColumnTransformer\n",
        "from sklearn.impute import SimpleImputer\n",
        "from sklearn.preprocessing import OneHotEncoder\n",
        "from sklearn.preprocessing import StandardScaler\n",
        "\n",
        "#First grab all the relvent columns and put em in lists\n",
        "numericalColumns = dfConverted.select_dtypes(include=['Int64'])\n",
        "nonNumericColumns = dfConverted.select_dtypes(exclude=['Int64'])\n",
        "\n",
        "cat_vars = []\n",
        "num_vars = []\n",
        "\n",
        "#This is to make sure I dont include the target variable.\n",
        "for col in numericalColumns.columns:\n",
        "      num_vars.append(col)\n",
        "for col in nonNumericColumns.columns:\n",
        "  if col != 'District':\n",
        "    cat_vars.append(col)\n",
        "\n",
        "#Check to ensure I have everything I want\n",
        "print(\"categorical variable list = \", cat_vars)\n",
        "print(\"numerical variable list = \", num_vars)\n",
        "\n",
        "\n",
        "#Regardless of what methodology I go with, I am going to have to standardize\n",
        "#I know there is no missing data in the Age column so I dont need to impute missing\n",
        "num_pipeline = Pipeline([('standardize_num', StandardScaler())\n",
        "                        ])\n",
        "\n",
        "num_transformer = ColumnTransformer(transformers=[('proc_numeric', num_pipeline, num_vars)])\n",
        "\n",
        "cat_pipeline = Pipeline([('create_dummies_cats', OneHotEncoder(handle_unknown='ignore'))])\n",
        "\n",
        "#I think im not doing this tuple correctly. I think this is why the imputing never happens\n",
        "processing_pipeline = ColumnTransformer(transformers=[('adjust_cats', cat_pipeline, cat_vars),\n",
        "                                                      ('proc_numeric', num_pipeline, num_vars)\n",
        "                                                      \n",
        "                                                     ]\n",
        "                                        )\n",
        "\n",
        "print(processing_pipeline)"
      ],
      "execution_count": null,
      "outputs": [
        {
          "output_type": "stream",
          "name": "stdout",
          "text": [
            "categorical variable list =  ['Gender', 'Race', 'IncidentOffence', 'ChargeDescription', 'date', 'time']\n",
            "numerical variable list =  ['Age']\n",
            "ColumnTransformer(transformers=[('adjust_cats',\n",
            "                                 Pipeline(steps=[('create_dummies_cats',\n",
            "                                                  OneHotEncoder(handle_unknown='ignore'))]),\n",
            "                                 ['Gender', 'Race', 'IncidentOffence',\n",
            "                                  'ChargeDescription', 'date', 'time']),\n",
            "                                ('proc_numeric',\n",
            "                                 Pipeline(steps=[('standardize_num',\n",
            "                                                  StandardScaler())]),\n",
            "                                 ['Age'])])\n"
          ]
        }
      ]
    },
    {
      "cell_type": "code",
      "metadata": {
        "id": "aMF-wKtHJnNi",
        "outputId": "a8525607-2113-4cc2-c864-d77c8cd136a0",
        "colab": {
          "base_uri": "https://localhost:8080/"
        }
      },
      "source": [
        "from sklearn.model_selection import train_test_split\n",
        "X_train, X_test, y_train, y_test = train_test_split(dfConverted[num_vars+cat_vars], dfConverted[\"District\"], test_size=0.25, random_state=12345)\n",
        "\n",
        "print(f'Training examples: {X_train.shape[0]:,}')\n",
        "print(f'Test examples: {X_test.shape[0]:,}')"
      ],
      "execution_count": null,
      "outputs": [
        {
          "output_type": "stream",
          "name": "stdout",
          "text": [
            "Training examples: 67,418\n",
            "Test examples: 22,473\n"
          ]
        }
      ]
    },
    {
      "cell_type": "markdown",
      "metadata": {
        "id": "Sod16MxJc6ZV"
      },
      "source": [
        "####Logistic Regression with grid search"
      ]
    },
    {
      "cell_type": "code",
      "metadata": {
        "colab": {
          "base_uri": "https://localhost:8080/"
        },
        "id": "oZQ49WFqc4Tr",
        "outputId": "6088474e-4196-4927-ca9b-b39bdd604a71"
      },
      "source": [
        "from sklearn.linear_model import LogisticRegression\n",
        "from sklearn.model_selection import GridSearchCV\n",
        "from sklearn.pipeline import Pipeline\n",
        "import time\n",
        "start_time = time.time()\n",
        "p1 = Pipeline([('processing', processing_pipeline),\n",
        "             ('lr', LogisticRegression(solver='liblinear'))])\n",
        "\n",
        "#Select various correlation strengths with a magnitude of 10\n",
        "params = {'lr__C': [0.1, 1, 10, 100]}\n",
        "\n",
        "#I will score based on accurancy as that the dataset is not heavily skewed\n",
        "lr_gscv = GridSearchCV(p1, param_grid=params, cv=4, scoring='accuracy', refit=True)\n",
        "\n",
        "lr_gscv = lr_gscv.fit(X_train, y_train)\n",
        "\n",
        "print(f'Validation score: {lr_gscv.best_score_:.2%}')\n",
        "\n",
        "lr_pred = lr_gscv.predict(X_test)\n",
        "\n",
        "print(f'Test score: {lr_gscv.score(X_test, y_test):.2%}')\n",
        "print (\"Runtime: \", time.time() - start_time, \" seconds\")"
      ],
      "execution_count": null,
      "outputs": [
        {
          "output_type": "stream",
          "name": "stdout",
          "text": [
            "Validation score: 23.25%\n",
            "Test score: 23.92%\n",
            "Runtime:  196.33217692375183  seconds\n"
          ]
        }
      ]
    },
    {
      "cell_type": "markdown",
      "source": [
        "Neat tidbit: Last year, I ran this exact code on a pandas dataframe that was not converted from a pyspark dataframe and this took 172.7 seconds to run. Now it takes 196.33 seconds."
      ],
      "metadata": {
        "id": "vDvh4u9lmu_T"
      }
    },
    {
      "cell_type": "markdown",
      "source": [
        "Now to check which correlation strength was the best."
      ],
      "metadata": {
        "id": "AVMZpwbI2BKr"
      }
    },
    {
      "cell_type": "code",
      "source": [
        "lr_gscv.best_params_"
      ],
      "metadata": {
        "id": "sHCA__kQ1wlW",
        "outputId": "8b6e0e71-bb5f-4ca9-deb1-c23be26edc0e",
        "colab": {
          "base_uri": "https://localhost:8080/"
        }
      },
      "execution_count": null,
      "outputs": [
        {
          "output_type": "execute_result",
          "data": {
            "text/plain": [
              "{'lr__C': 0.1}"
            ]
          },
          "metadata": {},
          "execution_count": 35
        }
      ]
    },
    {
      "cell_type": "markdown",
      "metadata": {
        "id": "IWMGkfq4QTMT"
      },
      "source": [
        "Further Refined Logistic Grid Search"
      ]
    },
    {
      "cell_type": "markdown",
      "metadata": {
        "id": "xIT5sC6VXI0R"
      },
      "source": [
        "Now that we know the best correlation strength is around __, I am going to run it again with values closer to __ to ensure I have the best correlation strength possible"
      ]
    },
    {
      "cell_type": "code",
      "metadata": {
        "id": "UpcsKCiZQSfa",
        "colab": {
          "base_uri": "https://localhost:8080/"
        },
        "outputId": "a38e2094-1dc3-4569-e6b6-cccde1f53e18"
      },
      "source": [
        "start_time = time.time()\n",
        "p1 = Pipeline([('processing', processing_pipeline),\n",
        "             ('lr', LogisticRegression(solver='liblinear'))])\n",
        "\n",
        "#Select correlation strengths near the best one with a magnitude of 2\n",
        "params = {'lr__C': [1/4, 1/2, 1, 2, 4]}\n",
        "\n",
        "#I will score based on accurancy as that the dataset is not heavily skewed\n",
        "lr_gscv = GridSearchCV(p1, param_grid=params, cv=3, scoring='accuracy', refit=True)\n",
        "\n",
        "lr_gscv = lr_gscv.fit(X_train, y_train)\n",
        "\n",
        "print(f'Validation score: {lr_gscv.best_score_:.2%}')\n",
        "\n",
        "lr_pred = lr_gscv.predict(X_test)\n",
        "\n",
        "print(f'Test score: {lr_gscv.score(X_test, y_test):.2%}')\n",
        "print (\"Runtime: \", time.time() - start_time, \" seconds\")"
      ],
      "execution_count": null,
      "outputs": [
        {
          "output_type": "stream",
          "name": "stdout",
          "text": [
            "Validation score: 23.24%\n",
            "Test score: 23.60%\n",
            "Runtime:  83.63390016555786  seconds\n"
          ]
        }
      ]
    },
    {
      "cell_type": "markdown",
      "source": [
        "After a refined grid search we were able to get a test score of approximately 24% in 83.6 seconds (1 min 23 sec)."
      ],
      "metadata": {
        "id": "cQ9uMRmu4hx5"
      }
    },
    {
      "cell_type": "markdown",
      "metadata": {
        "id": "-Rt1Xkzzd0se"
      },
      "source": [
        "####Descision Trees"
      ]
    },
    {
      "cell_type": "code",
      "metadata": {
        "id": "tvENq38Kdz6b",
        "colab": {
          "base_uri": "https://localhost:8080/"
        },
        "outputId": "dd7e9e2f-f847-4f8e-ad84-3a0ce2192bc3"
      },
      "source": [
        "from sklearn.tree import DecisionTreeClassifier\n",
        "from sklearn.model_selection import GridSearchCV\n",
        "from sklearn.pipeline import Pipeline\n",
        "import time\n",
        "start_time = time.time()\n",
        "\n",
        "p2 = Pipeline([('processing', processing_pipeline),\n",
        "             ('dt', DecisionTreeClassifier())])\n",
        "\n",
        "params = {'dt__max_depth': [1, 5, 10, 15, 25],\n",
        "         'dt__min_samples_split': [3, 10, 15]}\n",
        "\n",
        "dt_gscv = GridSearchCV(p2, param_grid=params, cv=4, scoring='accuracy', refit=True)\n",
        "dt_gscv = dt_gscv.fit(X_train, y_train)\n",
        "\n",
        "print(f'Validation score: {dt_gscv.best_score_:.2%}')\n",
        "\n",
        "dt_pred = dt_gscv.predict(X_test)\n",
        "\n",
        "print(f'Test score: {dt_gscv.score(X_test, y_test):.2%}')\n",
        "print (\"Runtime: \", time.time() - start_time, \" seconds\")"
      ],
      "execution_count": null,
      "outputs": [
        {
          "output_type": "stream",
          "name": "stdout",
          "text": [
            "Validation score: 20.86%\n",
            "Test score: 20.80%\n",
            "Runtime:  66.63988447189331  seconds\n"
          ]
        }
      ]
    },
    {
      "cell_type": "markdown",
      "source": [
        "Now to check the descision tree's best parameters"
      ],
      "metadata": {
        "id": "rLrZMoJj4zuH"
      }
    },
    {
      "cell_type": "code",
      "source": [
        "dt_gscv.best_params_"
      ],
      "metadata": {
        "id": "ayFRKRmK41DD",
        "outputId": "6f99318b-e732-45ce-b040-8f2718acf30d",
        "colab": {
          "base_uri": "https://localhost:8080/"
        }
      },
      "execution_count": null,
      "outputs": [
        {
          "output_type": "execute_result",
          "data": {
            "text/plain": [
              "{'dt__max_depth': 25, 'dt__min_samples_split': 10}"
            ]
          },
          "metadata": {},
          "execution_count": 38
        }
      ]
    },
    {
      "cell_type": "markdown",
      "source": [
        "Since the best param was at the max and minimum ranges respectively, I'll run a refined grid search on a vastly larger range surrounding those values"
      ],
      "metadata": {
        "id": "7JSBwa295Ip7"
      }
    },
    {
      "cell_type": "markdown",
      "metadata": {
        "id": "3BeSp1pyQanN"
      },
      "source": [
        "Further Refined DT Grid Search"
      ]
    },
    {
      "cell_type": "code",
      "metadata": {
        "id": "mn00EcKUQbBh",
        "colab": {
          "base_uri": "https://localhost:8080/"
        },
        "outputId": "aecfd94c-fbc1-4ef2-c793-3a91cde23498"
      },
      "source": [
        "start_time = time.time()\n",
        "\n",
        "#This wil disable the annoying warnings\n",
        "def warn(*args, **kwargs):\n",
        "    pass\n",
        "import warnings\n",
        "warnings.warn = warn\n",
        "\n",
        "p2 = Pipeline([('processing', processing_pipeline),\n",
        "             ('dt', DecisionTreeClassifier())])\n",
        "\n",
        "params = {'dt__max_depth': [25, 50, 100, 1000],\n",
        "         'dt__min_samples_split': [.01, .1, 1, 2, 3]}\n",
        "\n",
        "dt_gscv = GridSearchCV(p2, param_grid=params, cv=4, scoring='accuracy', refit=True)\n",
        "dt_gscv = dt_gscv.fit(X_train, y_train)\n",
        "\n",
        "print(f'Validation score: {dt_gscv.best_score_:.2%}')\n",
        "\n",
        "dt_pred = dt_gscv.predict(X_test)\n",
        "\n",
        "print(f'Test score: {dt_gscv.score(X_test, y_test):.2%}')\n",
        "print (\"Runtime: \", time.time() - start_time, \" seconds\")"
      ],
      "execution_count": null,
      "outputs": [
        {
          "output_type": "stream",
          "name": "stdout",
          "text": [
            "Validation score: 21.54%\n",
            "Test score: 21.75%\n",
            "Runtime:  279.971745967865  seconds\n"
          ]
        }
      ]
    },
    {
      "cell_type": "markdown",
      "source": [
        "We seem to get a miniscule boost in accuracy. Thus, further grid searches are unlikely to contribute much to the refinement of the Decision Tree classifier s.t. it outperforms Logistic Regression.\n"
      ],
      "metadata": {
        "id": "aeOmHG0T7TR-"
      }
    },
    {
      "cell_type": "markdown",
      "metadata": {
        "id": "PRbsFiCyWuyD"
      },
      "source": [
        "#Fit an ensemble using the two above models."
      ]
    },
    {
      "cell_type": "code",
      "metadata": {
        "id": "VGRkOMP4fzyh",
        "colab": {
          "base_uri": "https://localhost:8080/"
        },
        "outputId": "97aab257-cad8-4a42-e023-3731df53266e"
      },
      "source": [
        "\n",
        "from sklearn.model_selection import cross_val_score\n",
        "from sklearn.linear_model import LogisticRegression\n",
        "from sklearn.tree import DecisionTreeClassifier\n",
        "from sklearn import svm\n",
        "from sklearn.pipeline import Pipeline\n",
        "import numpy as np\n",
        "start_time = time.time()\n",
        "clf1 = LogisticRegression(penalty='l2', C=0.001, solver='lbfgs', random_state=0)\n",
        "clf2 = DecisionTreeClassifier(max_depth=1, criterion='entropy', random_state=1)\n",
        "\n",
        "pipe1 = Pipeline([('processing', processing_pipeline),\n",
        "             ('lr', LogisticRegression(solver='liblinear'))])\n",
        "pipe2 = Pipeline([('processing', processing_pipeline),\n",
        "             ('dt', DecisionTreeClassifier())])\n",
        "\n",
        "labs = ['Logistic Regression', 'Decision Tree']\n",
        "clfs = [pipe1, pipe2]\n",
        "clfs = zip(labs, clfs)\n",
        "\n",
        "for lab, clf in clfs:\n",
        "    scores = cross_val_score(estimator=clf, X=X_train, y=y_train, cv=3, scoring='accuracy')\n",
        "    print(f'Accuracy {scores.mean():.2f} (+/- {scores.std():.2f}) [{lab}]')\n",
        "print (\"Runtime: \", time.time() - start_time, \" seconds\")"
      ],
      "execution_count": null,
      "outputs": [
        {
          "output_type": "stream",
          "name": "stdout",
          "text": [
            "Accuracy 0.23 (+/- 0.00) [Logistic Regression]\n",
            "Accuracy 0.20 (+/- 0.00) [Decision Tree]\n"
          ]
        }
      ]
    },
    {
      "cell_type": "code",
      "metadata": {
        "id": "V9IYo87af1Gy",
        "colab": {
          "base_uri": "https://localhost:8080/"
        },
        "outputId": "dadc0a0f-b5e8-47fe-83df-2c06b0dc3633"
      },
      "source": [
        "from sklearn.ensemble import VotingClassifier\n",
        "\n",
        "ems = [('lr', pipe1),('dt', pipe2)]\n",
        "\n",
        "clf4 = VotingClassifier(estimators= ems, weights=None, voting='hard')\n",
        "\n",
        "scores = cross_val_score(estimator=clf4, X=X_train, y=y_train, cv=3, scoring='accuracy')\n",
        "print(f'Accuracy {scores.mean():.2f} (+/- {scores.std():.2f}) [Ensemble]')"
      ],
      "execution_count": null,
      "outputs": [
        {
          "output_type": "stream",
          "name": "stdout",
          "text": [
            "Accuracy 0.21 (+/- 0.00) [Ensemble]\n"
          ]
        }
      ]
    },
    {
      "cell_type": "markdown",
      "source": [
        "The ensemble did not seem to boost the accuracy over the pure logistic regression"
      ],
      "metadata": {
        "id": "EunVb3JvGJds"
      }
    },
    {
      "cell_type": "markdown",
      "metadata": {
        "id": "qYwmGU3td7-c"
      },
      "source": [
        "ADA BOOST"
      ]
    },
    {
      "cell_type": "markdown",
      "source": [
        "The AdaBoost algorithm is a machine learning approach that is utilized as an Ensemble Method. It manipulates the weights of each of the columns to try and make up for improperly categorized instances. The purpose of ADA Boost in supervised learning is to decrease bias and variation. In layman's terms, the AdaBoost algorithm is a method available to me as a way to increase the accurracy score of the Logistic Regression."
      ],
      "metadata": {
        "id": "YMt41t7pAkPF"
      }
    },
    {
      "cell_type": "code",
      "metadata": {
        "id": "As3EEQHDd7Kp",
        "colab": {
          "base_uri": "https://localhost:8080/"
        },
        "outputId": "fe92a454-300e-4469-9a66-29a0f49c6c3b"
      },
      "source": [
        "from sklearn.ensemble import AdaBoostClassifier\n",
        "import time\n",
        "start_time = time.time()\n",
        "# multi-step pipelines don't play as nice with AdaBoost\n",
        "xt = processing_pipeline.fit_transform(X_train)\n",
        "\n",
        "params = {'n_estimators': [5, 10, 20]\n",
        "         }\n",
        "\n",
        "#ABC = AdaBoostClassifier(base_estimator=p2)\n",
        "ABC = AdaBoostClassifier(LogisticRegression(solver='liblinear'))\n",
        "\n",
        "\n",
        "ad_gscv = GridSearchCV(ABC, param_grid = params, cv=4, scoring='accuracy')\n",
        "           \n",
        "ad_gscv = ad_gscv.fit(xt, y_train)\n",
        "\n",
        "print(f'Validation score: {ad_gscv.best_score_:.2%}')\n",
        "\n",
        "xtt = processing_pipeline.transform(X_test)\n",
        "\n",
        "ad_pred = ad_gscv.predict(xtt)\n",
        "\n",
        "print(f'Test score: {ad_gscv.score(xtt, y_test):.2%}')\n",
        "print (\"Runtime: \", time.time() - start_time, \" seconds\")"
      ],
      "execution_count": null,
      "outputs": [
        {
          "output_type": "stream",
          "name": "stdout",
          "text": [
            "Validation score: 18.63%\n",
            "Test score: 18.51%\n",
            "Runtime:  116.58804726600647  seconds\n"
          ]
        }
      ]
    },
    {
      "cell_type": "code",
      "source": [
        "ad_gscv.best_params_"
      ],
      "metadata": {
        "id": "WfWXKi0YHutE",
        "colab": {
          "base_uri": "https://localhost:8080/"
        },
        "outputId": "9e9f5101-cbb2-4976-ab4c-1109086995c6"
      },
      "execution_count": null,
      "outputs": [
        {
          "output_type": "execute_result",
          "data": {
            "text/plain": [
              "{'n_estimators': 20}"
            ]
          },
          "metadata": {},
          "execution_count": 43
        }
      ]
    },
    {
      "cell_type": "markdown",
      "source": [
        "18% seems oddly low for ADABOOST so I will run this again with some higher parameters.\n",
        "\n",
        "I'll run it again with the faster pyspark converted dataframe with a higher number of estimators."
      ],
      "metadata": {
        "id": "UPymcuYYtysU"
      }
    },
    {
      "cell_type": "code",
      "source": [
        "from sklearn.ensemble import AdaBoostClassifier\n",
        "import time\n",
        "start_time = time.time()\n",
        "# multi-step pipelines don't play as nice with AdaBoost\n",
        "xt = processing_pipeline.fit_transform(X_train)\n",
        "\n",
        "params = {'n_estimators': [20, 50, 75]\n",
        "         }\n",
        "\n",
        "#ABC = AdaBoostClassifier(base_estimator=p2)\n",
        "ABC = AdaBoostClassifier(LogisticRegression(solver='liblinear'))\n",
        "\n",
        "\n",
        "ad_gscv = GridSearchCV(ABC, param_grid = params, cv=4, scoring='accuracy')\n",
        "           \n",
        "ad_gscv = ad_gscv.fit(xt, y_train)\n",
        "\n",
        "print(f'Validation score: {ad_gscv.best_score_:.2%}')\n",
        "\n",
        "xtt = processing_pipeline.transform(X_test)\n",
        "\n",
        "ad_pred = ad_gscv.predict(xtt)\n",
        "\n",
        "print(f'Test score: {ad_gscv.score(xtt, y_test):.2%}')\n",
        "print (\"Runtime: \", time.time() - start_time, \" seconds\")"
      ],
      "metadata": {
        "colab": {
          "base_uri": "https://localhost:8080/"
        },
        "id": "YuFgMDV7uBQh",
        "outputId": "6a24eae0-a5e9-4abc-c3a8-57c494415a7f"
      },
      "execution_count": null,
      "outputs": [
        {
          "output_type": "stream",
          "name": "stdout",
          "text": [
            "Validation score: 19.70%\n",
            "Test score: 19.67%\n",
            "Runtime:  520.8220386505127  seconds\n"
          ]
        }
      ]
    },
    {
      "cell_type": "code",
      "source": [
        "ad_gscv.best_params_"
      ],
      "metadata": {
        "colab": {
          "base_uri": "https://localhost:8080/"
        },
        "id": "lQVPt99FwS4i",
        "outputId": "fc03fdfc-8a42-42ca-e351-59e68097e207"
      },
      "execution_count": null,
      "outputs": [
        {
          "output_type": "execute_result",
          "data": {
            "text/plain": [
              "{'n_estimators': 75}"
            ]
          },
          "metadata": {},
          "execution_count": 45
        }
      ]
    },
    {
      "cell_type": "markdown",
      "source": [
        "ADABOOST actually decreased the accuracy by a margin large enough to warrent the huge increase in time taken"
      ],
      "metadata": {
        "id": "Wm8QyOPenfep"
      }
    },
    {
      "cell_type": "markdown",
      "source": [
        "## SparkML"
      ],
      "metadata": {
        "id": "pGysIShZokRS"
      }
    },
    {
      "cell_type": "markdown",
      "source": [
        "Overall, it appears that logistic regression is the most appropriate model in this case. It appears improbable that I will achieve more than 24 percent. However, by using Spark, I can reduce the amount of time it takes to run the code due to the lower overhead Spark has.\n",
        "\n",
        "As a result, I want to develop one final model that will use sparkML to see if we can reduce the time it takes to execute it."
      ],
      "metadata": {
        "id": "GwWOzrF4ooZR"
      }
    },
    {
      "cell_type": "markdown",
      "source": [
        "### pyspark dataframe preprocessing\n",
        "The code below will manipulate a pyspark dataframe. I persisted right before the multicollinearity check to get it ready for modeling.\n",
        "\n",
        "(The following is heavily lifted from code in the Data604 hw7 github)"
      ],
      "metadata": {
        "id": "RjWMGpAhsENu"
      }
    },
    {
      "cell_type": "markdown",
      "source": [
        "#### imports"
      ],
      "metadata": {
        "id": "ZcZPU-z3v2BL"
      }
    },
    {
      "cell_type": "code",
      "source": [
        "# imports for model building\n",
        "from pyspark.ml.feature import VectorAssembler, OneHotEncoder, StringIndexer\n",
        "from pyspark.ml.classification import DecisionTreeClassifier\n",
        "from pyspark.ml import Pipeline\n",
        "\n",
        "# imports for model tuning\n",
        "from pyspark.ml.tuning import ParamGridBuilder, CrossValidator\n",
        "\n",
        "# imports for model evaluation\n",
        "from pyspark.ml.evaluation import BinaryClassificationEvaluator, MulticlassClassificationEvaluator"
      ],
      "metadata": {
        "id": "yuPXceEWp43t"
      },
      "execution_count": null,
      "outputs": []
    },
    {
      "cell_type": "markdown",
      "source": [
        "#### splits"
      ],
      "metadata": {
        "id": "x0NT3YKLv6bh"
      }
    },
    {
      "cell_type": "code",
      "source": [
        "# split the data into train (75%) and test (25%)\n",
        "train_spark, test_spark = spark_df.randomSplit([0.75, 0.25], seed=12345)"
      ],
      "metadata": {
        "id": "QzWYv8XCveBr"
      },
      "execution_count": null,
      "outputs": []
    },
    {
      "cell_type": "markdown",
      "source": [
        "####column seperation"
      ],
      "metadata": {
        "id": "VcCcz_t6v9vC"
      }
    },
    {
      "cell_type": "code",
      "source": [
        "# separate columns by datatype\n",
        "num_cols = [colname for colname, dtype in spark_df.dtypes if dtype in ('Int', 'Double')]\n",
        "categorical_cols = [colname for colname, dtype in spark_df.dtypes if dtype == 'string']\n",
        "target_col = ['District']"
      ],
      "metadata": {
        "id": "WjdYu6YhqlLI"
      },
      "execution_count": null,
      "outputs": []
    },
    {
      "cell_type": "markdown",
      "source": [
        "#### NA handelling"
      ],
      "metadata": {
        "id": "o358gHNFwA2I"
      }
    },
    {
      "cell_type": "code",
      "source": [
        "# drop rows with null numerical col\n",
        "spark_df = spark_df.dropna(subset=num_cols)"
      ],
      "metadata": {
        "id": "q1hawbqMrXdc"
      },
      "execution_count": null,
      "outputs": []
    },
    {
      "cell_type": "code",
      "source": [
        "from pyspark.sql.functions import col, trim, lower\n",
        "# drop NA in categorical col\n",
        "for column in categorical_cols:\n",
        "    spark_df = spark_df.filter(~(col(column) == 'NA'))"
      ],
      "metadata": {
        "id": "zw8GpvnLrg_E"
      },
      "execution_count": null,
      "outputs": []
    },
    {
      "cell_type": "code",
      "source": [
        "# drop NA in target col\n",
        "spark_df = spark_df.filter(~(col('District') == 'NA'))"
      ],
      "metadata": {
        "id": "N8g1Da1Hrjl2"
      },
      "execution_count": null,
      "outputs": []
    },
    {
      "cell_type": "markdown",
      "source": [
        "#### Preprocessing"
      ],
      "metadata": {
        "id": "TYEYRap23sCJ"
      }
    },
    {
      "cell_type": "code",
      "source": [
        "import time\n",
        "start_time = time.time()\n",
        "# String index\n",
        "indexOutput = [x + '_idx' for x in categorical_cols]\n",
        "stringIndexer = StringIndexer(inputCols=categorical_cols, outputCols=indexOutput)\n",
        "\n",
        "# One-hot encode\n",
        "oheOutput = [x + '_ohe' for x in categorical_cols]\n",
        "ohe = OneHotEncoder(inputCols=indexOutput, outputCols=oheOutput)\n",
        "\n",
        "# create numerical version of target column\n",
        "targetIndexer = StringIndexer(inputCol='District', outputCol='label')\n",
        "# prepare feature vector with vector assembler\n",
        "assemblerInput = oheOutput + num_cols\n",
        "vecAssembler = VectorAssembler(inputCols=assemblerInput, outputCol='features')"
      ],
      "metadata": {
        "id": "et2ntZhPp74v"
      },
      "execution_count": null,
      "outputs": []
    },
    {
      "cell_type": "code",
      "source": [
        "# prepare feature vector with vector assembler\n",
        "assemblerInput = oheOutput + num_cols\n",
        "vecAssembler = VectorAssembler(inputCols=assemblerInput, outputCol='features')"
      ],
      "metadata": {
        "id": "XdHPu6setIhq"
      },
      "execution_count": null,
      "outputs": []
    },
    {
      "cell_type": "markdown",
      "source": [
        "#### Logistic regression"
      ],
      "metadata": {
        "id": "ItR4iEqg3y4y"
      }
    },
    {
      "cell_type": "code",
      "source": [
        "# instantiate Logistic Regression Classifier\n",
        "from pyspark.ml.classification import LogisticRegression\n",
        "llr = LogisticRegression(family=\"multinomial\")"
      ],
      "metadata": {
        "id": "WRA3nHKztLYP"
      },
      "execution_count": null,
      "outputs": []
    },
    {
      "cell_type": "code",
      "source": [
        "# create pipeline\n",
        "pipeline = Pipeline(stages=[stringIndexer, ohe, targetIndexer, vecAssembler, llr])"
      ],
      "metadata": {
        "id": "z05p6a1UtTCV"
      },
      "execution_count": null,
      "outputs": []
    },
    {
      "cell_type": "code",
      "source": [
        "# evaluation metric for cross validation\n",
        "MulticlassEval = MulticlassClassificationEvaluator()"
      ],
      "metadata": {
        "id": "OdgJI2HEt5Qf"
      },
      "execution_count": null,
      "outputs": []
    },
    {
      "cell_type": "code",
      "source": [
        "# create parameter grid for hyperparameter tuning \n",
        "paramGrid = (ParamGridBuilder()\n",
        "             .addGrid(llr.maxIter, [5, 10])\n",
        "             .addGrid(llr.regParam, [.3, .8])\n",
        "             .addGrid(llr.elasticNetParam, [.2,.8])\n",
        "             .build()\n",
        "            )"
      ],
      "metadata": {
        "id": "vXpyy59UuCWJ"
      },
      "execution_count": null,
      "outputs": []
    },
    {
      "cell_type": "code",
      "source": [
        "# cross validate with 2 folds\n",
        "#cv = CrossValidator(estimator=pipeline, \n",
        "#                    estimatorParamMaps=paramGrid, \n",
        "#                    evaluator=MulticlassEval, \n",
        "#                    numFolds=2, \n",
        "#                    parallelism=2) #sets of parameters from the parameter grid that can be evaluated at the same time\n",
        "# fit the model\n",
        "#cvModel = cv.fit(train_spark)\n",
        "#print (\"Runtime: \", time.time() - start_time, \" seconds\")\n",
        "# get best model \n",
        "#bestModel = cvModel.bestModel\n",
        "print(\"An Error will occur claiming that I've run out of memory\\n\",\n",
        "      \"No matter how I tweak the parameters, even at the lowest of the lowest settings.\")"
      ],
      "metadata": {
        "colab": {
          "base_uri": "https://localhost:8080/"
        },
        "id": "zgnH7vrpuwXd",
        "outputId": "99f899d0-f7b5-4abf-aafd-2822419933b6"
      },
      "execution_count": null,
      "outputs": [
        {
          "output_type": "stream",
          "name": "stdout",
          "text": [
            "An Error will occur claiming that I've run out of memory\n",
            " No matter how I tweak the parameters, even at the lowest of the lowest settings.\n"
          ]
        }
      ]
    },
    {
      "cell_type": "markdown",
      "metadata": {
        "id": "n13atavYavs_"
      },
      "source": [
        "#Conclusion/next steps\n"
      ]
    },
    {
      "cell_type": "markdown",
      "metadata": {
        "id": "weqkwJGUarpe"
      },
      "source": [
        "## Results and discussion\n",
        "\n",
        "The Logistic Regression model produced the highest accuracy (23.6 percent) in around a minute and a half. It appears that attempting to change the Logistic regression resulted in a decrease in accuracy.\n",
        "\n",
        "This, however, comes with a strong caveat. My laptop, in conjunction with my coding environment, leaves much to be desired. I couldn't use SparkML to its full potential without exhausting the available memory."
      ]
    }
  ]
}