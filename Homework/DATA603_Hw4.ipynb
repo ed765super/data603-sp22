{
  "nbformat": 4,
  "nbformat_minor": 0,
  "metadata": {
    "colab": {
      "name": "DATA603_Hw4.ipynb",
      "provenance": []
    },
    "kernelspec": {
      "name": "python3",
      "display_name": "Python 3"
    },
    "language_info": {
      "name": "python"
    }
  },
  "cells": [
    {
      "cell_type": "markdown",
      "source": [
        "# Homework\n",
        "Baltimore City Crime Data\n",
        "\n",
        "https://data.baltimorecity.gov/datasets/part1-crime-data/explore?showTable=true\n",
        "## DataFrames:\n",
        "1. Specify the schema for the crime data set. \n",
        "2. Read the file using the schema definition\n",
        "3. Cache the DataFrame\n",
        "4. Show the count of the rows\n",
        "5. Print the schema\n",
        "6. Display first 5 rows\n",
        "7. Answer the following questions using DataFrame operations\n"
      ],
      "metadata": {
        "id": "-IZA1kJwciEz"
      }
    },
    {
      "cell_type": "code",
      "execution_count": 1,
      "metadata": {
        "colab": {
          "base_uri": "https://localhost:8080/"
        },
        "id": "Pt9c0GV5cX3E",
        "outputId": "7fc6e053-66b6-4e9a-b85b-62b8cf093f0f"
      },
      "outputs": [
        {
          "output_type": "stream",
          "name": "stdout",
          "text": [
            "Collecting pyspark\n",
            "  Downloading pyspark-3.2.1.tar.gz (281.4 MB)\n",
            "\u001b[K     |████████████████████████████████| 281.4 MB 36 kB/s \n",
            "\u001b[?25hCollecting py4j==0.10.9.3\n",
            "  Downloading py4j-0.10.9.3-py2.py3-none-any.whl (198 kB)\n",
            "\u001b[K     |████████████████████████████████| 198 kB 53.6 MB/s \n",
            "\u001b[?25hBuilding wheels for collected packages: pyspark\n",
            "  Building wheel for pyspark (setup.py) ... \u001b[?25l\u001b[?25hdone\n",
            "  Created wheel for pyspark: filename=pyspark-3.2.1-py2.py3-none-any.whl size=281853642 sha256=83af688872adc3ecaeb1592f11d865ef4fdf7e276a9392b31047421c2271b124\n",
            "  Stored in directory: /root/.cache/pip/wheels/9f/f5/07/7cd8017084dce4e93e84e92efd1e1d5334db05f2e83bcef74f\n",
            "Successfully built pyspark\n",
            "Installing collected packages: py4j, pyspark\n",
            "Successfully installed py4j-0.10.9.3 pyspark-3.2.1\n"
          ]
        }
      ],
      "source": [
        "!pip install pyspark"
      ]
    },
    {
      "cell_type": "code",
      "source": [
        "import pyspark\n",
        "spark = pyspark.sql.SparkSession.builder.getOrCreate()\n",
        "sc = spark.sparkContext"
      ],
      "metadata": {
        "id": "UkMd7nObcmH4"
      },
      "execution_count": 2,
      "outputs": []
    },
    {
      "cell_type": "code",
      "source": [
        "from pyspark.sql.types import StructType, IntegerType, DateType, FloatType, StringType, StructField\n",
        "#Columns:X\tY\tRowID\tCrimeDateTime\tCrimeCode\tLocation\tDescription\tInside_Outside\n",
        "#\tWeapon\tPost\tDistrict\tNeighborhood\tLatitude\tLongitude\tGeoLocation\tPremise\t\n",
        "#VRIName\tTotal_Incidents\tShape\n",
        "schema = StructType([\n",
        "    StructField(\"X\", FloatType()),\n",
        "    StructField(\"Y\", FloatType()),\n",
        "    StructField(\"RowID\", IntegerType()),\n",
        "    StructField(\"CrimeDateTime\", StringType()),\n",
        "    StructField(\"CrimeCode\", StringType()),\n",
        "    StructField(\"Location\", StringType()),\n",
        "    StructField(\"Description\", StringType()),\n",
        "    StructField(\"Inside_Outside\", StringType()),\n",
        "    StructField(\"Weapon\", StringType()),\n",
        "    StructField(\"Post\", StringType()),\n",
        "    StructField(\"District\", StringType()),\n",
        "    StructField(\"Neighborhood\", StringType()),\n",
        "    StructField(\"Latitude\", FloatType()),\n",
        "    StructField(\"Longitude\", FloatType()),\n",
        "    StructField(\"GeoLocation\", StringType()),\n",
        "    StructField(\"Premise\", StringType()),\n",
        "    StructField(\"VRIName\", StringType()),\n",
        "    StructField(\"Total_Incidents\", IntegerType()),\n",
        "    StructField(\"Shape\", IntegerType()),\n",
        "])\n",
        "df = spark.read.csv('Part1_Crime_data.csv', header=True, schema=schema)\n",
        "df.show()\n",
        "df.printSchema()\n"
      ],
      "metadata": {
        "id": "olEJOt2kd3li",
        "colab": {
          "base_uri": "https://localhost:8080/"
        },
        "outputId": "009b04db-384e-4985-8d33-12717ab010fd"
      },
      "execution_count": 71,
      "outputs": [
        {
          "output_type": "stream",
          "name": "stdout",
          "text": [
            "+---------+---------+-----+--------------------+---------+--------------------+--------------+--------------+-------+----+---------+--------------------+--------+---------+------------------+---------------+------------+---------------+-----+\n",
            "|        X|        Y|RowID|       CrimeDateTime|CrimeCode|            Location|   Description|Inside_Outside| Weapon|Post| District|        Neighborhood|Latitude|Longitude|       GeoLocation|        Premise|     VRIName|Total_Incidents|Shape|\n",
            "+---------+---------+-----+--------------------+---------+--------------------+--------------+--------------+-------+----+---------+--------------------+--------+---------+------------------+---------------+------------+---------------+-----+\n",
            "|1420074.1| 594160.6|    1|2022/02/26 04:00:...|       4E|   200 W MONUMENT ST|COMMON ASSAULT|          null|     NA| 124|  CENTRAL|        MOUNT VERNON| 39.2975| -76.6193|(39.2975,-76.6193)|           null|        null|              1| null|\n",
            "|1411374.2| 589791.4|    2|2022/02/26 01:26:...|       9S|  2100 FREDERICK AVE|      SHOOTING|       Outside|FIREARM| 835|SOUTHWEST|    CARROLLTON RIDGE| 39.2856| -76.6501|(39.2856,-76.6501)|COMMON BUSINESS|Tri-District|              1| null|\n",
            "|1411401.1|582761.75|    3|2022/02/26 10:22:...|       4E|  2000 GRINNALDS AVE|COMMON ASSAULT|          null|     NA| 831|SOUTHWEST|        MORRELL PARK| 39.2663| -76.6501|(39.2663,-76.6501)|           null|        null|              1| null|\n",
            "|1422663.1| 597595.4|    4|2022/02/26 01:11:...|       7A|     400 E OLIVER ST|    AUTO THEFT|          null|     NA| 313|  EASTERN|     GREENMOUNT WEST| 39.3069| -76.6101|(39.3069,-76.6101)|           null|        null|              1| null|\n",
            "|1440496.5| 607767.1|    5|2022/02/26 12:30:...|       4B| 5300 PLAINFIELD AVE|  AGG. ASSAULT|          null|  KNIFE| 444|NORTHEAST|           FRANKFORD| 39.3346| -76.5469|(39.3346,-76.5469)|           null|        null|              1| null|\n",
            "|1413036.1| 584625.7|    6|2022/02/26 05:40:...|       5F|    1300 WESTERN AVE|      BURGLARY|          null|     NA| 941| SOUTHERN|CARROLL - CAMDEN ...| 39.2714| -76.6443|(39.2714,-76.6443)|           null|        null|              1| null|\n",
            "|1413036.1| 584625.7|    7|2022/02/26 05:40:...|       6G|    1300 WESTERN AVE|       LARCENY|          null|     NA| 941| SOUTHERN|CARROLL - CAMDEN ...| 39.2714| -76.6443|(39.2714,-76.6443)|           null|        null|              1| null|\n",
            "|1413415.6| 588925.1|    8|2022/02/26 14:32:...|       4E|    1600 WILKENS AVE|COMMON ASSAULT|          null|     NA| 935| SOUTHERN|NEW SOUTHWEST/MOU...| 39.2832| -76.6429|(39.2832,-76.6429)|           null|Tri-District|              1| null|\n",
            "|1417569.9| 597537.7|    9|2022/02/26 03:05:...|       4B|     300 MCMECHEN ST|  AGG. ASSAULT|          null|  KNIFE| 132|  CENTRAL|         BOLTON HILL| 39.3068| -76.6281|(39.3068,-76.6281)|           null|        null|              1| null|\n",
            "|1435909.8| 608691.8|   10|2022/02/26 14:10:...|       4A|  3800 CEDARHURST RD|  AGG. ASSAULT|          null|FIREARM| 426|NORTHEAST|          WALTHERSON| 39.3372| -76.5631|(39.3372,-76.5631)|           null|        null|              1| null|\n",
            "|1426723.8|613566.75|   11|2022/02/26 19:30:...|       4B|     1300 KITMORE RD|  AGG. ASSAULT|          null|  KNIFE| 413|NORTHEAST|       NEW NORTHWOOD| 39.3507| -76.5955|(39.3507,-76.5955)|           null|        null|              1| null|\n",
            "|1399111.0| 608687.6|   12|2022/02/26 01:28:...|       4A|   4400 FERNHILL AVE|  AGG. ASSAULT|          null|FIREARM| 621|NORTHWEST|      WEST ARLINGTON| 39.3376| -76.6932|(39.3376,-76.6932)|           null|        null|              1| null|\n",
            "|1399111.0| 608687.6|   13|2022/02/26 01:28:...|       4A|   4400 FERNHILL AVE|  AGG. ASSAULT|          null|FIREARM| 621|NORTHWEST|      WEST ARLINGTON| 39.3376| -76.6932|(39.3376,-76.6932)|           null|        null|              1| null|\n",
            "|1399111.0| 608687.6|   14|2022/02/26 01:28:...|       4A|   4400 FERNHILL AVE|  AGG. ASSAULT|          null|FIREARM| 621|NORTHWEST|      WEST ARLINGTON| 39.3376| -76.6932|(39.3376,-76.6932)|           null|        null|              1| null|\n",
            "|1401970.8| 607823.2|   15|2022/02/26 19:30:...|       4B|3900 W COLD SPRIN...|  AGG. ASSAULT|          null|  KNIFE| 623|NORTHWEST|            DOLFIELD| 39.3352| -76.6831|(39.3352,-76.6831)|           null|        null|              1| null|\n",
            "|1422005.4|592566.06|   16|2022/02/26 20:45:...|       4A|    300 N CALVERT ST|  AGG. ASSAULT|          null|FIREARM| 111|  CENTRAL|            DOWNTOWN| 39.2931| -76.6125|(39.2931,-76.6125)|           null|        null|              1| null|\n",
            "|1399111.0| 608687.6|   17|2022/02/26 01:28:...|       4A|   4400 FERNHILL AVE|  AGG. ASSAULT|          null|FIREARM| 621|NORTHWEST|      WEST ARLINGTON| 39.3376| -76.6932|(39.3376,-76.6932)|           null|        null|              1| null|\n",
            "|1399111.0| 608687.6|   18|2022/02/26 01:28:...|       4A|   4400 FERNHILL AVE|  AGG. ASSAULT|          null|FIREARM| 621|NORTHWEST|      WEST ARLINGTON| 39.3376| -76.6932|(39.3376,-76.6932)|           null|        null|              1| null|\n",
            "|1399111.0| 608687.6|   19|2022/02/26 01:28:...|       4A|   4400 FERNHILL AVE|  AGG. ASSAULT|          null|FIREARM| 621|NORTHWEST|      WEST ARLINGTON| 39.3376| -76.6932|(39.3376,-76.6932)|           null|        null|              1| null|\n",
            "|1421674.0| 590597.8|   20|2022/02/26 10:30:...|       4E|        100 LIGHT ST|COMMON ASSAULT|          null|     NA| 113|  CENTRAL|       DOWNTOWN WEST| 39.2877| -76.6137|(39.2877,-76.6137)|           null|        null|              1| null|\n",
            "+---------+---------+-----+--------------------+---------+--------------------+--------------+--------------+-------+----+---------+--------------------+--------+---------+------------------+---------------+------------+---------------+-----+\n",
            "only showing top 20 rows\n",
            "\n",
            "root\n",
            " |-- X: float (nullable = true)\n",
            " |-- Y: float (nullable = true)\n",
            " |-- RowID: integer (nullable = true)\n",
            " |-- CrimeDateTime: string (nullable = true)\n",
            " |-- CrimeCode: string (nullable = true)\n",
            " |-- Location: string (nullable = true)\n",
            " |-- Description: string (nullable = true)\n",
            " |-- Inside_Outside: string (nullable = true)\n",
            " |-- Weapon: string (nullable = true)\n",
            " |-- Post: string (nullable = true)\n",
            " |-- District: string (nullable = true)\n",
            " |-- Neighborhood: string (nullable = true)\n",
            " |-- Latitude: float (nullable = true)\n",
            " |-- Longitude: float (nullable = true)\n",
            " |-- GeoLocation: string (nullable = true)\n",
            " |-- Premise: string (nullable = true)\n",
            " |-- VRIName: string (nullable = true)\n",
            " |-- Total_Incidents: integer (nullable = true)\n",
            " |-- Shape: integer (nullable = true)\n",
            "\n"
          ]
        }
      ]
    },
    {
      "cell_type": "code",
      "source": [
        "df.cache()"
      ],
      "metadata": {
        "colab": {
          "base_uri": "https://localhost:8080/"
        },
        "id": "wfWuWW3ZLvXY",
        "outputId": "767dc1a7-6bae-46ba-b979-97dc88dc5965"
      },
      "execution_count": 17,
      "outputs": [
        {
          "output_type": "execute_result",
          "data": {
            "text/plain": [
              "DataFrame[X: float, Y: float, RowID: int, CrimeDateTime: string, CrimeCode: string, Location: string, Description: string, Inside_Outside: string, Weapon: string, Post: string, District: string, Neighborhood: string, Latitude: float, Longitude: float, GeoLocation: string, Premise: string, VRIName: string, Total_Incidents: int, Shape: int]"
            ]
          },
          "metadata": {},
          "execution_count": 17
        }
      ]
    },
    {
      "cell_type": "code",
      "source": [
        "print(\"There are\", df.count(), \"rows!\")"
      ],
      "metadata": {
        "colab": {
          "base_uri": "https://localhost:8080/"
        },
        "id": "mOVfpqjZMbCZ",
        "outputId": "54f98740-f83a-4d42-f2dc-cd24d9f573d9"
      },
      "execution_count": 22,
      "outputs": [
        {
          "output_type": "stream",
          "name": "stdout",
          "text": [
            "There are 513158 rows!\n"
          ]
        }
      ]
    },
    {
      "cell_type": "code",
      "source": [
        "df.show(5)"
      ],
      "metadata": {
        "colab": {
          "base_uri": "https://localhost:8080/"
        },
        "id": "k8LkDmPCN-AD",
        "outputId": "51487308-65c8-4b43-e097-6b45bb200e32"
      },
      "execution_count": 24,
      "outputs": [
        {
          "output_type": "stream",
          "name": "stdout",
          "text": [
            "+---------+---------+-----+--------------------+---------+-------------------+--------------+--------------+-------+----+---------+----------------+--------+---------+------------------+---------------+------------+---------------+-----+\n",
            "|        X|        Y|RowID|       CrimeDateTime|CrimeCode|           Location|   Description|Inside_Outside| Weapon|Post| District|    Neighborhood|Latitude|Longitude|       GeoLocation|        Premise|     VRIName|Total_Incidents|Shape|\n",
            "+---------+---------+-----+--------------------+---------+-------------------+--------------+--------------+-------+----+---------+----------------+--------+---------+------------------+---------------+------------+---------------+-----+\n",
            "|1420074.1| 594160.6|    1|2022/02/26 04:00:...|       4E|  200 W MONUMENT ST|COMMON ASSAULT|          null|     NA| 124|  CENTRAL|    MOUNT VERNON| 39.2975| -76.6193|(39.2975,-76.6193)|           null|        null|              1| null|\n",
            "|1411374.2| 589791.4|    2|2022/02/26 01:26:...|       9S| 2100 FREDERICK AVE|      SHOOTING|       Outside|FIREARM| 835|SOUTHWEST|CARROLLTON RIDGE| 39.2856| -76.6501|(39.2856,-76.6501)|COMMON BUSINESS|Tri-District|              1| null|\n",
            "|1411401.1|582761.75|    3|2022/02/26 10:22:...|       4E| 2000 GRINNALDS AVE|COMMON ASSAULT|          null|     NA| 831|SOUTHWEST|    MORRELL PARK| 39.2663| -76.6501|(39.2663,-76.6501)|           null|        null|              1| null|\n",
            "|1422663.1| 597595.4|    4|2022/02/26 01:11:...|       7A|    400 E OLIVER ST|    AUTO THEFT|          null|     NA| 313|  EASTERN| GREENMOUNT WEST| 39.3069| -76.6101|(39.3069,-76.6101)|           null|        null|              1| null|\n",
            "|1440496.5| 607767.1|    5|2022/02/26 12:30:...|       4B|5300 PLAINFIELD AVE|  AGG. ASSAULT|          null|  KNIFE| 444|NORTHEAST|       FRANKFORD| 39.3346| -76.5469|(39.3346,-76.5469)|           null|        null|              1| null|\n",
            "+---------+---------+-----+--------------------+---------+-------------------+--------------+--------------+-------+----+---------+----------------+--------+---------+------------------+---------------+------------+---------------+-----+\n",
            "only showing top 5 rows\n",
            "\n"
          ]
        }
      ]
    },
    {
      "cell_type": "markdown",
      "source": [
        "# Following Questions:\n",
        "1. What are distinct crime codes?\n"
      ],
      "metadata": {
        "id": "wwuP2GmnOIkz"
      }
    },
    {
      "cell_type": "code",
      "source": [
        "import pyspark.sql.functions as func\n",
        "df.select(\"CrimeCode\").distinct().sort(\"CrimeCode\").show()"
      ],
      "metadata": {
        "colab": {
          "base_uri": "https://localhost:8080/"
        },
        "id": "5ZpbaqCFOAfT",
        "outputId": "243f4e77-5732-44ea-81d1-83c36f5c1a29"
      },
      "execution_count": 33,
      "outputs": [
        {
          "output_type": "stream",
          "name": "stdout",
          "text": [
            "+---------+\n",
            "|CrimeCode|\n",
            "+---------+\n",
            "|       1A|\n",
            "|       1K|\n",
            "|       1O|\n",
            "|       2A|\n",
            "|       2B|\n",
            "|      3AF|\n",
            "|     3AJF|\n",
            "|     3AJK|\n",
            "|     3AJO|\n",
            "|      3AK|\n",
            "|      3AO|\n",
            "|       3B|\n",
            "|      3BJ|\n",
            "|       3C|\n",
            "|      3CF|\n",
            "|      3CK|\n",
            "|      3CO|\n",
            "|       3D|\n",
            "|       3E|\n",
            "|      3EF|\n",
            "+---------+\n",
            "only showing top 20 rows\n",
            "\n"
          ]
        }
      ]
    },
    {
      "cell_type": "markdown",
      "source": [
        "2. Count the number of crimes by the crime codes and order by the resulting counts in descending order\n"
      ],
      "metadata": {
        "id": "Ow4pbpseOSuj"
      }
    },
    {
      "cell_type": "code",
      "source": [
        "df.select(\"CrimeCode\").groupBy(\"CrimeCode\").count().orderBy(\"count\", ascending = False).show(10)"
      ],
      "metadata": {
        "colab": {
          "base_uri": "https://localhost:8080/"
        },
        "id": "EUms8uEIOevo",
        "outputId": "26017493-4dec-4bd4-df4c-853fc329d54a"
      },
      "execution_count": 44,
      "outputs": [
        {
          "output_type": "stream",
          "name": "stdout",
          "text": [
            "+---------+-----+\n",
            "|CrimeCode|count|\n",
            "+---------+-----+\n",
            "|       4E|91650|\n",
            "|       6D|68427|\n",
            "|       5A|43928|\n",
            "|       7A|40274|\n",
            "|       6J|27636|\n",
            "|       6G|26858|\n",
            "|       6E|24300|\n",
            "|       6C|23227|\n",
            "|       4C|22438|\n",
            "|       5D|14971|\n",
            "+---------+-----+\n",
            "only showing top 10 rows\n",
            "\n"
          ]
        }
      ]
    },
    {
      "cell_type": "markdown",
      "source": [
        "3. Which neighborhood had most crimes?\n",
        "\n"
      ],
      "metadata": {
        "id": "NEgzhP3POWc7"
      }
    },
    {
      "cell_type": "code",
      "source": [
        "df.select(\"Neighborhood\").groupBy(\"Neighborhood\").count().orderBy(\"count\", ascending = False).show(1)"
      ],
      "metadata": {
        "colab": {
          "base_uri": "https://localhost:8080/"
        },
        "id": "AvmYZPlhOfMJ",
        "outputId": "17bb0fea-a40c-441c-cacf-0613db701465"
      },
      "execution_count": 45,
      "outputs": [
        {
          "output_type": "stream",
          "name": "stdout",
          "text": [
            "+------------+-----+\n",
            "|Neighborhood|count|\n",
            "+------------+-----+\n",
            "|    DOWNTOWN|17799|\n",
            "+------------+-----+\n",
            "only showing top 1 row\n",
            "\n"
          ]
        }
      ]
    },
    {
      "cell_type": "markdown",
      "source": [
        "Downtown had the most"
      ],
      "metadata": {
        "id": "cDO4rBNPaQ7d"
      }
    },
    {
      "cell_type": "markdown",
      "source": [
        "4. Which month of the year had most crimes?\n"
      ],
      "metadata": {
        "id": "myMVn3w3ObRZ"
      }
    },
    {
      "cell_type": "code",
      "source": [
        "#Converting the string to datetime was tedious and tiring so imma do this instead\n",
        "df = df.withColumn('Month', func.substring('CrimeDateTime', 6,2))\n",
        "df.printSchema()\n",
        "df.show(truncate=False)"
      ],
      "metadata": {
        "colab": {
          "base_uri": "https://localhost:8080/"
        },
        "id": "avMQMeGFOfn4",
        "outputId": "45f717a1-bda7-49fb-dc6c-4a534f6805cb"
      },
      "execution_count": 74,
      "outputs": [
        {
          "output_type": "stream",
          "name": "stdout",
          "text": [
            "root\n",
            " |-- X: float (nullable = true)\n",
            " |-- Y: float (nullable = true)\n",
            " |-- RowID: integer (nullable = true)\n",
            " |-- CrimeDateTime: string (nullable = true)\n",
            " |-- CrimeCode: string (nullable = true)\n",
            " |-- Location: string (nullable = true)\n",
            " |-- Description: string (nullable = true)\n",
            " |-- Inside_Outside: string (nullable = true)\n",
            " |-- Weapon: string (nullable = true)\n",
            " |-- Post: string (nullable = true)\n",
            " |-- District: string (nullable = true)\n",
            " |-- Neighborhood: string (nullable = true)\n",
            " |-- Latitude: float (nullable = true)\n",
            " |-- Longitude: float (nullable = true)\n",
            " |-- GeoLocation: string (nullable = true)\n",
            " |-- Premise: string (nullable = true)\n",
            " |-- VRIName: string (nullable = true)\n",
            " |-- Total_Incidents: integer (nullable = true)\n",
            " |-- Shape: integer (nullable = true)\n",
            " |-- Month: string (nullable = true)\n",
            "\n",
            "+---------+---------+-----+----------------------+---------+---------------------+--------------+--------------+-------+----+---------+--------------------------------+--------+---------+------------------+---------------+------------+---------------+-----+-----+\n",
            "|X        |Y        |RowID|CrimeDateTime         |CrimeCode|Location             |Description   |Inside_Outside|Weapon |Post|District |Neighborhood                    |Latitude|Longitude|GeoLocation       |Premise        |VRIName     |Total_Incidents|Shape|Month|\n",
            "+---------+---------+-----+----------------------+---------+---------------------+--------------+--------------+-------+----+---------+--------------------------------+--------+---------+------------------+---------------+------------+---------------+-----+-----+\n",
            "|1420074.1|594160.6 |1    |2022/02/26 04:00:00+00|4E       |200 W MONUMENT ST    |COMMON ASSAULT|null          |NA     |124 |CENTRAL  |MOUNT VERNON                    |39.2975 |-76.6193 |(39.2975,-76.6193)|null           |null        |1              |null |02   |\n",
            "|1411374.2|589791.4 |2    |2022/02/26 01:26:30+00|9S       |2100 FREDERICK AVE   |SHOOTING      |Outside       |FIREARM|835 |SOUTHWEST|CARROLLTON RIDGE                |39.2856 |-76.6501 |(39.2856,-76.6501)|COMMON BUSINESS|Tri-District|1              |null |02   |\n",
            "|1411401.1|582761.75|3    |2022/02/26 10:22:00+00|4E       |2000 GRINNALDS AVE   |COMMON ASSAULT|null          |NA     |831 |SOUTHWEST|MORRELL PARK                    |39.2663 |-76.6501 |(39.2663,-76.6501)|null           |null        |1              |null |02   |\n",
            "|1422663.1|597595.4 |4    |2022/02/26 01:11:00+00|7A       |400 E OLIVER ST      |AUTO THEFT    |null          |NA     |313 |EASTERN  |GREENMOUNT WEST                 |39.3069 |-76.6101 |(39.3069,-76.6101)|null           |null        |1              |null |02   |\n",
            "|1440496.5|607767.1 |5    |2022/02/26 12:30:00+00|4B       |5300 PLAINFIELD AVE  |AGG. ASSAULT  |null          |KNIFE  |444 |NORTHEAST|FRANKFORD                       |39.3346 |-76.5469 |(39.3346,-76.5469)|null           |null        |1              |null |02   |\n",
            "|1413036.1|584625.7 |6    |2022/02/26 05:40:00+00|5F       |1300 WESTERN AVE     |BURGLARY      |null          |NA     |941 |SOUTHERN |CARROLL - CAMDEN INDUSTRIAL AREA|39.2714 |-76.6443 |(39.2714,-76.6443)|null           |null        |1              |null |02   |\n",
            "|1413036.1|584625.7 |7    |2022/02/26 05:40:00+00|6G       |1300 WESTERN AVE     |LARCENY       |null          |NA     |941 |SOUTHERN |CARROLL - CAMDEN INDUSTRIAL AREA|39.2714 |-76.6443 |(39.2714,-76.6443)|null           |null        |1              |null |02   |\n",
            "|1413415.6|588925.1 |8    |2022/02/26 14:32:00+00|4E       |1600 WILKENS AVE     |COMMON ASSAULT|null          |NA     |935 |SOUTHERN |NEW SOUTHWEST/MOUNT CLARE       |39.2832 |-76.6429 |(39.2832,-76.6429)|null           |Tri-District|1              |null |02   |\n",
            "|1417569.9|597537.7 |9    |2022/02/26 03:05:00+00|4B       |300 MCMECHEN ST      |AGG. ASSAULT  |null          |KNIFE  |132 |CENTRAL  |BOLTON HILL                     |39.3068 |-76.6281 |(39.3068,-76.6281)|null           |null        |1              |null |02   |\n",
            "|1435909.8|608691.8 |10   |2022/02/26 14:10:00+00|4A       |3800 CEDARHURST RD   |AGG. ASSAULT  |null          |FIREARM|426 |NORTHEAST|WALTHERSON                      |39.3372 |-76.5631 |(39.3372,-76.5631)|null           |null        |1              |null |02   |\n",
            "|1426723.8|613566.75|11   |2022/02/26 19:30:00+00|4B       |1300 KITMORE RD      |AGG. ASSAULT  |null          |KNIFE  |413 |NORTHEAST|NEW NORTHWOOD                   |39.3507 |-76.5955 |(39.3507,-76.5955)|null           |null        |1              |null |02   |\n",
            "|1399111.0|608687.6 |12   |2022/02/26 01:28:00+00|4A       |4400 FERNHILL AVE    |AGG. ASSAULT  |null          |FIREARM|621 |NORTHWEST|WEST ARLINGTON                  |39.3376 |-76.6932 |(39.3376,-76.6932)|null           |null        |1              |null |02   |\n",
            "|1399111.0|608687.6 |13   |2022/02/26 01:28:00+00|4A       |4400 FERNHILL AVE    |AGG. ASSAULT  |null          |FIREARM|621 |NORTHWEST|WEST ARLINGTON                  |39.3376 |-76.6932 |(39.3376,-76.6932)|null           |null        |1              |null |02   |\n",
            "|1399111.0|608687.6 |14   |2022/02/26 01:28:00+00|4A       |4400 FERNHILL AVE    |AGG. ASSAULT  |null          |FIREARM|621 |NORTHWEST|WEST ARLINGTON                  |39.3376 |-76.6932 |(39.3376,-76.6932)|null           |null        |1              |null |02   |\n",
            "|1401970.8|607823.2 |15   |2022/02/26 19:30:00+00|4B       |3900 W COLD SPRING LN|AGG. ASSAULT  |null          |KNIFE  |623 |NORTHWEST|DOLFIELD                        |39.3352 |-76.6831 |(39.3352,-76.6831)|null           |null        |1              |null |02   |\n",
            "|1422005.4|592566.06|16   |2022/02/26 20:45:00+00|4A       |300 N CALVERT ST     |AGG. ASSAULT  |null          |FIREARM|111 |CENTRAL  |DOWNTOWN                        |39.2931 |-76.6125 |(39.2931,-76.6125)|null           |null        |1              |null |02   |\n",
            "|1399111.0|608687.6 |17   |2022/02/26 01:28:00+00|4A       |4400 FERNHILL AVE    |AGG. ASSAULT  |null          |FIREARM|621 |NORTHWEST|WEST ARLINGTON                  |39.3376 |-76.6932 |(39.3376,-76.6932)|null           |null        |1              |null |02   |\n",
            "|1399111.0|608687.6 |18   |2022/02/26 01:28:00+00|4A       |4400 FERNHILL AVE    |AGG. ASSAULT  |null          |FIREARM|621 |NORTHWEST|WEST ARLINGTON                  |39.3376 |-76.6932 |(39.3376,-76.6932)|null           |null        |1              |null |02   |\n",
            "|1399111.0|608687.6 |19   |2022/02/26 01:28:00+00|4A       |4400 FERNHILL AVE    |AGG. ASSAULT  |null          |FIREARM|621 |NORTHWEST|WEST ARLINGTON                  |39.3376 |-76.6932 |(39.3376,-76.6932)|null           |null        |1              |null |02   |\n",
            "|1421674.0|590597.8 |20   |2022/02/26 10:30:00+00|4E       |100 LIGHT ST         |COMMON ASSAULT|null          |NA     |113 |CENTRAL  |DOWNTOWN WEST                   |39.2877 |-76.6137 |(39.2877,-76.6137)|null           |null        |1              |null |02   |\n",
            "+---------+---------+-----+----------------------+---------+---------------------+--------------+--------------+-------+----+---------+--------------------------------+--------+---------+------------------+---------------+------------+---------------+-----+-----+\n",
            "only showing top 20 rows\n",
            "\n"
          ]
        }
      ]
    },
    {
      "cell_type": "code",
      "source": [
        "df.select(\"Month\").groupBy(\"Month\").count().orderBy(\"count\", ascending = False).show(1)"
      ],
      "metadata": {
        "colab": {
          "base_uri": "https://localhost:8080/"
        },
        "id": "oUirTFLZaBg7",
        "outputId": "d8b49163-861f-46b9-d81b-4cfd1ce10f9d"
      },
      "execution_count": 75,
      "outputs": [
        {
          "output_type": "stream",
          "name": "stdout",
          "text": [
            "+-----+-----+\n",
            "|Month|count|\n",
            "+-----+-----+\n",
            "|   08|46327|\n",
            "+-----+-----+\n",
            "only showing top 1 row\n",
            "\n"
          ]
        }
      ]
    },
    {
      "cell_type": "markdown",
      "source": [
        "August had the most"
      ],
      "metadata": {
        "id": "LUB_b0TSaNgN"
      }
    },
    {
      "cell_type": "markdown",
      "source": [
        "5. What weapons were used? \n"
      ],
      "metadata": {
        "id": "g7g6TNQcOcn0"
      }
    },
    {
      "cell_type": "markdown",
      "source": [
        "The following are the various weapons used"
      ],
      "metadata": {
        "id": "4RnrSndCafL3"
      }
    },
    {
      "cell_type": "code",
      "source": [
        "df.select(\"Weapon\").distinct().sort(\"Weapon\").show()"
      ],
      "metadata": {
        "colab": {
          "base_uri": "https://localhost:8080/"
        },
        "id": "4NpgB1R_OgJ_",
        "outputId": "cd9125e1-16b0-4c6e-d5a7-a2df6e0a1a72"
      },
      "execution_count": 77,
      "outputs": [
        {
          "output_type": "stream",
          "name": "stdout",
          "text": [
            "+-------+\n",
            "| Weapon|\n",
            "+-------+\n",
            "|   null|\n",
            "|   FIRE|\n",
            "|FIREARM|\n",
            "|  HANDS|\n",
            "|  KNIFE|\n",
            "|     NA|\n",
            "|  OTHER|\n",
            "+-------+\n",
            "\n"
          ]
        }
      ]
    },
    {
      "cell_type": "markdown",
      "source": [
        "If this question is asking what weapon was used that month:"
      ],
      "metadata": {
        "id": "YUYzR6mDavV_"
      }
    },
    {
      "cell_type": "code",
      "source": [
        "df.select(\"Weapon\").where(\"Month == 08\").show()"
      ],
      "metadata": {
        "colab": {
          "base_uri": "https://localhost:8080/"
        },
        "id": "58KgwvKia09z",
        "outputId": "10b026b3-f637-4735-bf7a-be4d1aef5577"
      },
      "execution_count": 81,
      "outputs": [
        {
          "output_type": "stream",
          "name": "stdout",
          "text": [
            "+------+\n",
            "|Weapon|\n",
            "+------+\n",
            "|    NA|\n",
            "|    NA|\n",
            "|    NA|\n",
            "|    NA|\n",
            "|    NA|\n",
            "|    NA|\n",
            "|    NA|\n",
            "|    NA|\n",
            "| OTHER|\n",
            "|    NA|\n",
            "|    NA|\n",
            "|    NA|\n",
            "|    NA|\n",
            "| KNIFE|\n",
            "|    NA|\n",
            "|    NA|\n",
            "| OTHER|\n",
            "| KNIFE|\n",
            "| KNIFE|\n",
            "|    NA|\n",
            "+------+\n",
            "only showing top 20 rows\n",
            "\n"
          ]
        }
      ]
    },
    {
      "cell_type": "markdown",
      "source": [
        "6. Which weapon was used the most?"
      ],
      "metadata": {
        "id": "MVIgzRnyOd0v"
      }
    },
    {
      "cell_type": "markdown",
      "source": [
        "If im assuming, the question means what weapon is used the most:"
      ],
      "metadata": {
        "id": "KAj52iE9bgeE"
      }
    },
    {
      "cell_type": "code",
      "source": [
        "df.select(\"Weapon\").groupBy(\"Weapon\").count().orderBy(\"count\", ascending = False).collect()[1]\n",
        "#Have to use collect cause I CANT SUBSCRIPT ANYTHING IN THIS $#%@*^ THING"
      ],
      "metadata": {
        "colab": {
          "base_uri": "https://localhost:8080/"
        },
        "id": "cNvZYNHXOgmO",
        "outputId": "03b65cb8-751f-44b9-d1ea-f4060a7b8739"
      },
      "execution_count": 94,
      "outputs": [
        {
          "output_type": "execute_result",
          "data": {
            "text/plain": [
              "Row(Weapon='FIREARM', count=46139)"
            ]
          },
          "metadata": {},
          "execution_count": 94
        }
      ]
    },
    {
      "cell_type": "markdown",
      "source": [
        "If the Question is refering to what was the most used weapon in aughust"
      ],
      "metadata": {
        "id": "DJKJ9B7QdDEJ"
      }
    },
    {
      "cell_type": "code",
      "source": [
        "df.select(\"Weapon\").where(\"Month == 08\").groupBy(\"Weapon\").count().orderBy(\"count\", ascending = False).collect()[1]"
      ],
      "metadata": {
        "colab": {
          "base_uri": "https://localhost:8080/"
        },
        "id": "KrwiQE8Cbre7",
        "outputId": "1e92ad36-c83f-434b-b2df-3353e1064c3f"
      },
      "execution_count": 95,
      "outputs": [
        {
          "output_type": "execute_result",
          "data": {
            "text/plain": [
              "Row(Weapon='FIREARM', count=4534)"
            ]
          },
          "metadata": {},
          "execution_count": 95
        }
      ]
    },
    {
      "cell_type": "code",
      "source": [
        ""
      ],
      "metadata": {
        "id": "dUwZizPxdTur"
      },
      "execution_count": null,
      "outputs": []
    }
  ]
}