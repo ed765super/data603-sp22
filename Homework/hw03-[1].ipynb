{
  "nbformat": 4,
  "nbformat_minor": 0,
  "metadata": {
    "colab": {
      "name": "DATA603_MrJob_hw3_Problem_1.ipynb",
      "provenance": []
    },
    "kernelspec": {
      "name": "python3",
      "display_name": "Python 3"
    },
    "language_info": {
      "name": "python"
    }
  },
  "cells": [
    {
      "cell_type": "markdown",
      "source": [
        "# Write three Python scripts using mrjob that tell  me:\n",
        "- Average number of words in each review (define  “words” however you like but be explicit about it)\n",
        "- Count of reviews by year-month (eg “2021-09”)\n",
        "- Average rating (number of stars) of any review marked ”cool” (eg  where cool != 0)\n"
      ],
      "metadata": {
        "id": "_bpFEonMnl-k"
      }
    },
    {
      "cell_type": "code",
      "execution_count": 1,
      "metadata": {
        "colab": {
          "base_uri": "https://localhost:8080/"
        },
        "id": "kkVVSQxyan2W",
        "outputId": "821149f0-bcd4-42b2-e357-2fa47a744fa0"
      },
      "outputs": [
        {
          "output_type": "stream",
          "name": "stdout",
          "text": [
            "Requirement already satisfied: mrjob in /usr/local/lib/python3.7/dist-packages (0.7.4)\n",
            "Requirement already satisfied: PyYAML>=3.10 in /usr/local/lib/python3.7/dist-packages (from mrjob) (3.13)\n"
          ]
        }
      ],
      "source": [
        "pip install mrjob"
      ]
    },
    {
      "cell_type": "code",
      "source": [
        "#Modify CSV to only include the target column\n",
        "import csv\n",
        "\n",
        "fileSize = 0\n",
        "\n",
        "# open input CSV file as source\n",
        "# open output CSV file as result\n",
        "with open(\"yelp.csv\", \"r\") as source:\n",
        "    reader = csv.reader(source)\n",
        "      \n",
        "    with open(\"yelpMod.csv\", \"w\") as result:\n",
        "        writer = csv.writer(result)\n",
        "        for r in reader:\n",
        "            fileSize=fileSize+1\n",
        "            # Use CSV Index to remove a column from CSV\n",
        "            #r[4] = r['text']\n",
        "            writer.writerow(r[4])"
      ],
      "metadata": {
        "id": "_FTQu9vQL-nl"
      },
      "execution_count": 2,
      "outputs": []
    },
    {
      "cell_type": "code",
      "source": [
        "#remove header\n",
        "fileSize = fileSize - 1"
      ],
      "metadata": {
        "id": "g--xUc1KOdbP"
      },
      "execution_count": 3,
      "outputs": []
    },
    {
      "cell_type": "code",
      "source": [
        "%%file wc.py\n",
        "from mrjob.job import MRJob\n",
        "\n",
        "class MRWordFrequencyCount(MRJob):\n",
        "\n",
        "    def mapper(self, _, line):\n",
        "        yield \"words\", len(line.split())\n",
        "\n",
        "    def reducer(self, key, values):\n",
        "        yield key, (sum(values) / 10000)\n",
        "#10000 is hardcoded because i couldnt figure out how to make MRJob accept a global variable\n",
        "\n",
        "if __name__ == '__main__':\n",
        "    MRWordFrequencyCount.run()"
      ],
      "metadata": {
        "colab": {
          "base_uri": "https://localhost:8080/"
        },
        "id": "6uE5AmO8bxFi",
        "outputId": "8b03d2a6-d3ee-45ae-f74c-7e8fed70bee5"
      },
      "execution_count": 4,
      "outputs": [
        {
          "output_type": "stream",
          "name": "stdout",
          "text": [
            "Overwriting wc.py\n"
          ]
        }
      ]
    },
    {
      "cell_type": "code",
      "source": [
        "import wc\n",
        "\n",
        "mr_job = wc.MRWordFrequencyCount(args=['yelpMod.csv'])\n",
        "with mr_job.make_runner() as runner:\n",
        "    runner.run()\n",
        "    for key, value in mr_job.parse_output(runner.cat_output()):\n",
        "        print(\"The Average number of \", key,\"is\", value)"
      ],
      "metadata": {
        "colab": {
          "base_uri": "https://localhost:8080/"
        },
        "id": "qMFEW5-UcBBo",
        "outputId": "d4a2bdad-94c1-47a2-a29e-6f3891e9957d"
      },
      "execution_count": 5,
      "outputs": [
        {
          "output_type": "stream",
          "name": "stderr",
          "text": [
            "No configs specified for inline runner\n"
          ]
        },
        {
          "output_type": "stream",
          "name": "stdout",
          "text": [
            "The Average number of  words is 136.3345\n"
          ]
        }
      ]
    },
    {
      "cell_type": "code",
      "source": [
        ""
      ],
      "metadata": {
        "id": "vLFTknBzcOMp"
      },
      "execution_count": 5,
      "outputs": []
    }
  ]
}