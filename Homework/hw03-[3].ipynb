{
  "nbformat": 4,
  "nbformat_minor": 0,
  "metadata": {
    "colab": {
      "name": "DATA603_MrJob_hw3_Problem_3.ipynb",
      "provenance": []
    },
    "kernelspec": {
      "name": "python3",
      "display_name": "Python 3"
    },
    "language_info": {
      "name": "python"
    }
  },
  "cells": [
    {
      "cell_type": "markdown",
      "source": [
        "# Write three Python scripts using mrjob that tell  me:\n",
        "- Average number of words in each review (define  “words” however you like but be explicit about it)\n",
        "- Count of reviews by year-month (eg “2021-09”)\n",
        "- <b> Average rating (number of stars) of any review marked ”cool” (eg  where cool != 0)</b>\n"
      ],
      "metadata": {
        "id": "_bpFEonMnl-k"
      }
    },
    {
      "cell_type": "code",
      "execution_count": 1,
      "metadata": {
        "colab": {
          "base_uri": "https://localhost:8080/"
        },
        "id": "kkVVSQxyan2W",
        "outputId": "c0537f62-f1c1-45d5-c45e-21330eee0e21"
      },
      "outputs": [
        {
          "output_type": "stream",
          "name": "stdout",
          "text": [
            "Requirement already satisfied: mrjob in /usr/local/lib/python3.7/dist-packages (0.7.4)\n",
            "Requirement already satisfied: PyYAML>=3.10 in /usr/local/lib/python3.7/dist-packages (from mrjob) (3.13)\n"
          ]
        }
      ],
      "source": [
        "pip install mrjob"
      ]
    },
    {
      "cell_type": "code",
      "source": [
        "#Modify CSV to only include the target column\n",
        "import csv\n",
        "length = 0\n",
        "# open input CSV file as source\n",
        "# open output CSV file as result\n",
        "with open(\"yelp.csv\", \"r\") as source:\n",
        "    reader = csv.reader(source)\n",
        "      \n",
        "    with open(\"yelpMod.csv\", \"w\") as result:\n",
        "        writer = csv.writer(result)\n",
        "        for r in reader:\n",
        "            # Use CSV Index to remove a column from CSV\n",
        "            #r[3] = r['stars']\n",
        "            #r[7] = r['cool']\n",
        "            if r[7] != '0':\n",
        "              length = length + 1\n",
        "              writer.writerow((r[3], r[7]))"
      ],
      "metadata": {
        "id": "_FTQu9vQL-nl"
      },
      "execution_count": 2,
      "outputs": []
    },
    {
      "cell_type": "code",
      "source": [
        "length"
      ],
      "metadata": {
        "colab": {
          "base_uri": "https://localhost:8080/"
        },
        "id": "p5_-dXnDO3Rj",
        "outputId": "00e45eaa-7b93-4f07-dc3c-f4e4d106bcc8"
      },
      "execution_count": 3,
      "outputs": [
        {
          "output_type": "execute_result",
          "data": {
            "text/plain": [
              "3711"
            ]
          },
          "metadata": {},
          "execution_count": 3
        }
      ]
    },
    {
      "cell_type": "code",
      "source": [
        "#Now that I have the stars that have some cool, I can remove the cool column\n",
        "import csv\n",
        "# open input CSV file as source\n",
        "# open output CSV file as result\n",
        "with open(\"yelpMod.csv\", \"r\") as source:\n",
        "    reader = csv.reader(source)\n",
        "      \n",
        "    with open(\"yelpMod2.csv\", \"w\") as result:\n",
        "        writer = csv.writer(result)\n",
        "        for r in reader:\n",
        "            # Use CSV Index to remove a column from CSV\n",
        "            #r[0] = r['stars']\n",
        "            #r[1] = r['cool']\n",
        "              writer.writerow(r[0])"
      ],
      "metadata": {
        "id": "VLYgKY_yPJ5M"
      },
      "execution_count": 4,
      "outputs": []
    },
    {
      "cell_type": "code",
      "source": [
        "%%file wc.py\n",
        "from mrjob.job import MRJob\n",
        "\n",
        "class MRWordFrequencyCount(MRJob):\n",
        "\n",
        "    def mapper(self, _, line):\n",
        "        yield \"stars\", len(line)\n",
        "\n",
        "    def reducer(self, key, values):\n",
        "        yield key, (sum(values) / 3711)\n",
        "#10000 is hardcoded because i couldnt figure out how to make MRJob accept a global variable\n",
        "\n",
        "if __name__ == '__main__':\n",
        "    MRWordFrequencyCount.run()"
      ],
      "metadata": {
        "colab": {
          "base_uri": "https://localhost:8080/"
        },
        "id": "6uE5AmO8bxFi",
        "outputId": "304d5ca4-fa0f-4a37-854c-fc9a4168b7cc"
      },
      "execution_count": 5,
      "outputs": [
        {
          "output_type": "stream",
          "name": "stdout",
          "text": [
            "Overwriting wc.py\n"
          ]
        }
      ]
    },
    {
      "cell_type": "code",
      "source": [
        "import wc\n",
        "\n",
        "mr_job = wc.MRWordFrequencyCount(args=['yelpMod2.csv'])\n",
        "with mr_job.make_runner() as runner:\n",
        "    runner.run()\n",
        "    for key, value in mr_job.parse_output(runner.cat_output()):\n",
        "        print(\"The Average number of \", key,\"is\", value)"
      ],
      "metadata": {
        "colab": {
          "base_uri": "https://localhost:8080/"
        },
        "id": "qMFEW5-UcBBo",
        "outputId": "ef5dee9d-a476-4730-b6ab-85762ee800bd"
      },
      "execution_count": 6,
      "outputs": [
        {
          "output_type": "stream",
          "name": "stderr",
          "text": [
            "No configs specified for inline runner\n"
          ]
        },
        {
          "output_type": "stream",
          "name": "stdout",
          "text": [
            "The Average number of  stars is 1.0021557531662624\n"
          ]
        }
      ]
    },
    {
      "cell_type": "code",
      "source": [
        ""
      ],
      "metadata": {
        "id": "vLFTknBzcOMp"
      },
      "execution_count": 6,
      "outputs": []
    }
  ]
}