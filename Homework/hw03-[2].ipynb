{
  "nbformat": 4,
  "nbformat_minor": 0,
  "metadata": {
    "colab": {
      "name": "DATA603_MrJob_hw3_Problem_2.ipynb",
      "provenance": []
    },
    "kernelspec": {
      "name": "python3",
      "display_name": "Python 3"
    },
    "language_info": {
      "name": "python"
    }
  },
  "cells": [
    {
      "cell_type": "markdown",
      "source": [
        "# Write three Python scripts using mrjob that tell  me:\n",
        "- Average number of words in each review (define  “words” however you like but be explicit about it)\n",
        "- <b> Count of reviews by year-month (eg “2021-09”) </b>\n",
        "- Average rating (number of stars) of any review marked ”cool” (eg  where cool != 0)\n"
      ],
      "metadata": {
        "id": "_bpFEonMnl-k"
      }
    },
    {
      "cell_type": "code",
      "execution_count": 1,
      "metadata": {
        "colab": {
          "base_uri": "https://localhost:8080/"
        },
        "id": "kkVVSQxyan2W",
        "outputId": "03eb42fe-74bc-41ed-8386-7984642dd1cd"
      },
      "outputs": [
        {
          "output_type": "stream",
          "name": "stdout",
          "text": [
            "Requirement already satisfied: mrjob in /usr/local/lib/python3.7/dist-packages (0.7.4)\n",
            "Requirement already satisfied: PyYAML>=3.10 in /usr/local/lib/python3.7/dist-packages (from mrjob) (3.13)\n"
          ]
        }
      ],
      "source": [
        "pip install mrjob"
      ]
    },
    {
      "cell_type": "code",
      "source": [
        "#Modify CSV to only include the target column\n",
        "import csv\n",
        "length = 0\n",
        "# open input CSV file as source\n",
        "# open output CSV file as result\n",
        "with open(\"yelp.csv\", \"r\") as source:\n",
        "    reader = csv.reader(source, delimiter=',')\n",
        "      \n",
        "    with open(\"yelpMod.csv\", \"w\") as result:\n",
        "        writer = csv.writer(result)\n",
        "        for r in reader:\n",
        "            # Use CSV Index to remove a column from CSV\n",
        "            #r[1] = r['date']\n",
        "            if length == 0:\n",
        "              length = length + 1\n",
        "            else:\n",
        "              length = length + 1\n",
        "              writer.writerow(r[1])"
      ],
      "metadata": {
        "id": "_FTQu9vQL-nl"
      },
      "execution_count": 2,
      "outputs": []
    },
    {
      "cell_type": "code",
      "source": [
        "with open(r'yelpMod.csv', 'r') as infile, \\\n",
        "     open(r'yelpMod2.csv', 'w') as outfile:\n",
        "    data = infile.read()\n",
        "    data = data.replace(\",\", \"\")\n",
        "    outfile.write(data)"
      ],
      "metadata": {
        "id": "nlAaq0UPdMIm"
      },
      "execution_count": 3,
      "outputs": []
    },
    {
      "cell_type": "code",
      "source": [
        "#checking to make sure I'm splitting correctly\n",
        "bday = \"1997-08-27\"\n",
        "bday[0:7].split('-')"
      ],
      "metadata": {
        "colab": {
          "base_uri": "https://localhost:8080/"
        },
        "id": "4Dp7OejyhAND",
        "outputId": "9f9da6f0-5614-4ba7-82ce-36cb367bed96"
      },
      "execution_count": 4,
      "outputs": [
        {
          "output_type": "execute_result",
          "data": {
            "text/plain": [
              "['1997', '08']"
            ]
          },
          "metadata": {},
          "execution_count": 4
        }
      ]
    },
    {
      "cell_type": "code",
      "source": [
        "length"
      ],
      "metadata": {
        "colab": {
          "base_uri": "https://localhost:8080/"
        },
        "id": "p5_-dXnDO3Rj",
        "outputId": "06d7cd29-8259-4f17-aeb8-71b03a47f532"
      },
      "execution_count": 5,
      "outputs": [
        {
          "output_type": "execute_result",
          "data": {
            "text/plain": [
              "10001"
            ]
          },
          "metadata": {},
          "execution_count": 5
        }
      ]
    },
    {
      "cell_type": "code",
      "source": [
        "%%file wc.py\n",
        "from mrjob.job import MRJob\n",
        "\n",
        "class MRWordFrequencyCount(MRJob):\n",
        "\n",
        "    def mapper(self, _, line):\n",
        "      for r in line:\n",
        "        yield (line[0:7], 1)\n",
        "\n",
        "    def reducer(self, key, values):\n",
        "        yield (key, sum(values))\n",
        "#10000 is hardcoded because i couldnt figure out how to make MRJob accept a global variable\n",
        "\n",
        "if __name__ == '__main__':\n",
        "    MRWordFrequencyCount.run()"
      ],
      "metadata": {
        "colab": {
          "base_uri": "https://localhost:8080/"
        },
        "id": "6uE5AmO8bxFi",
        "outputId": "51ca1271-de0b-4650-a84e-2f79c67ffb79"
      },
      "execution_count": 6,
      "outputs": [
        {
          "output_type": "stream",
          "name": "stdout",
          "text": [
            "Overwriting wc.py\n"
          ]
        }
      ]
    },
    {
      "cell_type": "code",
      "source": [
        "import wc\n",
        "\n",
        "#yelpMod2 contains only the dates with in %Y%m%d format\n",
        "mr_job = wc.MRWordFrequencyCount(args=['yelpMod2.csv'])\n",
        "with mr_job.make_runner() as runner:\n",
        "    runner.run()\n",
        "    for key, value in mr_job.parse_output(runner.cat_output()):\n",
        "        print(key, value)"
      ],
      "metadata": {
        "colab": {
          "base_uri": "https://localhost:8080/"
        },
        "id": "qMFEW5-UcBBo",
        "outputId": "149ead8b-8771-4f95-8e4f-53fea51ab3dd"
      },
      "execution_count": 7,
      "outputs": [
        {
          "output_type": "stream",
          "name": "stderr",
          "text": [
            "No configs specified for inline runner\n"
          ]
        },
        {
          "output_type": "stream",
          "name": "stdout",
          "text": [
            "2011-05 2290\n",
            "2011-06 2300\n",
            "2011-07 2360\n",
            "2011-08 2660\n",
            "2011-09 1930\n",
            "2011-10 2040\n",
            "2011-11 2030\n",
            "2011-12 2490\n",
            "2012-01 3040\n",
            "2012-02 2190\n",
            "2012-03 2590\n",
            "2005-04 10\n",
            "2005-07 20\n",
            "2005-12 10\n",
            "2006-01 60\n",
            "2006-02 90\n",
            "2006-04 20\n",
            "2006-05 10\n",
            "2006-06 50\n",
            "2006-07 20\n",
            "2006-08 90\n",
            "2006-09 40\n",
            "2006-10 50\n",
            "2006-11 60\n",
            "2006-12 60\n",
            "2007-01 140\n",
            "2007-02 200\n",
            "2007-03 420\n",
            "2007-04 80\n",
            "2007-05 230\n",
            "2007-06 120\n",
            "2007-07 350\n",
            "2007-08 290\n",
            "2007-09 260\n",
            "2007-10 230\n",
            "2007-11 280\n",
            "2007-12 250\n",
            "2008-01 460\n",
            "2008-02 480\n",
            "2008-03 470\n",
            "2008-04 530\n",
            "2008-05 650\n",
            "2008-06 760\n",
            "2008-07 800\n",
            "2008-08 750\n",
            "2008-09 590\n",
            "2008-10 790\n",
            "2008-11 660\n",
            "2008-12 710\n",
            "2009-01 1080\n",
            "2009-02 790\n",
            "2009-03 1260\n",
            "2009-04 1010\n",
            "2009-05 1010\n",
            "2009-06 670\n",
            "2009-07 950\n",
            "2009-08 980\n",
            "2009-09 1130\n",
            "2009-10 1010\n",
            "2009-11 780\n",
            "2009-12 1040\n",
            "2010-01 1540\n",
            "2010-02 1480\n",
            "2010-03 1680\n",
            "2010-04 1480\n",
            "2010-05 1540\n",
            "2010-06 1180\n",
            "2010-07 1600\n",
            "2010-08 2010\n",
            "2010-09 1500\n",
            "2010-10 1440\n",
            "2010-11 1470\n",
            "2010-12 1600\n",
            "2011-01 2390\n",
            "2011-02 2160\n",
            "2011-03 2630\n",
            "2011-04 2630\n",
            "2012-04 2650\n",
            "2012-05 2750\n",
            "2012-06 2720\n",
            "2012-07 2810\n",
            "2012-08 2490\n",
            "2012-09 2390\n",
            "2012-10 2580\n",
            "2012-11 2080\n",
            "2012-12 1960\n",
            "2013-01 520\n"
          ]
        }
      ]
    },
    {
      "cell_type": "code",
      "source": [
        ""
      ],
      "metadata": {
        "id": "vLFTknBzcOMp"
      },
      "execution_count": 7,
      "outputs": []
    }
  ]
}